{
 "cells": [
  {
   "cell_type": "markdown",
   "metadata": {},
   "source": [
    "## Chapter 3 problems"
   ]
  },
  {
   "cell_type": "code",
   "execution_count": 1,
   "metadata": {},
   "outputs": [],
   "source": [
    "from sympy import *\n",
    "init_printing()"
   ]
  },
  {
   "cell_type": "code",
   "execution_count": null,
   "metadata": {},
   "outputs": [],
   "source": []
  },
  {
   "cell_type": "code",
   "execution_count": 2,
   "metadata": {},
   "outputs": [
    {
     "data": {
      "image/png": "[encoded data removed]",
      "text/latex": [
       "$$\\left[\\begin{matrix}3 & 3\\\\2 & \\frac{3}{2}\\end{matrix}\\right]$$"
      ],
      "text/plain": [
       "⎡3   3 ⎤\n",
       "⎢      ⎥\n",
       "⎣2  3/2⎦"
      ]
     },
     "execution_count": 2,
     "metadata": {},
     "output_type": "execute_result"
    }
   ],
   "source": [
    "A = Matrix([\n",
    "[3,     3],\n",
    "[2, S(3)/2]])\n",
    "A"
   ]
  },
  {
   "cell_type": "code",
   "execution_count": 3,
   "metadata": {},
   "outputs": [],
   "source": [
    "b = Matrix([6,5])"
   ]
  },
  {
   "cell_type": "code",
   "execution_count": 4,
   "metadata": {},
   "outputs": [
    {
     "data": {
      "image/png": "[encoded data removed]",
      "text/latex": [
       "$$\\left[\\begin{matrix}3 & 3 & 6\\\\2 & \\frac{3}{2} & 5\\end{matrix}\\right]$$"
      ],
      "text/plain": [
       "⎡3   3   6⎤\n",
       "⎢         ⎥\n",
       "⎣2  3/2  5⎦"
      ]
     },
     "execution_count": 4,
     "metadata": {},
     "output_type": "execute_result"
    }
   ],
   "source": [
    "AUG = A.row_join(b)\n",
    "AUG # the augmented matrix"
   ]
  },
  {
   "cell_type": "markdown",
   "metadata": {},
   "source": [
    "### Alice"
   ]
  },
  {
   "cell_type": "code",
   "execution_count": 5,
   "metadata": {},
   "outputs": [
    {
     "data": {
      "image/png": "[encoded data removed]",
      "text/latex": [
       "$$\\left[\\begin{matrix}1 & 1 & 2\\\\2 & \\frac{3}{2} & 5\\end{matrix}\\right]$$"
      ],
      "text/plain": [
       "⎡1   1   2⎤\n",
       "⎢         ⎥\n",
       "⎣2  3/2  5⎦"
      ]
     },
     "execution_count": 5,
     "metadata": {},
     "output_type": "execute_result"
    }
   ],
   "source": [
    "AUGA = AUG.copy()\n",
    "AUGA[0,:] = AUGA[0,:]/3\n",
    "AUGA"
   ]
  },
  {
   "cell_type": "code",
   "execution_count": 6,
   "metadata": {},
   "outputs": [
    {
     "data": {
      "image/png": "[encoded data removed]",
      "text/latex": [
       "$$\\left[\\begin{matrix}1 & 1 & 2\\\\0 & - \\frac{1}{2} & 1\\end{matrix}\\right]$$"
      ],
      "text/plain": [
       "⎡1   1    2⎤\n",
       "⎢          ⎥\n",
       "⎣0  -1/2  1⎦"
      ]
     },
     "execution_count": 6,
     "metadata": {},
     "output_type": "execute_result"
    }
   ],
   "source": [
    "AUGA[1,:] = AUGA[1,:] - 2*AUGA[0,:]\n",
    "AUGA"
   ]
  },
  {
   "cell_type": "code",
   "execution_count": 7,
   "metadata": {},
   "outputs": [
    {
     "data": {
      "image/png": "[encoded data removed]",
      "text/latex": [
       "$$\\left[\\begin{matrix}1 & 1 & 2\\\\0 & 1 & -2\\end{matrix}\\right]$$"
      ],
      "text/plain": [
       "⎡1  1  2 ⎤\n",
       "⎢        ⎥\n",
       "⎣0  1  -2⎦"
      ]
     },
     "execution_count": 7,
     "metadata": {},
     "output_type": "execute_result"
    }
   ],
   "source": [
    "AUGA[1,:] = -2*AUGA[1,:]\n",
    "AUGA"
   ]
  },
  {
   "cell_type": "code",
   "execution_count": 8,
   "metadata": {},
   "outputs": [
    {
     "data": {
      "image/png": "[encoded data removed]",
      "text/latex": [
       "$$\\left[\\begin{matrix}1 & 0 & 4\\\\0 & 1 & -2\\end{matrix}\\right]$$"
      ],
      "text/plain": [
       "⎡1  0  4 ⎤\n",
       "⎢        ⎥\n",
       "⎣0  1  -2⎦"
      ]
     },
     "execution_count": 8,
     "metadata": {},
     "output_type": "execute_result"
    }
   ],
   "source": [
    "AUGA[0,:] = AUGA[0,:] - AUGA[1,:]\n",
    "AUGA"
   ]
  },
  {
   "cell_type": "markdown",
   "metadata": {},
   "source": [
    "### Bob"
   ]
  },
  {
   "cell_type": "code",
   "execution_count": 9,
   "metadata": {},
   "outputs": [
    {
     "data": {
      "image/png": "[encoded data removed]",
      "text/latex": [
       "$$\\left[\\begin{matrix}1 & \\frac{3}{2} & 1\\\\2 & \\frac{3}{2} & 5\\end{matrix}\\right]$$"
      ],
      "text/plain": [
       "⎡1  3/2  1⎤\n",
       "⎢         ⎥\n",
       "⎣2  3/2  5⎦"
      ]
     },
     "execution_count": 9,
     "metadata": {},
     "output_type": "execute_result"
    }
   ],
   "source": [
    "AUGB = AUG.copy()\n",
    "AUGB[0,:] = AUGB[0,:] - AUGB[1,:]\n",
    "AUGB"
   ]
  },
  {
   "cell_type": "code",
   "execution_count": 10,
   "metadata": {},
   "outputs": [
    {
     "data": {
      "image/png": "[encoded data removed]",
      "text/latex": [
       "$$\\left[\\begin{matrix}1 & \\frac{3}{2} & 1\\\\0 & - \\frac{3}{2} & 3\\end{matrix}\\right]$$"
      ],
      "text/plain": [
       "⎡1  3/2   1⎤\n",
       "⎢          ⎥\n",
       "⎣0  -3/2  3⎦"
      ]
     },
     "execution_count": 10,
     "metadata": {},
     "output_type": "execute_result"
    }
   ],
   "source": [
    "AUGB[1,:] = AUGB[1,:] - 2*AUGB[0,:]\n",
    "AUGB"
   ]
  },
  {
   "cell_type": "code",
   "execution_count": 11,
   "metadata": {},
   "outputs": [
    {
     "data": {
      "image/png": "[encoded data removed]",
      "text/latex": [
       "$$\\left[\\begin{matrix}1 & \\frac{3}{2} & 1\\\\0 & 1 & -2\\end{matrix}\\right]$$"
      ],
      "text/plain": [
       "⎡1  3/2  1 ⎤\n",
       "⎢          ⎥\n",
       "⎣0   1   -2⎦"
      ]
     },
     "execution_count": 11,
     "metadata": {},
     "output_type": "execute_result"
    }
   ],
   "source": [
    "AUGB[1,:] = -1*S(2)/3*AUGB[1,:]\n",
    "AUGB"
   ]
  },
  {
   "cell_type": "code",
   "execution_count": 12,
   "metadata": {},
   "outputs": [
    {
     "data": {
      "image/png": "[encoded data removed]",
      "text/latex": [
       "$$\\left[\\begin{matrix}1 & 0 & 4\\\\0 & 1 & -2\\end{matrix}\\right]$$"
      ],
      "text/plain": [
       "⎡1  0  4 ⎤\n",
       "⎢        ⎥\n",
       "⎣0  1  -2⎦"
      ]
     },
     "execution_count": 12,
     "metadata": {},
     "output_type": "execute_result"
    }
   ],
   "source": [
    "AUGB[0,:] = AUGB[0,:] - S(3)/2*AUGB[1,:]\n",
    "AUGB"
   ]
  },
  {
   "cell_type": "code",
   "execution_count": null,
   "metadata": {},
   "outputs": [],
   "source": []
  },
  {
   "cell_type": "markdown",
   "metadata": {},
   "source": [
    "### Charlotte"
   ]
  },
  {
   "cell_type": "code",
   "execution_count": 13,
   "metadata": {},
   "outputs": [
    {
     "data": {
      "image/png": "[encoded data removed]",
      "text/latex": [
       "$$\\left[\\begin{matrix}2 & \\frac{3}{2} & 5\\\\3 & 3 & 6\\end{matrix}\\right]$$"
      ],
      "text/plain": [
       "⎡2  3/2  5⎤\n",
       "⎢         ⎥\n",
       "⎣3   3   6⎦"
      ]
     },
     "execution_count": 13,
     "metadata": {},
     "output_type": "execute_result"
    }
   ],
   "source": [
    "AUGC = AUG.copy()\n",
    "AUGC[0,:], AUGC[1,:] = AUGC[1,:], AUGC[0,:]\n",
    "AUGC"
   ]
  },
  {
   "cell_type": "code",
   "execution_count": 14,
   "metadata": {},
   "outputs": [
    {
     "data": {
      "image/png": "[encoded data removed]",
      "text/latex": [
       "$$\\left[\\begin{matrix}1 & \\frac{3}{4} & \\frac{5}{2}\\\\3 & 3 & 6\\end{matrix}\\right]$$"
      ],
      "text/plain": [
       "⎡1  3/4  5/2⎤\n",
       "⎢           ⎥\n",
       "⎣3   3    6 ⎦"
      ]
     },
     "execution_count": 14,
     "metadata": {},
     "output_type": "execute_result"
    }
   ],
   "source": [
    "AUGC[0,:] = AUGC[0,:]/2\n",
    "AUGC"
   ]
  },
  {
   "cell_type": "code",
   "execution_count": 15,
   "metadata": {},
   "outputs": [
    {
     "data": {
      "image/png": "[encoded data removed]",
      "text/latex": [
       "$$\\left[\\begin{matrix}1 & \\frac{3}{4} & \\frac{5}{2}\\\\0 & \\frac{3}{4} & - \\frac{3}{2}\\end{matrix}\\right]$$"
      ],
      "text/plain": [
       "⎡1  3/4  5/2 ⎤\n",
       "⎢            ⎥\n",
       "⎣0  3/4  -3/2⎦"
      ]
     },
     "execution_count": 15,
     "metadata": {},
     "output_type": "execute_result"
    }
   ],
   "source": [
    "AUGC[1,:] = AUGC[1,:] - 3*AUGC[0,:]\n",
    "AUGC"
   ]
  },
  {
   "cell_type": "code",
   "execution_count": 16,
   "metadata": {},
   "outputs": [
    {
     "data": {
      "image/png": "[encoded data removed]",
      "text/latex": [
       "$$\\left[\\begin{matrix}1 & \\frac{3}{4} & \\frac{5}{2}\\\\0 & 1 & -2\\end{matrix}\\right]$$"
      ],
      "text/plain": [
       "⎡1  3/4  5/2⎤\n",
       "⎢           ⎥\n",
       "⎣0   1   -2 ⎦"
      ]
     },
     "execution_count": 16,
     "metadata": {},
     "output_type": "execute_result"
    }
   ],
   "source": [
    "AUGC[1,:] = S(4)/3*AUGC[1,:]\n",
    "AUGC"
   ]
  },
  {
   "cell_type": "code",
   "execution_count": 17,
   "metadata": {},
   "outputs": [
    {
     "data": {
      "image/png": "[encoded data removed]",
      "text/latex": [
       "$$\\left[\\begin{matrix}1 & 0 & 4\\\\0 & 1 & -2\\end{matrix}\\right]$$"
      ],
      "text/plain": [
       "⎡1  0  4 ⎤\n",
       "⎢        ⎥\n",
       "⎣0  1  -2⎦"
      ]
     },
     "execution_count": 17,
     "metadata": {},
     "output_type": "execute_result"
    }
   ],
   "source": [
    "AUGC[0,:] = AUGC[0,:] - S(3)/4*AUGC[1,:]\n",
    "AUGC"
   ]
  },
  {
   "cell_type": "markdown",
   "metadata": {},
   "source": [
    "### P3.3"
   ]
  },
  {
   "cell_type": "code",
   "execution_count": 18,
   "metadata": {},
   "outputs": [],
   "source": [
    "# define agmented matrices for three systems of eqns. with unique sol'ns\n",
    "A = Matrix([\n",
    "        [ -1, -2, -2],\n",
    "        [  3, 3, 0]])\n",
    "        \n",
    "B = Matrix([\n",
    "        [ 1, -1, -2,  1],\n",
    "        [-2,  3,  3, -1],\n",
    "        [-1,  0,  1,  2]])\n",
    "\n",
    "C = Matrix([\n",
    "        [ 2, -2,  3, 2],\n",
    "        [ 1, -2, -1, 0],\n",
    "        [-2,  2,  2, 1]])\n"
   ]
  },
  {
   "cell_type": "code",
   "execution_count": 19,
   "metadata": {},
   "outputs": [
    {
     "data": {
      "image/png": "[encoded data removed]",
      "text/latex": [
       "$$\\left[\\begin{matrix}-1 & -2 & -2\\\\3 & 3 & 0\\end{matrix}\\right]$$"
      ],
      "text/plain": [
       "⎡-1  -2  -2⎤\n",
       "⎢          ⎥\n",
       "⎣3   3   0 ⎦"
      ]
     },
     "execution_count": 19,
     "metadata": {},
     "output_type": "execute_result"
    }
   ],
   "source": [
    "A"
   ]
  },
  {
   "cell_type": "code",
   "execution_count": 20,
   "metadata": {},
   "outputs": [
    {
     "data": {
      "image/png": "[encoded data removed]",
      "text/latex": [
       "$$\\left ( \\left[\\begin{matrix}1 & 0 & -2\\\\0 & 1 & 2\\end{matrix}\\right], \\quad \\left ( 0, \\quad 1\\right )\\right )$$"
      ],
      "text/plain": [
       "⎛⎡1  0  -2⎤        ⎞\n",
       "⎜⎢        ⎥, (0, 1)⎟\n",
       "⎝⎣0  1  2 ⎦        ⎠"
      ]
     },
     "execution_count": 20,
     "metadata": {},
     "output_type": "execute_result"
    }
   ],
   "source": [
    "A.rref()"
   ]
  },
  {
   "cell_type": "code",
   "execution_count": 21,
   "metadata": {},
   "outputs": [
    {
     "data": {
      "image/png": "[encoded data removed]",
      "text/latex": [
       "$$\\left[\\begin{matrix}1 & -1 & -2 & 1\\\\-2 & 3 & 3 & -1\\\\-1 & 0 & 1 & 2\\end{matrix}\\right]$$"
      ],
      "text/plain": [
       "⎡1   -1  -2  1 ⎤\n",
       "⎢              ⎥\n",
       "⎢-2  3   3   -1⎥\n",
       "⎢              ⎥\n",
       "⎣-1  0   1   2 ⎦"
      ]
     },
     "execution_count": 21,
     "metadata": {},
     "output_type": "execute_result"
    }
   ],
   "source": [
    "B"
   ]
  },
  {
   "cell_type": "code",
   "execution_count": 22,
   "metadata": {},
   "outputs": [
    {
     "data": {
      "image/png": "[encoded data removed]",
      "text/latex": [
       "$$\\left ( \\left[\\begin{matrix}1 & 0 & 0 & -4\\\\0 & 1 & 0 & -1\\\\0 & 0 & 1 & -2\\end{matrix}\\right], \\quad \\left ( 0, \\quad 1, \\quad 2\\right )\\right )$$"
      ],
      "text/plain": [
       "⎛⎡1  0  0  -4⎤           ⎞\n",
       "⎜⎢           ⎥           ⎟\n",
       "⎜⎢0  1  0  -1⎥, (0, 1, 2)⎟\n",
       "⎜⎢           ⎥           ⎟\n",
       "⎝⎣0  0  1  -2⎦           ⎠"
      ]
     },
     "execution_count": 22,
     "metadata": {},
     "output_type": "execute_result"
    }
   ],
   "source": [
    "B.rref()"
   ]
  },
  {
   "cell_type": "code",
   "execution_count": 23,
   "metadata": {},
   "outputs": [
    {
     "data": {
      "image/png": "[encoded data removed]",
      "text/latex": [
       "$$\\left[\\begin{matrix}2 & -2 & 3 & 2\\\\1 & -2 & -1 & 0\\\\-2 & 2 & 2 & 1\\end{matrix}\\right]$$"
      ],
      "text/plain": [
       "⎡2   -2  3   2⎤\n",
       "⎢             ⎥\n",
       "⎢1   -2  -1  0⎥\n",
       "⎢             ⎥\n",
       "⎣-2  2   2   1⎦"
      ]
     },
     "execution_count": 23,
     "metadata": {},
     "output_type": "execute_result"
    }
   ],
   "source": [
    "C"
   ]
  },
  {
   "cell_type": "code",
   "execution_count": 24,
   "metadata": {},
   "outputs": [
    {
     "data": {
      "image/png": "[encoded data removed]",
      "text/latex": [
       "$$\\left ( \\left[\\begin{matrix}1 & 0 & 0 & - \\frac{2}{5}\\\\0 & 1 & 0 & - \\frac{1}{2}\\\\0 & 0 & 1 & \\frac{3}{5}\\end{matrix}\\right], \\quad \\left ( 0, \\quad 1, \\quad 2\\right )\\right )$$"
      ],
      "text/plain": [
       "⎛⎡1  0  0  -2/5⎤           ⎞\n",
       "⎜⎢             ⎥           ⎟\n",
       "⎜⎢0  1  0  -1/2⎥, (0, 1, 2)⎟\n",
       "⎜⎢             ⎥           ⎟\n",
       "⎝⎣0  0  1  3/5 ⎦           ⎠"
      ]
     },
     "execution_count": 24,
     "metadata": {},
     "output_type": "execute_result"
    }
   ],
   "source": [
    "C.rref()"
   ]
  },
  {
   "cell_type": "markdown",
   "metadata": {},
   "source": [
    "### P3.4"
   ]
  },
  {
   "cell_type": "code",
   "execution_count": 25,
   "metadata": {},
   "outputs": [],
   "source": [
    "# now for three systems of eqns. with infinitely many sol'ns\n",
    "D = Matrix([\n",
    "        [ -1, -2, -2],\n",
    "        [  3, 6,   6]])\n",
    "        \n",
    "E = Matrix([\n",
    "        [ 1, -1, -2,  1],\n",
    "        [-2,  3,  3, -1],\n",
    "        [-1,  2,  1,  0]])\n",
    "\n",
    "F = Matrix([\n",
    "        [ 2, -2, 3, 2],\n",
    "        [ 0,  0, 5, 3],\n",
    "        [-2,  2, 2, 1]])"
   ]
  },
  {
   "cell_type": "markdown",
   "metadata": {},
   "source": [
    "### Solving d)"
   ]
  },
  {
   "cell_type": "code",
   "execution_count": 26,
   "metadata": {},
   "outputs": [
    {
     "data": {
      "image/png": "[encoded data removed]",
      "text/latex": [
       "$$\\left[\\begin{matrix}-1 & -2 & -2\\\\3 & 6 & 6\\end{matrix}\\right]$$"
      ],
      "text/plain": [
       "⎡-1  -2  -2⎤\n",
       "⎢          ⎥\n",
       "⎣3   6   6 ⎦"
      ]
     },
     "execution_count": 26,
     "metadata": {},
     "output_type": "execute_result"
    }
   ],
   "source": [
    "D"
   ]
  },
  {
   "cell_type": "code",
   "execution_count": 27,
   "metadata": {},
   "outputs": [
    {
     "data": {
      "image/png": "[encoded data removed]",
      "text/latex": [
       "$$\\left ( \\left[\\begin{matrix}1 & 2 & 2\\\\0 & 0 & 0\\end{matrix}\\right], \\quad \\left ( 0\\right )\\right )$$"
      ],
      "text/plain": [
       "⎛⎡1  2  2⎤      ⎞\n",
       "⎜⎢       ⎥, (0,)⎟\n",
       "⎝⎣0  0  0⎦      ⎠"
      ]
     },
     "execution_count": 27,
     "metadata": {},
     "output_type": "execute_result"
    }
   ],
   "source": [
    "D.rref()"
   ]
  },
  {
   "cell_type": "code",
   "execution_count": 28,
   "metadata": {},
   "outputs": [
    {
     "data": {
      "image/png": "[encoded data removed]",
      "text/latex": [
       "$$\\left [ \\left[\\begin{matrix}-2\\\\1\\end{matrix}\\right]\\right ]$$"
      ],
      "text/plain": [
       "⎡⎡-2⎤⎤\n",
       "⎢⎢  ⎥⎥\n",
       "⎣⎣1 ⎦⎦"
      ]
     },
     "execution_count": 28,
     "metadata": {},
     "output_type": "execute_result"
    }
   ],
   "source": [
    "D[0:2,0:2].nullspace()"
   ]
  },
  {
   "cell_type": "code",
   "execution_count": 29,
   "metadata": {},
   "outputs": [],
   "source": [
    "# the solutions to the sytem of equations represented by D\n",
    "# is of the form    point + nullspace\n",
    "point = D.rref()[0][:,2]\n",
    "nullspace = D[0:2,0:2].nullspace()"
   ]
  },
  {
   "cell_type": "code",
   "execution_count": 30,
   "metadata": {},
   "outputs": [
    {
     "data": {
      "image/png": "[encoded data removed]",
      "text/latex": [
       "$$\\left[\\begin{matrix}2\\\\0\\end{matrix}\\right]$$"
      ],
      "text/plain": [
       "⎡2⎤\n",
       "⎢ ⎥\n",
       "⎣0⎦"
      ]
     },
     "execution_count": 30,
     "metadata": {},
     "output_type": "execute_result"
    }
   ],
   "source": [
    "# the point is also called he particular solution\n",
    "point"
   ]
  },
  {
   "cell_type": "code",
   "execution_count": 31,
   "metadata": {},
   "outputs": [
    {
     "name": "stdout",
     "output_type": "stream",
     "text": [
      "True\n"
     ]
    },
    {
     "data": {
      "image/png": "[encoded data removed]",
      "text/latex": [
       "$$\\left[\\begin{matrix}-2\\\\6\\end{matrix}\\right]$$"
      ],
      "text/plain": [
       "⎡-2⎤\n",
       "⎢  ⎥\n",
       "⎣6 ⎦"
      ]
     },
     "execution_count": 31,
     "metadata": {},
     "output_type": "execute_result"
    }
   ],
   "source": [
    "# if A aug matrix is [A|b], then the point satisfies A*point = b.\n",
    "print( D[0:2,0:2]*point == D[:,2] )\n",
    "D[0:2,0:2]*point"
   ]
  },
  {
   "cell_type": "markdown",
   "metadata": {},
   "source": [
    "### Null space"
   ]
  },
  {
   "cell_type": "code",
   "execution_count": 32,
   "metadata": {},
   "outputs": [
    {
     "data": {
      "image/png": "[encoded data removed]",
      "text/latex": [
       "$$\\left[\\begin{matrix}-2\\\\1\\end{matrix}\\right]$$"
      ],
      "text/plain": [
       "⎡-2⎤\n",
       "⎢  ⎥\n",
       "⎣1 ⎦"
      ]
     },
     "execution_count": 32,
     "metadata": {},
     "output_type": "execute_result"
    }
   ],
   "source": [
    "# the nullspace of A in aug. matrix [A|b] is one dimensional and spanned by\n",
    "n = nullspace[0]\n",
    "n\n",
    "# every vector n in the nullspace of A satisfies  A*n=0"
   ]
  },
  {
   "cell_type": "code",
   "execution_count": 33,
   "metadata": {},
   "outputs": [
    {
     "name": "stdout",
     "output_type": "stream",
     "text": [
      "Matrix([[-2], [6]]) True\n",
      "Matrix([[-2], [6]]) True\n",
      "Matrix([[-2], [6]]) True\n",
      "Matrix([[-2], [6]]) True\n",
      "Matrix([[-2], [6]]) True\n",
      "Matrix([[-2], [6]]) True\n",
      "Matrix([[-2], [6]]) True\n",
      "Matrix([[-2], [6]]) True\n",
      "Matrix([[-2], [6]]) True\n",
      "Matrix([[-2], [6]]) True\n",
      "Matrix([[-2], [6]]) True\n"
     ]
    }
   ],
   "source": [
    "# so solution to A*x=b is any (point+s*n) where s is any real number\n",
    "# since  A*(point +s*n) = A*point + sA*n = A*point + 0 = b.\n",
    "# verify claim for 20 values of s in range -5,-4,-3,-2,-1,0,1,2,3,4,5\n",
    "for s in range(-5,6):\n",
    "    print( D[0:2,0:2]*(point + s*n), \n",
    "           D[0:2,0:2]*(point + s*n) == D[:,2] )"
   ]
  },
  {
   "cell_type": "markdown",
   "metadata": {},
   "source": [
    "### Solving e)"
   ]
  },
  {
   "cell_type": "code",
   "execution_count": 34,
   "metadata": {},
   "outputs": [
    {
     "data": {
      "image/png": "[encoded data removed]",
      "text/latex": [
       "$$\\left[\\begin{matrix}1 & -1 & -2 & 1\\\\-2 & 3 & 3 & -1\\\\-1 & 2 & 1 & 0\\end{matrix}\\right]$$"
      ],
      "text/plain": [
       "⎡1   -1  -2  1 ⎤\n",
       "⎢              ⎥\n",
       "⎢-2  3   3   -1⎥\n",
       "⎢              ⎥\n",
       "⎣-1  2   1   0 ⎦"
      ]
     },
     "execution_count": 34,
     "metadata": {},
     "output_type": "execute_result"
    }
   ],
   "source": [
    "E"
   ]
  },
  {
   "cell_type": "code",
   "execution_count": 35,
   "metadata": {},
   "outputs": [
    {
     "data": {
      "image/png": "[encoded data removed]",
      "text/latex": [
       "$$\\left ( \\left[\\begin{matrix}1 & 0 & -3 & 2\\\\0 & 1 & -1 & 1\\\\0 & 0 & 0 & 0\\end{matrix}\\right], \\quad \\left ( 0, \\quad 1\\right )\\right )$$"
      ],
      "text/plain": [
       "⎛⎡1  0  -3  2⎤        ⎞\n",
       "⎜⎢           ⎥        ⎟\n",
       "⎜⎢0  1  -1  1⎥, (0, 1)⎟\n",
       "⎜⎢           ⎥        ⎟\n",
       "⎝⎣0  0  0   0⎦        ⎠"
      ]
     },
     "execution_count": 35,
     "metadata": {},
     "output_type": "execute_result"
    }
   ],
   "source": [
    "E.rref()"
   ]
  },
  {
   "cell_type": "code",
   "execution_count": 36,
   "metadata": {},
   "outputs": [
    {
     "data": {
      "image/png": "[encoded data removed]",
      "text/latex": [
       "$$\\left[\\begin{matrix}3 s + 2\\\\s + 1\\\\s\\end{matrix}\\right]$$"
      ],
      "text/plain": [
       "⎡3⋅s + 2⎤\n",
       "⎢       ⎥\n",
       "⎢ s + 1 ⎥\n",
       "⎢       ⎥\n",
       "⎣   s   ⎦"
      ]
     },
     "execution_count": 36,
     "metadata": {},
     "output_type": "execute_result"
    }
   ],
   "source": [
    "point_E = E.rref()[0][:,3]\n",
    "nullspace_E = E[0:3,0:3].nullspace()[0]\n",
    "s = symbols('s')\n",
    "point_E + s*nullspace_E"
   ]
  },
  {
   "cell_type": "markdown",
   "metadata": {},
   "source": [
    "### Solving f)"
   ]
  },
  {
   "cell_type": "code",
   "execution_count": 37,
   "metadata": {},
   "outputs": [
    {
     "data": {
      "image/png": "[encoded data removed]",
      "text/latex": [
       "$$\\left[\\begin{matrix}2 & -2 & 3 & 2\\\\0 & 0 & 5 & 3\\\\-2 & 2 & 2 & 1\\end{matrix}\\right]$$"
      ],
      "text/plain": [
       "⎡2   -2  3  2⎤\n",
       "⎢            ⎥\n",
       "⎢0   0   5  3⎥\n",
       "⎢            ⎥\n",
       "⎣-2  2   2  1⎦"
      ]
     },
     "execution_count": 37,
     "metadata": {},
     "output_type": "execute_result"
    }
   ],
   "source": [
    "F"
   ]
  },
  {
   "cell_type": "code",
   "execution_count": 38,
   "metadata": {},
   "outputs": [
    {
     "data": {
      "image/png": "[encoded data removed]",
      "text/latex": [
       "$$\\left ( \\left[\\begin{matrix}1 & -1 & 0 & \\frac{1}{10}\\\\0 & 0 & 1 & \\frac{3}{5}\\\\0 & 0 & 0 & 0\\end{matrix}\\right], \\quad \\left ( 0, \\quad 2\\right )\\right )$$"
      ],
      "text/plain": [
       "⎛⎡1  -1  0  1/10⎤        ⎞\n",
       "⎜⎢              ⎥        ⎟\n",
       "⎜⎢0  0   1  3/5 ⎥, (0, 2)⎟\n",
       "⎜⎢              ⎥        ⎟\n",
       "⎝⎣0  0   0   0  ⎦        ⎠"
      ]
     },
     "execution_count": 38,
     "metadata": {},
     "output_type": "execute_result"
    }
   ],
   "source": [
    "F.rref()"
   ]
  },
  {
   "cell_type": "code",
   "execution_count": 39,
   "metadata": {},
   "outputs": [
    {
     "data": {
      "image/png": "[encoded data removed]",
      "text/latex": [
       "$$\\left[\\begin{matrix}s + \\frac{1}{10}\\\\s + \\frac{3}{5}\\\\0\\end{matrix}\\right]$$"
      ],
      "text/plain": [
       "⎡s + 1/10⎤\n",
       "⎢        ⎥\n",
       "⎢s + 3/5 ⎥\n",
       "⎢        ⎥\n",
       "⎣   0    ⎦"
      ]
     },
     "execution_count": 39,
     "metadata": {},
     "output_type": "execute_result"
    }
   ],
   "source": [
    "point_F = F.rref()[0][:,3]\n",
    "nullspace_F = F[0:3,0:3].nullspace()[0]\n",
    "s = symbols('s')\n",
    "point_F + s*nullspace_F"
   ]
  },
  {
   "cell_type": "code",
   "execution_count": null,
   "metadata": {},
   "outputs": [],
   "source": []
  }
 ],
 "metadata": {
  "kernelspec": {
   "display_name": "Python 3",
   "language": "python",
   "name": "python3"
  },
  "language_info": {
   "codemirror_mode": {
    "name": "ipython",
    "version": 3
   },
   "file_extension": ".py",
   "mimetype": "text/x-python",
   "name": "python",
   "nbconvert_exporter": "python",
   "pygments_lexer": "ipython3",
   "version": "3.6.5"
  }
 },
 "nbformat": 4,
 "nbformat_minor": 1
}
