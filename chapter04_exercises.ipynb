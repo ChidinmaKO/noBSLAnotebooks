{
 "cells": [
  {
   "cell_type": "code",
   "execution_count": 1,
   "metadata": {},
   "outputs": [],
   "source": [
    "from sympy import *\n",
    "init_printing()\n",
    "\n",
    "%matplotlib notebook\n",
    "import matplotlib.pyplot as mpl\n",
    "from util.plot_helpers import plot_augmat, plot_plane, plot_point, plot_line, plot_vec, plot_vecs\n",
    "\n",
    "Vector = Matrix  # define alias Vector so I don't have to explain this during video\n",
    "Point = Vector   # define alias Point for Vector since they're the same thing\n"
   ]
  },
  {
   "cell_type": "markdown",
   "metadata": {},
   "source": [
    "### E4.5\n",
    "\n"
   ]
  },
  {
   "cell_type": "code",
   "execution_count": 2,
   "metadata": {},
   "outputs": [],
   "source": [
    "# Given point r\n",
    "r = Point([1,3,0])\n",
    "\n",
    "# line L\n",
    "pL = Point([0,0,2])\n",
    "vL = Vector([1,-1,0])  # note this changed in v2.2 of LA book\n",
    "\n",
    "# plane P\n",
    "nP = Vector([1,1,1])\n",
    "dP = 1\n",
    "\n",
    "# compute the following closest distances:"
   ]
  },
  {
   "cell_type": "code",
   "execution_count": 3,
   "metadata": {},
   "outputs": [
    {
     "data": {
      "image/png": "[encoded data removed]",
      "text/latex": [
       "$\\displaystyle \\sqrt{10}$"
      ],
      "text/plain": [
       "√10"
      ]
     },
     "execution_count": 3,
     "metadata": {},
     "output_type": "execute_result"
    }
   ],
   "source": [
    "# a)  d(r,O) = ||r||\n",
    "r.norm()"
   ]
  },
  {
   "cell_type": "code",
   "execution_count": 4,
   "metadata": {},
   "outputs": [
    {
     "data": {
      "image/png": "[encoded data removed]",
      "text/latex": [
       "$\\displaystyle 2$"
      ],
      "text/plain": [
       "2"
      ]
     },
     "execution_count": 4,
     "metadata": {},
     "output_type": "execute_result"
    }
   ],
   "source": [
    "# b)   d(L,O) = || pL - proj_{L}(pL) ||\n",
    "(pL - (pL.dot(vL)/vL.norm()**2)*vL).norm()"
   ]
  },
  {
   "cell_type": "code",
   "execution_count": 5,
   "metadata": {},
   "outputs": [
    {
     "data": {
      "image/png": "[encoded data removed]",
      "text/latex": [
       "$\\displaystyle \\frac{\\sqrt{3}}{3}$"
      ],
      "text/plain": [
       "√3\n",
       "──\n",
       "3 "
      ]
     },
     "execution_count": 5,
     "metadata": {},
     "output_type": "execute_result"
    }
   ],
   "source": [
    "# c)   d(P,O) = || proj_{nP}(pP) ||\n",
    "pP = Matrix([1,0,0])\n",
    "( (nP.dot(pP)/nP.norm()**2)*nP).norm()"
   ]
  },
  {
   "cell_type": "code",
   "execution_count": 6,
   "metadata": {},
   "outputs": [
    {
     "data": {
      "image/png": "[encoded data removed]",
      "text/latex": [
       "$\\displaystyle 2 \\sqrt{3}$"
      ],
      "text/plain": [
       "2⋅√3"
      ]
     },
     "execution_count": 6,
     "metadata": {},
     "output_type": "execute_result"
    }
   ],
   "source": [
    "# d)   u=pL-r   d(r,L)=||u - proj_{L}(u)||\n",
    "u = pL - r\n",
    "(u - (u.dot(vL)/vL.norm()**2)*vL).norm()"
   ]
  },
  {
   "cell_type": "code",
   "execution_count": 7,
   "metadata": {},
   "outputs": [
    {
     "data": {
      "image/png": "[encoded data removed]",
      "text/latex": [
       "$\\displaystyle \\sqrt{3}$"
      ],
      "text/plain": [
       "√3"
      ]
     },
     "execution_count": 7,
     "metadata": {},
     "output_type": "execute_result"
    }
   ],
   "source": [
    "# e)     v=pP-r   d(r,P)=||proj_{nP}(v)||\n",
    "pP = Matrix([1,0,0])\n",
    "v = pP - r\n",
    "( (nP.dot(v)/nP.norm()**2)*nP).norm()"
   ]
  },
  {
   "cell_type": "code",
   "execution_count": 8,
   "metadata": {},
   "outputs": [
    {
     "name": "stdout",
     "output_type": "stream",
     "text": [
      "vL·nP = 0 so line is parallel to plane. OK to proceed...\n"
     ]
    },
    {
     "data": {
      "image/png": "[encoded data removed]",
      "text/latex": [
       "$\\displaystyle \\frac{\\sqrt{3}}{3}$"
      ],
      "text/plain": [
       "√3\n",
       "──\n",
       "3 "
      ]
     },
     "execution_count": 8,
     "metadata": {},
     "output_type": "execute_result"
    }
   ],
   "source": [
    "#f)  d(L,P)\n",
    "# STEP1: check relative orientation of L and P\n",
    "print('vL·nP =', vL.dot(nP), 'so line is parallel to plane. OK to proceed...')\n",
    "# STEP2: find vector w=pP-pL arbitrary points on plane nad line,\n",
    "pP = Matrix([1,0,0])\n",
    "w = pP - pL\n",
    "# then compute component of w in perp. to the plane    d(L,P)=||proj_{nP}(w)||\n",
    "( (nP.dot(w)/nP.norm()**2)*nP).norm()"
   ]
  },
  {
   "cell_type": "code",
   "execution_count": 9,
   "metadata": {},
   "outputs": [],
   "source": [
    "# # debug viz to make sure L parallel to P\n",
    "# plot_vec(5*vL, at=pL, color='b')\n",
    "# plot_vec(-5*vL, at=pL, color='b')\n",
    "# plot_vec(w, color='r', at=pL)\n",
    "# plot_plane(nP,dP)"
   ]
  },
  {
   "cell_type": "code",
   "execution_count": null,
   "metadata": {},
   "outputs": [],
   "source": []
  },
  {
   "cell_type": "code",
   "execution_count": null,
   "metadata": {},
   "outputs": [],
   "source": []
  },
  {
   "cell_type": "markdown",
   "metadata": {},
   "source": [
    "### E4.7\n"
   ]
  },
  {
   "cell_type": "code",
   "execution_count": 10,
   "metadata": {},
   "outputs": [],
   "source": [
    "# Setup the variables of the exercise:\n",
    "p = Point([10,10,10])\n",
    "pL1 = Point([3,0,5])   # an arbitrary point on L1\n",
    "pL2 = Point([6,0,0])   # an arbitrary point on L2\n",
    "d = Vector([1,-2,0])   # direction vector of L1 and L2\n",
    "\n"
   ]
  },
  {
   "cell_type": "markdown",
   "metadata": {},
   "source": [
    "a) Projection of $p$ onto $\\ell_1$"
   ]
  },
  {
   "cell_type": "code",
   "execution_count": 11,
   "metadata": {},
   "outputs": [
    {
     "data": {
      "image/png": "[encoded data removed]",
      "text/latex": [
       "$\\displaystyle \\left[\\begin{matrix}\\frac{2}{5}\\\\\\frac{26}{5}\\\\5\\end{matrix}\\right]$"
      ],
      "text/plain": [
       "⎡2/5 ⎤\n",
       "⎢    ⎥\n",
       "⎢26/5⎥\n",
       "⎢    ⎥\n",
       "⎣ 5  ⎦"
      ]
     },
     "execution_count": 11,
     "metadata": {},
     "output_type": "execute_result"
    }
   ],
   "source": [
    "# define a vector from a point on L1 to p:\n",
    "v1 = p - pL1\n",
    "\n",
    "# proj_{L1}(p) = proj_{L1}(v1) + pL1 \n",
    "p_proj_L1 = (d.dot(v1)/d.norm()**2)*d + pL1\n",
    "p_proj_L1"
   ]
  },
  {
   "cell_type": "markdown",
   "metadata": {},
   "source": [
    "^ This is the point on the line $\\ell_1$ that is closes to the point $p$"
   ]
  },
  {
   "cell_type": "markdown",
   "metadata": {},
   "source": [
    "b) (shortest) distance form $p$ to $\\ell_1$"
   ]
  },
  {
   "cell_type": "code",
   "execution_count": 12,
   "metadata": {},
   "outputs": [
    {
     "data": {
      "image/png": "[encoded data removed]",
      "text/latex": [
       "$\\displaystyle \\frac{\\sqrt{3505}}{5}$"
      ],
      "text/plain": [
       "√3505\n",
       "─────\n",
       "  5  "
      ]
     },
     "execution_count": 12,
     "metadata": {},
     "output_type": "execute_result"
    }
   ],
   "source": [
    "# d(p, L1) = subtract from v1 the part that is perp to L1 and compute the length:\n",
    "(v1 - (d.dot(v1)/d.norm()**2)*d).norm()"
   ]
  },
  {
   "cell_type": "code",
   "execution_count": 13,
   "metadata": {},
   "outputs": [
    {
     "data": {
      "image/png": "[encoded data removed]",
      "text/latex": [
       "$\\displaystyle \\frac{\\sqrt{3505}}{5}$"
      ],
      "text/plain": [
       "√3505\n",
       "─────\n",
       "  5  "
      ]
     },
     "execution_count": 13,
     "metadata": {},
     "output_type": "execute_result"
    }
   ],
   "source": [
    "# ... or compute the distance directly:\n",
    "(p_proj_L1-p).norm()"
   ]
  },
  {
   "cell_type": "code",
   "execution_count": 14,
   "metadata": {},
   "outputs": [
    {
     "data": {
      "image/png": "[encoded data removed]",
      "text/latex": [
       "$\\displaystyle 11.8406080924925$"
      ],
      "text/plain": [
       "11.8406080924925"
      ]
     },
     "execution_count": 14,
     "metadata": {},
     "output_type": "execute_result"
    }
   ],
   "source": [
    "(p_proj_L1-p).norm().n()  # numeric approx."
   ]
  },
  {
   "cell_type": "code",
   "execution_count": 15,
   "metadata": {},
   "outputs": [
    {
     "data": {
      "application/javascript": [
       "/* Put everything inside the global mpl namespace */\n",
       "window.mpl = {};\n",
       "\n",
       "\n",
       "mpl.get_websocket_type = function() {\n",
       "    if (typeof(WebSocket) !== 'undefined') {\n",
       "        return WebSocket;\n",
       "    } else if (typeof(MozWebSocket) !== 'undefined') {\n",
       "        return MozWebSocket;\n",
       "    } else {\n",
       "        alert('Your browser does not have WebSocket support.' +\n",
       "              'Please try Chrome, Safari or Firefox ≥ 6. ' +\n",
       "              'Firefox 4 and 5 are also supported but you ' +\n",
       "              'have to enable WebSockets in about:config.');\n",
       "    };\n",
       "}\n",
       "\n",
       "mpl.figure = function(figure_id, websocket, ondownload, parent_element) {\n",
       "    this.id = figure_id;\n",
       "\n",
       "    this.ws = websocket;\n",
       "\n",
       "    this.supports_binary = (this.ws.binaryType != undefined);\n",
       "\n",
       "    if (!this.supports_binary) {\n",
       "        var warnings = document.getElementById(\"mpl-warnings\");\n",
       "        if (warnings) {\n",
       "            warnings.style.display = 'block';\n",
       "            warnings.textContent = (\n",
       "                \"This browser does not support binary websocket messages. \" +\n",
       "                    \"Performance may be slow.\");\n",
       "        }\n",
       "    }\n",
       "\n",
       "    this.imageObj = new Image();\n",
       "\n",
       "    this.context = undefined;\n",
       "    this.message = undefined;\n",
       "    this.canvas = undefined;\n",
       "    this.rubberband_canvas = undefined;\n",
       "    this.rubberband_context = undefined;\n",
       "    this.format_dropdown = undefined;\n",
       "\n",
       "    this.image_mode = 'full';\n",
       "\n",
       "    this.root = $('<div/>');\n",
       "    this._root_extra_style(this.root)\n",
       "    this.root.attr('style', 'display: inline-block');\n",
       "\n",
       "    $(parent_element).append(this.root);\n",
       "\n",
       "    this._init_header(this);\n",
       "    this._init_canvas(this);\n",
       "    this._init_toolbar(this);\n",
       "\n",
       "    var fig = this;\n",
       "\n",
       "    this.waiting = false;\n",
       "\n",
       "    this.ws.onopen =  function () {\n",
       "            fig.send_message(\"supports_binary\", {value: fig.supports_binary});\n",
       "            fig.send_message(\"send_image_mode\", {});\n",
       "            if (mpl.ratio != 1) {\n",
       "                fig.send_message(\"set_dpi_ratio\", {'dpi_ratio': mpl.ratio});\n",
       "            }\n",
       "            fig.send_message(\"refresh\", {});\n",
       "        }\n",
       "\n",
       "    this.imageObj.onload = function() {\n",
       "            if (fig.image_mode == 'full') {\n",
       "                // Full images could contain transparency (where diff images\n",
       "                // almost always do), so we need to clear the canvas so that\n",
       "                // there is no ghosting.\n",
       "                fig.context.clearRect(0, 0, fig.canvas.width, fig.canvas.height);\n",
       "            }\n",
       "            fig.context.drawImage(fig.imageObj, 0, 0);\n",
       "        };\n",
       "\n",
       "    this.imageObj.onunload = function() {\n",
       "        fig.ws.close();\n",
       "    }\n",
       "\n",
       "    this.ws.onmessage = this._make_on_message_function(this);\n",
       "\n",
       "    this.ondownload = ondownload;\n",
       "}\n",
       "\n",
       "mpl.figure.prototype._init_header = function() {\n",
       "    var titlebar = $(\n",
       "        '<div class=\"ui-dialog-titlebar ui-widget-header ui-corner-all ' +\n",
       "        'ui-helper-clearfix\"/>');\n",
       "    var titletext = $(\n",
       "        '<div class=\"ui-dialog-title\" style=\"width: 100%; ' +\n",
       "        'text-align: center; padding: 3px;\"/>');\n",
       "    titlebar.append(titletext)\n",
       "    this.root.append(titlebar);\n",
       "    this.header = titletext[0];\n",
       "}\n",
       "\n",
       "\n",
       "\n",
       "mpl.figure.prototype._canvas_extra_style = function(canvas_div) {\n",
       "\n",
       "}\n",
       "\n",
       "\n",
       "mpl.figure.prototype._root_extra_style = function(canvas_div) {\n",
       "\n",
       "}\n",
       "\n",
       "mpl.figure.prototype._init_canvas = function() {\n",
       "    var fig = this;\n",
       "\n",
       "    var canvas_div = $('<div/>');\n",
       "\n",
       "    canvas_div.attr('style', 'position: relative; clear: both; outline: 0');\n",
       "\n",
       "    function canvas_keyboard_event(event) {\n",
       "        return fig.key_event(event, event['data']);\n",
       "    }\n",
       "\n",
       "    canvas_div.keydown('key_press', canvas_keyboard_event);\n",
       "    canvas_div.keyup('key_release', canvas_keyboard_event);\n",
       "    this.canvas_div = canvas_div\n",
       "    this._canvas_extra_style(canvas_div)\n",
       "    this.root.append(canvas_div);\n",
       "\n",
       "    var canvas = $('<canvas/>');\n",
       "    canvas.addClass('mpl-canvas');\n",
       "    canvas.attr('style', \"left: 0; top: 0; z-index: 0; outline: 0\")\n",
       "\n",
       "    this.canvas = canvas[0];\n",
       "    this.context = canvas[0].getContext(\"2d\");\n",
       "\n",
       "    var backingStore = this.context.backingStorePixelRatio ||\n",
       "\tthis.context.webkitBackingStorePixelRatio ||\n",
       "\tthis.context.mozBackingStorePixelRatio ||\n",
       "\tthis.context.msBackingStorePixelRatio ||\n",
       "\tthis.context.oBackingStorePixelRatio ||\n",
       "\tthis.context.backingStorePixelRatio || 1;\n",
       "\n",
       "    mpl.ratio = (window.devicePixelRatio || 1) / backingStore;\n",
       "\n",
       "    var rubberband = $('<canvas/>');\n",
       "    rubberband.attr('style', \"position: absolute; left: 0; top: 0; z-index: 1;\")\n",
       "\n",
       "    var pass_mouse_events = true;\n",
       "\n",
       "    canvas_div.resizable({\n",
       "        start: function(event, ui) {\n",
       "            pass_mouse_events = false;\n",
       "        },\n",
       "        resize: function(event, ui) {\n",
       "            fig.request_resize(ui.size.width, ui.size.height);\n",
       "        },\n",
       "        stop: function(event, ui) {\n",
       "            pass_mouse_events = true;\n",
       "            fig.request_resize(ui.size.width, ui.size.height);\n",
       "        },\n",
       "    });\n",
       "\n",
       "    function mouse_event_fn(event) {\n",
       "        if (pass_mouse_events)\n",
       "            return fig.mouse_event(event, event['data']);\n",
       "    }\n",
       "\n",
       "    rubberband.mousedown('button_press', mouse_event_fn);\n",
       "    rubberband.mouseup('button_release', mouse_event_fn);\n",
       "    // Throttle sequential mouse events to 1 every 20ms.\n",
       "    rubberband.mousemove('motion_notify', mouse_event_fn);\n",
       "\n",
       "    rubberband.mouseenter('figure_enter', mouse_event_fn);\n",
       "    rubberband.mouseleave('figure_leave', mouse_event_fn);\n",
       "\n",
       "    canvas_div.on(\"wheel\", function (event) {\n",
       "        event = event.originalEvent;\n",
       "        event['data'] = 'scroll'\n",
       "        if (event.deltaY < 0) {\n",
       "            event.step = 1;\n",
       "        } else {\n",
       "            event.step = -1;\n",
       "        }\n",
       "        mouse_event_fn(event);\n",
       "    });\n",
       "\n",
       "    canvas_div.append(canvas);\n",
       "    canvas_div.append(rubberband);\n",
       "\n",
       "    this.rubberband = rubberband;\n",
       "    this.rubberband_canvas = rubberband[0];\n",
       "    this.rubberband_context = rubberband[0].getContext(\"2d\");\n",
       "    this.rubberband_context.strokeStyle = \"#000000\";\n",
       "\n",
       "    this._resize_canvas = function(width, height) {\n",
       "        // Keep the size of the canvas, canvas container, and rubber band\n",
       "        // canvas in synch.\n",
       "        canvas_div.css('width', width)\n",
       "        canvas_div.css('height', height)\n",
       "\n",
       "        canvas.attr('width', width * mpl.ratio);\n",
       "        canvas.attr('height', height * mpl.ratio);\n",
       "        canvas.attr('style', 'width: ' + width + 'px; height: ' + height + 'px;');\n",
       "\n",
       "        rubberband.attr('width', width);\n",
       "        rubberband.attr('height', height);\n",
       "    }\n",
       "\n",
       "    // Set the figure to an initial 600x600px, this will subsequently be updated\n",
       "    // upon first draw.\n",
       "    this._resize_canvas(600, 600);\n",
       "\n",
       "    // Disable right mouse context menu.\n",
       "    $(this.rubberband_canvas).bind(\"contextmenu\",function(e){\n",
       "        return false;\n",
       "    });\n",
       "\n",
       "    function set_focus () {\n",
       "        canvas.focus();\n",
       "        canvas_div.focus();\n",
       "    }\n",
       "\n",
       "    window.setTimeout(set_focus, 100);\n",
       "}\n",
       "\n",
       "mpl.figure.prototype._init_toolbar = function() {\n",
       "    var fig = this;\n",
       "\n",
       "    var nav_element = $('<div/>')\n",
       "    nav_element.attr('style', 'width: 100%');\n",
       "    this.root.append(nav_element);\n",
       "\n",
       "    // Define a callback function for later on.\n",
       "    function toolbar_event(event) {\n",
       "        return fig.toolbar_button_onclick(event['data']);\n",
       "    }\n",
       "    function toolbar_mouse_event(event) {\n",
       "        return fig.toolbar_button_onmouseover(event['data']);\n",
       "    }\n",
       "\n",
       "    for(var toolbar_ind in mpl.toolbar_items) {\n",
       "        var name = mpl.toolbar_items[toolbar_ind][0];\n",
       "        var tooltip = mpl.toolbar_items[toolbar_ind][1];\n",
       "        var image = mpl.toolbar_items[toolbar_ind][2];\n",
       "        var method_name = mpl.toolbar_items[toolbar_ind][3];\n",
       "\n",
       "        if (!name) {\n",
       "            // put a spacer in here.\n",
       "            continue;\n",
       "        }\n",
       "        var button = $('<button/>');\n",
       "        button.addClass('ui-button ui-widget ui-state-default ui-corner-all ' +\n",
       "                        'ui-button-icon-only');\n",
       "        button.attr('role', 'button');\n",
       "        button.attr('aria-disabled', 'false');\n",
       "        button.click(method_name, toolbar_event);\n",
       "        button.mouseover(tooltip, toolbar_mouse_event);\n",
       "\n",
       "        var icon_img = $('<span/>');\n",
       "        icon_img.addClass('ui-button-icon-primary ui-icon');\n",
       "        icon_img.addClass(image);\n",
       "        icon_img.addClass('ui-corner-all');\n",
       "\n",
       "        var tooltip_span = $('<span/>');\n",
       "        tooltip_span.addClass('ui-button-text');\n",
       "        tooltip_span.html(tooltip);\n",
       "\n",
       "        button.append(icon_img);\n",
       "        button.append(tooltip_span);\n",
       "\n",
       "        nav_element.append(button);\n",
       "    }\n",
       "\n",
       "    var fmt_picker_span = $('<span/>');\n",
       "\n",
       "    var fmt_picker = $('<select/>');\n",
       "    fmt_picker.addClass('mpl-toolbar-option ui-widget ui-widget-content');\n",
       "    fmt_picker_span.append(fmt_picker);\n",
       "    nav_element.append(fmt_picker_span);\n",
       "    this.format_dropdown = fmt_picker[0];\n",
       "\n",
       "    for (var ind in mpl.extensions) {\n",
       "        var fmt = mpl.extensions[ind];\n",
       "        var option = $(\n",
       "            '<option/>', {selected: fmt === mpl.default_extension}).html(fmt);\n",
       "        fmt_picker.append(option)\n",
       "    }\n",
       "\n",
       "    // Add hover states to the ui-buttons\n",
       "    $( \".ui-button\" ).hover(\n",
       "        function() { $(this).addClass(\"ui-state-hover\");},\n",
       "        function() { $(this).removeClass(\"ui-state-hover\");}\n",
       "    );\n",
       "\n",
       "    var status_bar = $('<span class=\"mpl-message\"/>');\n",
       "    nav_element.append(status_bar);\n",
       "    this.message = status_bar[0];\n",
       "}\n",
       "\n",
       "mpl.figure.prototype.request_resize = function(x_pixels, y_pixels) {\n",
       "    // Request matplotlib to resize the figure. Matplotlib will then trigger a resize in the client,\n",
       "    // which will in turn request a refresh of the image.\n",
       "    this.send_message('resize', {'width': x_pixels, 'height': y_pixels});\n",
       "}\n",
       "\n",
       "mpl.figure.prototype.send_message = function(type, properties) {\n",
       "    properties['type'] = type;\n",
       "    properties['figure_id'] = this.id;\n",
       "    this.ws.send(JSON.stringify(properties));\n",
       "}\n",
       "\n",
       "mpl.figure.prototype.send_draw_message = function() {\n",
       "    if (!this.waiting) {\n",
       "        this.waiting = true;\n",
       "        this.ws.send(JSON.stringify({type: \"draw\", figure_id: this.id}));\n",
       "    }\n",
       "}\n",
       "\n",
       "\n",
       "mpl.figure.prototype.handle_save = function(fig, msg) {\n",
       "    var format_dropdown = fig.format_dropdown;\n",
       "    var format = format_dropdown.options[format_dropdown.selectedIndex].value;\n",
       "    fig.ondownload(fig, format);\n",
       "}\n",
       "\n",
       "\n",
       "mpl.figure.prototype.handle_resize = function(fig, msg) {\n",
       "    var size = msg['size'];\n",
       "    if (size[0] != fig.canvas.width || size[1] != fig.canvas.height) {\n",
       "        fig._resize_canvas(size[0], size[1]);\n",
       "        fig.send_message(\"refresh\", {});\n",
       "    };\n",
       "}\n",
       "\n",
       "mpl.figure.prototype.handle_rubberband = function(fig, msg) {\n",
       "    var x0 = msg['x0'] / mpl.ratio;\n",
       "    var y0 = (fig.canvas.height - msg['y0']) / mpl.ratio;\n",
       "    var x1 = msg['x1'] / mpl.ratio;\n",
       "    var y1 = (fig.canvas.height - msg['y1']) / mpl.ratio;\n",
       "    x0 = Math.floor(x0) + 0.5;\n",
       "    y0 = Math.floor(y0) + 0.5;\n",
       "    x1 = Math.floor(x1) + 0.5;\n",
       "    y1 = Math.floor(y1) + 0.5;\n",
       "    var min_x = Math.min(x0, x1);\n",
       "    var min_y = Math.min(y0, y1);\n",
       "    var width = Math.abs(x1 - x0);\n",
       "    var height = Math.abs(y1 - y0);\n",
       "\n",
       "    fig.rubberband_context.clearRect(\n",
       "        0, 0, fig.canvas.width, fig.canvas.height);\n",
       "\n",
       "    fig.rubberband_context.strokeRect(min_x, min_y, width, height);\n",
       "}\n",
       "\n",
       "mpl.figure.prototype.handle_figure_label = function(fig, msg) {\n",
       "    // Updates the figure title.\n",
       "    fig.header.textContent = msg['label'];\n",
       "}\n",
       "\n",
       "mpl.figure.prototype.handle_cursor = function(fig, msg) {\n",
       "    var cursor = msg['cursor'];\n",
       "    switch(cursor)\n",
       "    {\n",
       "    case 0:\n",
       "        cursor = 'pointer';\n",
       "        break;\n",
       "    case 1:\n",
       "        cursor = 'default';\n",
       "        break;\n",
       "    case 2:\n",
       "        cursor = 'crosshair';\n",
       "        break;\n",
       "    case 3:\n",
       "        cursor = 'move';\n",
       "        break;\n",
       "    }\n",
       "    fig.rubberband_canvas.style.cursor = cursor;\n",
       "}\n",
       "\n",
       "mpl.figure.prototype.handle_message = function(fig, msg) {\n",
       "    fig.message.textContent = msg['message'];\n",
       "}\n",
       "\n",
       "mpl.figure.prototype.handle_draw = function(fig, msg) {\n",
       "    // Request the server to send over a new figure.\n",
       "    fig.send_draw_message();\n",
       "}\n",
       "\n",
       "mpl.figure.prototype.handle_image_mode = function(fig, msg) {\n",
       "    fig.image_mode = msg['mode'];\n",
       "}\n",
       "\n",
       "mpl.figure.prototype.updated_canvas_event = function() {\n",
       "    // Called whenever the canvas gets updated.\n",
       "    this.send_message(\"ack\", {});\n",
       "}\n",
       "\n",
       "// A function to construct a web socket function for onmessage handling.\n",
       "// Called in the figure constructor.\n",
       "mpl.figure.prototype._make_on_message_function = function(fig) {\n",
       "    return function socket_on_message(evt) {\n",
       "        if (evt.data instanceof Blob) {\n",
       "            /* FIXME: We get \"Resource interpreted as Image but\n",
       "             * transferred with MIME type text/plain:\" errors on\n",
       "             * Chrome.  But how to set the MIME type?  It doesn't seem\n",
       "             * to be part of the websocket stream */\n",
       "            evt.data.type = \"image/png\";\n",
       "\n",
       "            /* Free the memory for the previous frames */\n",
       "            if (fig.imageObj.src) {\n",
       "                (window.URL || window.webkitURL).revokeObjectURL(\n",
       "                    fig.imageObj.src);\n",
       "            }\n",
       "\n",
       "            fig.imageObj.src = (window.URL || window.webkitURL).createObjectURL(\n",
       "                evt.data);\n",
       "            fig.updated_canvas_event();\n",
       "            fig.waiting = false;\n",
       "            return;\n",
       "        }\n",
       "        else if (typeof evt.data === 'string' && evt.data.slice(0, 21) == \"data:image/png;base64\") {\n",
       "            fig.imageObj.src = evt.data;\n",
       "            fig.updated_canvas_event();\n",
       "            fig.waiting = false;\n",
       "            return;\n",
       "        }\n",
       "\n",
       "        var msg = JSON.parse(evt.data);\n",
       "        var msg_type = msg['type'];\n",
       "\n",
       "        // Call the  \"handle_{type}\" callback, which takes\n",
       "        // the figure and JSON message as its only arguments.\n",
       "        try {\n",
       "            var callback = fig[\"handle_\" + msg_type];\n",
       "        } catch (e) {\n",
       "            console.log(\"No handler for the '\" + msg_type + \"' message type: \", msg);\n",
       "            return;\n",
       "        }\n",
       "\n",
       "        if (callback) {\n",
       "            try {\n",
       "                // console.log(\"Handling '\" + msg_type + \"' message: \", msg);\n",
       "                callback(fig, msg);\n",
       "            } catch (e) {\n",
       "                console.log(\"Exception inside the 'handler_\" + msg_type + \"' callback:\", e, e.stack, msg);\n",
       "            }\n",
       "        }\n",
       "    };\n",
       "}\n",
       "\n",
       "// from http://stackoverflow.com/questions/1114465/getting-mouse-location-in-canvas\n",
       "mpl.findpos = function(e) {\n",
       "    //this section is from http://www.quirksmode.org/js/events_properties.html\n",
       "    var targ;\n",
       "    if (!e)\n",
       "        e = window.event;\n",
       "    if (e.target)\n",
       "        targ = e.target;\n",
       "    else if (e.srcElement)\n",
       "        targ = e.srcElement;\n",
       "    if (targ.nodeType == 3) // defeat Safari bug\n",
       "        targ = targ.parentNode;\n",
       "\n",
       "    // jQuery normalizes the pageX and pageY\n",
       "    // pageX,Y are the mouse positions relative to the document\n",
       "    // offset() returns the position of the element relative to the document\n",
       "    var x = e.pageX - $(targ).offset().left;\n",
       "    var y = e.pageY - $(targ).offset().top;\n",
       "\n",
       "    return {\"x\": x, \"y\": y};\n",
       "};\n",
       "\n",
       "/*\n",
       " * return a copy of an object with only non-object keys\n",
       " * we need this to avoid circular references\n",
       " * http://stackoverflow.com/a/24161582/3208463\n",
       " */\n",
       "function simpleKeys (original) {\n",
       "  return Object.keys(original).reduce(function (obj, key) {\n",
       "    if (typeof original[key] !== 'object')\n",
       "        obj[key] = original[key]\n",
       "    return obj;\n",
       "  }, {});\n",
       "}\n",
       "\n",
       "mpl.figure.prototype.mouse_event = function(event, name) {\n",
       "    var canvas_pos = mpl.findpos(event)\n",
       "\n",
       "    if (name === 'button_press')\n",
       "    {\n",
       "        this.canvas.focus();\n",
       "        this.canvas_div.focus();\n",
       "    }\n",
       "\n",
       "    var x = canvas_pos.x * mpl.ratio;\n",
       "    var y = canvas_pos.y * mpl.ratio;\n",
       "\n",
       "    this.send_message(name, {x: x, y: y, button: event.button,\n",
       "                             step: event.step,\n",
       "                             guiEvent: simpleKeys(event)});\n",
       "\n",
       "    /* This prevents the web browser from automatically changing to\n",
       "     * the text insertion cursor when the button is pressed.  We want\n",
       "     * to control all of the cursor setting manually through the\n",
       "     * 'cursor' event from matplotlib */\n",
       "    event.preventDefault();\n",
       "    return false;\n",
       "}\n",
       "\n",
       "mpl.figure.prototype._key_event_extra = function(event, name) {\n",
       "    // Handle any extra behaviour associated with a key event\n",
       "}\n",
       "\n",
       "mpl.figure.prototype.key_event = function(event, name) {\n",
       "\n",
       "    // Prevent repeat events\n",
       "    if (name == 'key_press')\n",
       "    {\n",
       "        if (event.which === this._key)\n",
       "            return;\n",
       "        else\n",
       "            this._key = event.which;\n",
       "    }\n",
       "    if (name == 'key_release')\n",
       "        this._key = null;\n",
       "\n",
       "    var value = '';\n",
       "    if (event.ctrlKey && event.which != 17)\n",
       "        value += \"ctrl+\";\n",
       "    if (event.altKey && event.which != 18)\n",
       "        value += \"alt+\";\n",
       "    if (event.shiftKey && event.which != 16)\n",
       "        value += \"shift+\";\n",
       "\n",
       "    value += 'k';\n",
       "    value += event.which.toString();\n",
       "\n",
       "    this._key_event_extra(event, name);\n",
       "\n",
       "    this.send_message(name, {key: value,\n",
       "                             guiEvent: simpleKeys(event)});\n",
       "    return false;\n",
       "}\n",
       "\n",
       "mpl.figure.prototype.toolbar_button_onclick = function(name) {\n",
       "    if (name == 'download') {\n",
       "        this.handle_save(this, null);\n",
       "    } else {\n",
       "        this.send_message(\"toolbar_button\", {name: name});\n",
       "    }\n",
       "};\n",
       "\n",
       "mpl.figure.prototype.toolbar_button_onmouseover = function(tooltip) {\n",
       "    this.message.textContent = tooltip;\n",
       "};\n",
       "mpl.toolbar_items = [[\"Home\", \"Reset original view\", \"fa fa-home icon-home\", \"home\"], [\"Back\", \"Back to  previous view\", \"fa fa-arrow-left icon-arrow-left\", \"back\"], [\"Forward\", \"Forward to next view\", \"fa fa-arrow-right icon-arrow-right\", \"forward\"], [\"\", \"\", \"\", \"\"], [\"Pan\", \"Pan axes with left mouse, zoom with right\", \"fa fa-arrows icon-move\", \"pan\"], [\"Zoom\", \"Zoom to rectangle\", \"fa fa-square-o icon-check-empty\", \"zoom\"], [\"\", \"\", \"\", \"\"], [\"Download\", \"Download plot\", \"fa fa-floppy-o icon-save\", \"download\"]];\n",
       "\n",
       "mpl.extensions = [\"eps\", \"pdf\", \"png\", \"ps\", \"raw\", \"svg\"];\n",
       "\n",
       "mpl.default_extension = \"png\";var comm_websocket_adapter = function(comm) {\n",
       "    // Create a \"websocket\"-like object which calls the given IPython comm\n",
       "    // object with the appropriate methods. Currently this is a non binary\n",
       "    // socket, so there is still some room for performance tuning.\n",
       "    var ws = {};\n",
       "\n",
       "    ws.close = function() {\n",
       "        comm.close()\n",
       "    };\n",
       "    ws.send = function(m) {\n",
       "        //console.log('sending', m);\n",
       "        comm.send(m);\n",
       "    };\n",
       "    // Register the callback with on_msg.\n",
       "    comm.on_msg(function(msg) {\n",
       "        //console.log('receiving', msg['content']['data'], msg);\n",
       "        // Pass the mpl event to the overridden (by mpl) onmessage function.\n",
       "        ws.onmessage(msg['content']['data'])\n",
       "    });\n",
       "    return ws;\n",
       "}\n",
       "\n",
       "mpl.mpl_figure_comm = function(comm, msg) {\n",
       "    // This is the function which gets called when the mpl process\n",
       "    // starts-up an IPython Comm through the \"matplotlib\" channel.\n",
       "\n",
       "    var id = msg.content.data.id;\n",
       "    // Get hold of the div created by the display call when the Comm\n",
       "    // socket was opened in Python.\n",
       "    var element = $(\"#\" + id);\n",
       "    var ws_proxy = comm_websocket_adapter(comm)\n",
       "\n",
       "    function ondownload(figure, format) {\n",
       "        window.open(figure.imageObj.src);\n",
       "    }\n",
       "\n",
       "    var fig = new mpl.figure(id, ws_proxy,\n",
       "                           ondownload,\n",
       "                           element.get(0));\n",
       "\n",
       "    // Call onopen now - mpl needs it, as it is assuming we've passed it a real\n",
       "    // web socket which is closed, not our websocket->open comm proxy.\n",
       "    ws_proxy.onopen();\n",
       "\n",
       "    fig.parent_element = element.get(0);\n",
       "    fig.cell_info = mpl.find_output_cell(\"<div id='\" + id + \"'></div>\");\n",
       "    if (!fig.cell_info) {\n",
       "        console.error(\"Failed to find cell for figure\", id, fig);\n",
       "        return;\n",
       "    }\n",
       "\n",
       "    var output_index = fig.cell_info[2]\n",
       "    var cell = fig.cell_info[0];\n",
       "\n",
       "};\n",
       "\n",
       "mpl.figure.prototype.handle_close = function(fig, msg) {\n",
       "    var width = fig.canvas.width/mpl.ratio\n",
       "    fig.root.unbind('remove')\n",
       "\n",
       "    // Update the output cell to use the data from the current canvas.\n",
       "    fig.push_to_output();\n",
       "    var dataURL = fig.canvas.toDataURL();\n",
       "    // Re-enable the keyboard manager in IPython - without this line, in FF,\n",
       "    // the notebook keyboard shortcuts fail.\n",
       "    IPython.keyboard_manager.enable()\n",
       "    $(fig.parent_element).html('<img src=\"' + dataURL + '\" width=\"' + width + '\">');\n",
       "    fig.close_ws(fig, msg);\n",
       "}\n",
       "\n",
       "mpl.figure.prototype.close_ws = function(fig, msg){\n",
       "    fig.send_message('closing', msg);\n",
       "    // fig.ws.close()\n",
       "}\n",
       "\n",
       "mpl.figure.prototype.push_to_output = function(remove_interactive) {\n",
       "    // Turn the data on the canvas into data in the output cell.\n",
       "    var width = this.canvas.width/mpl.ratio\n",
       "    var dataURL = this.canvas.toDataURL();\n",
       "    this.cell_info[1]['text/html'] = '<img src=\"' + dataURL + '\" width=\"' + width + '\">';\n",
       "}\n",
       "\n",
       "mpl.figure.prototype.updated_canvas_event = function() {\n",
       "    // Tell IPython that the notebook contents must change.\n",
       "    IPython.notebook.set_dirty(true);\n",
       "    this.send_message(\"ack\", {});\n",
       "    var fig = this;\n",
       "    // Wait a second, then push the new image to the DOM so\n",
       "    // that it is saved nicely (might be nice to debounce this).\n",
       "    setTimeout(function () { fig.push_to_output() }, 1000);\n",
       "}\n",
       "\n",
       "mpl.figure.prototype._init_toolbar = function() {\n",
       "    var fig = this;\n",
       "\n",
       "    var nav_element = $('<div/>')\n",
       "    nav_element.attr('style', 'width: 100%');\n",
       "    this.root.append(nav_element);\n",
       "\n",
       "    // Define a callback function for later on.\n",
       "    function toolbar_event(event) {\n",
       "        return fig.toolbar_button_onclick(event['data']);\n",
       "    }\n",
       "    function toolbar_mouse_event(event) {\n",
       "        return fig.toolbar_button_onmouseover(event['data']);\n",
       "    }\n",
       "\n",
       "    for(var toolbar_ind in mpl.toolbar_items){\n",
       "        var name = mpl.toolbar_items[toolbar_ind][0];\n",
       "        var tooltip = mpl.toolbar_items[toolbar_ind][1];\n",
       "        var image = mpl.toolbar_items[toolbar_ind][2];\n",
       "        var method_name = mpl.toolbar_items[toolbar_ind][3];\n",
       "\n",
       "        if (!name) { continue; };\n",
       "\n",
       "        var button = $('<button class=\"btn btn-default\" href=\"#\" title=\"' + name + '\"><i class=\"fa ' + image + ' fa-lg\"></i></button>');\n",
       "        button.click(method_name, toolbar_event);\n",
       "        button.mouseover(tooltip, toolbar_mouse_event);\n",
       "        nav_element.append(button);\n",
       "    }\n",
       "\n",
       "    // Add the status bar.\n",
       "    var status_bar = $('<span class=\"mpl-message\" style=\"text-align:right; float: right;\"/>');\n",
       "    nav_element.append(status_bar);\n",
       "    this.message = status_bar[0];\n",
       "\n",
       "    // Add the close button to the window.\n",
       "    var buttongrp = $('<div class=\"btn-group inline pull-right\"></div>');\n",
       "    var button = $('<button class=\"btn btn-mini btn-primary\" href=\"#\" title=\"Stop Interaction\"><i class=\"fa fa-power-off icon-remove icon-large\"></i></button>');\n",
       "    button.click(function (evt) { fig.handle_close(fig, {}); } );\n",
       "    button.mouseover('Stop Interaction', toolbar_mouse_event);\n",
       "    buttongrp.append(button);\n",
       "    var titlebar = this.root.find($('.ui-dialog-titlebar'));\n",
       "    titlebar.prepend(buttongrp);\n",
       "}\n",
       "\n",
       "mpl.figure.prototype._root_extra_style = function(el){\n",
       "    var fig = this\n",
       "    el.on(\"remove\", function(){\n",
       "\tfig.close_ws(fig, {});\n",
       "    });\n",
       "}\n",
       "\n",
       "mpl.figure.prototype._canvas_extra_style = function(el){\n",
       "    // this is important to make the div 'focusable\n",
       "    el.attr('tabindex', 0)\n",
       "    // reach out to IPython and tell the keyboard manager to turn it's self\n",
       "    // off when our div gets focus\n",
       "\n",
       "    // location in version 3\n",
       "    if (IPython.notebook.keyboard_manager) {\n",
       "        IPython.notebook.keyboard_manager.register_events(el);\n",
       "    }\n",
       "    else {\n",
       "        // location in version 2\n",
       "        IPython.keyboard_manager.register_events(el);\n",
       "    }\n",
       "\n",
       "}\n",
       "\n",
       "mpl.figure.prototype._key_event_extra = function(event, name) {\n",
       "    var manager = IPython.notebook.keyboard_manager;\n",
       "    if (!manager)\n",
       "        manager = IPython.keyboard_manager;\n",
       "\n",
       "    // Check for shift+enter\n",
       "    if (event.shiftKey && event.which == 13) {\n",
       "        this.canvas_div.blur();\n",
       "        event.shiftKey = false;\n",
       "        // Send a \"J\" for go to next cell\n",
       "        event.which = 74;\n",
       "        event.keyCode = 74;\n",
       "        manager.command_mode();\n",
       "        manager.handle_keydown(event);\n",
       "    }\n",
       "}\n",
       "\n",
       "mpl.figure.prototype.handle_save = function(fig, msg) {\n",
       "    fig.ondownload(fig, null);\n",
       "}\n",
       "\n",
       "\n",
       "mpl.find_output_cell = function(html_output) {\n",
       "    // Return the cell and output element which can be found *uniquely* in the notebook.\n",
       "    // Note - this is a bit hacky, but it is done because the \"notebook_saving.Notebook\"\n",
       "    // IPython event is triggered only after the cells have been serialised, which for\n",
       "    // our purposes (turning an active figure into a static one), is too late.\n",
       "    var cells = IPython.notebook.get_cells();\n",
       "    var ncells = cells.length;\n",
       "    for (var i=0; i<ncells; i++) {\n",
       "        var cell = cells[i];\n",
       "        if (cell.cell_type === 'code'){\n",
       "            for (var j=0; j<cell.output_area.outputs.length; j++) {\n",
       "                var data = cell.output_area.outputs[j];\n",
       "                if (data.data) {\n",
       "                    // IPython >= 3 moved mimebundle to data attribute of output\n",
       "                    data = data.data;\n",
       "                }\n",
       "                if (data['text/html'] == html_output) {\n",
       "                    return [cell, data, j];\n",
       "                }\n",
       "            }\n",
       "        }\n",
       "    }\n",
       "}\n",
       "\n",
       "// Register the function which deals with the matplotlib target/channel.\n",
       "// The kernel may be null if the page has been refreshed.\n",
       "if (IPython.notebook.kernel != null) {\n",
       "    IPython.notebook.kernel.comm_manager.register_target('matplotlib', mpl.mpl_figure_comm);\n",
       "}\n"
      ],
      "text/plain": [
       "<IPython.core.display.Javascript object>"
      ]
     },
     "metadata": {},
     "output_type": "display_data"
    },
    {
     "data": {
      "text/html": [
       "<img src=\"data:image/png;base64,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\" width=\"640\">"
      ],
      "text/plain": [
       "<IPython.core.display.HTML object>"
      ]
     },
     "metadata": {},
     "output_type": "display_data"
    }
   ],
   "source": [
    "plot_line(d, pL1)  # Line L1\n",
    "\n",
    "# vector v1 and it's decomposition into parallel-to-L1 and perp-to-L1 components\n",
    "plot_vec(v1, at=pL1)\n",
    "plot_vec(p_proj_L1-pL1, at=pL1,     color='b')\n",
    "plot_vec(p-p_proj_L1, at=p_proj_L1, color='r')\n",
    "\n",
    "ax = mpl.gca()\n",
    "mpl.xlim([0,10])\n",
    "mpl.ylim([0,10])\n",
    "ax.set_zlim([0,10])\n",
    "ax.grid(True,which='both')"
   ]
  },
  {
   "cell_type": "markdown",
   "metadata": {},
   "source": [
    "Answer to a) is the tip of the blue vector; answer to b) is the length of the red vector."
   ]
  },
  {
   "cell_type": "code",
   "execution_count": null,
   "metadata": {},
   "outputs": [],
   "source": []
  },
  {
   "cell_type": "markdown",
   "metadata": {},
   "source": [
    "Use a similar approach for c) and d) "
   ]
  },
  {
   "cell_type": "code",
   "execution_count": 16,
   "metadata": {},
   "outputs": [],
   "source": [
    "# define a vector from a point on L2 to p:\n",
    "v2 = p - pL2"
   ]
  },
  {
   "cell_type": "code",
   "execution_count": 17,
   "metadata": {},
   "outputs": [
    {
     "data": {
      "image/png": "[encoded data removed]",
      "text/latex": [
       "$\\displaystyle \\left[\\begin{matrix}\\frac{14}{5}\\\\\\frac{32}{5}\\\\0\\end{matrix}\\right]$"
      ],
      "text/plain": [
       "⎡14/5⎤\n",
       "⎢    ⎥\n",
       "⎢32/5⎥\n",
       "⎢    ⎥\n",
       "⎣ 0  ⎦"
      ]
     },
     "execution_count": 17,
     "metadata": {},
     "output_type": "execute_result"
    }
   ],
   "source": [
    "# p_proj_L2 = \n",
    "(d.dot(v2)/d.norm()**2)*d + pL2"
   ]
  },
  {
   "cell_type": "code",
   "execution_count": 18,
   "metadata": {},
   "outputs": [
    {
     "data": {
      "image/png": "[encoded data removed]",
      "text/latex": [
       "$\\displaystyle \\frac{2 \\sqrt{1030}}{5}$"
      ],
      "text/plain": [
       "2⋅√1030\n",
       "───────\n",
       "   5   "
      ]
     },
     "execution_count": 18,
     "metadata": {},
     "output_type": "execute_result"
    }
   ],
   "source": [
    "# d(p, L2) = \n",
    "(v2 - (d.dot(v2)/d.norm()**2)*d).norm()"
   ]
  },
  {
   "cell_type": "code",
   "execution_count": 19,
   "metadata": {},
   "outputs": [
    {
     "data": {
      "image/png": "[encoded data removed]",
      "text/latex": [
       "$\\displaystyle 12.837445228705$"
      ],
      "text/plain": [
       "12.8374452287050"
      ]
     },
     "execution_count": 19,
     "metadata": {},
     "output_type": "execute_result"
    }
   ],
   "source": [
    "(v2 - (d.dot(v2)/d.norm()**2)*d).norm().n()"
   ]
  },
  {
   "cell_type": "code",
   "execution_count": null,
   "metadata": {},
   "outputs": [],
   "source": []
  },
  {
   "cell_type": "code",
   "execution_count": null,
   "metadata": {},
   "outputs": [],
   "source": []
  },
  {
   "cell_type": "markdown",
   "metadata": {},
   "source": [
    "e) distance $\\ell_1$ to $\\ell_2$"
   ]
  },
  {
   "cell_type": "code",
   "execution_count": 20,
   "metadata": {},
   "outputs": [
    {
     "data": {
      "image/png": "[encoded data removed]",
      "text/latex": [
       "$\\displaystyle \\left[\\begin{matrix}3\\\\0\\\\-5\\end{matrix}\\right]$"
      ],
      "text/plain": [
       "⎡3 ⎤\n",
       "⎢  ⎥\n",
       "⎢0 ⎥\n",
       "⎢  ⎥\n",
       "⎣-5⎦"
      ]
     },
     "execution_count": 20,
     "metadata": {},
     "output_type": "execute_result"
    }
   ],
   "source": [
    "# first define a vector from a point on L1 to a point on L2:\n",
    "v3 = pL2 - pL1\n",
    "v3"
   ]
  },
  {
   "cell_type": "code",
   "execution_count": 21,
   "metadata": {},
   "outputs": [
    {
     "data": {
      "image/png": "[encoded data removed]",
      "text/latex": [
       "$\\displaystyle \\frac{\\sqrt{805}}{5}$"
      ],
      "text/plain": [
       "√805\n",
       "────\n",
       " 5  "
      ]
     },
     "execution_count": 21,
     "metadata": {},
     "output_type": "execute_result"
    }
   ],
   "source": [
    "# d(L1, L2) = \n",
    "d_L1L2 = (v3 - (d.dot(v3)/d.norm()**2)*d).norm()\n",
    "d_L1L2"
   ]
  },
  {
   "cell_type": "code",
   "execution_count": 22,
   "metadata": {},
   "outputs": [
    {
     "data": {
      "image/png": "[encoded data removed]",
      "text/latex": [
       "$\\displaystyle 5.67450438364444$"
      ],
      "text/plain": [
       "5.67450438364444"
      ]
     },
     "execution_count": 22,
     "metadata": {},
     "output_type": "execute_result"
    }
   ],
   "source": [
    "d_L1L2.n()"
   ]
  },
  {
   "cell_type": "code",
   "execution_count": null,
   "metadata": {},
   "outputs": [],
   "source": []
  },
  {
   "cell_type": "code",
   "execution_count": null,
   "metadata": {},
   "outputs": [],
   "source": []
  },
  {
   "cell_type": "code",
   "execution_count": null,
   "metadata": {},
   "outputs": [],
   "source": []
  }
 ],
 "metadata": {
  "kernelspec": {
   "display_name": "Python 3",
   "language": "python",
   "name": "python3"
  },
  "language_info": {
   "codemirror_mode": {
    "name": "ipython",
    "version": 3
   },
   "file_extension": ".py",
   "mimetype": "text/x-python",
   "name": "python",
   "nbconvert_exporter": "python",
   "pygments_lexer": "ipython3",
   "version": "3.7.4"
  }
 },
 "nbformat": 4,
 "nbformat_minor": 2
}
