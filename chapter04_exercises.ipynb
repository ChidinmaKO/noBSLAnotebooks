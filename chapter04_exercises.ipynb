{
 "cells": [
  {
   "cell_type": "markdown",
   "metadata": {},
   "source": [
    "# Chapter 4 exercises"
   ]
  },
  {
   "cell_type": "code",
   "execution_count": null,
   "metadata": {
    "collapsed": true
   },
   "outputs": [],
   "source": [
    "from sympy import *\n",
    "init_printing()"
   ]
  },
  {
   "cell_type": "markdown",
   "metadata": {},
   "source": [
    "## RREF"
   ]
  },
  {
   "cell_type": "markdown",
   "metadata": {},
   "source": [
    "### E4.1"
   ]
  },
  {
   "cell_type": "code",
   "execution_count": null,
   "metadata": {
    "collapsed": false
   },
   "outputs": [],
   "source": [
    "AUG = Matrix([\n",
    "[3,     3,  6],\n",
    "[2, S(3)/2, 5]\n",
    "])\n",
    "AUG"
   ]
  },
  {
   "cell_type": "code",
   "execution_count": null,
   "metadata": {
    "collapsed": false
   },
   "outputs": [],
   "source": [
    "AUG.rref()"
   ]
  },
  {
   "cell_type": "markdown",
   "metadata": {},
   "source": [
    "### E4.2"
   ]
  },
  {
   "cell_type": "code",
   "execution_count": null,
   "metadata": {
    "collapsed": false
   },
   "outputs": [],
   "source": [
    "AUGA = Matrix([\n",
    "[3,     3,  6],\n",
    "[1,     1,  5]\n",
    "])\n",
    "AUGA.rref()\n",
    "# no solutions since second row   0x+0y == 1  is impossible"
   ]
  },
  {
   "cell_type": "code",
   "execution_count": null,
   "metadata": {
    "collapsed": false
   },
   "outputs": [],
   "source": [
    "AUGB = Matrix([\n",
    "[3,     3,  6],\n",
    "[2, S(3)/2, 3]\n",
    "])\n",
    "AUGB.rref()\n",
    "# one solution x=0, y=2"
   ]
  },
  {
   "cell_type": "code",
   "execution_count": null,
   "metadata": {
    "collapsed": false
   },
   "outputs": [],
   "source": [
    "AUGC = Matrix([\n",
    "[3,     3,  6],\n",
    "[1,     1,  2]\n",
    "])\n",
    "AUGC.rref()\n",
    "# infinitely many solutions of the form  point + s*n, for all s in \\mathbb{R}\n",
    "# where point is [1,1]"
   ]
  },
  {
   "cell_type": "code",
   "execution_count": null,
   "metadata": {
    "collapsed": false
   },
   "outputs": [],
   "source": [
    "AUGC[:,0:2].nullspace()\n",
    "# and n is [-1,1]"
   ]
  },
  {
   "cell_type": "code",
   "execution_count": null,
   "metadata": {
    "collapsed": true
   },
   "outputs": [],
   "source": []
  },
  {
   "cell_type": "markdown",
   "metadata": {},
   "source": [
    "### E4.3"
   ]
  },
  {
   "cell_type": "code",
   "execution_count": null,
   "metadata": {
    "collapsed": false
   },
   "outputs": [],
   "source": [
    "# define agmented matrices for three systems of eqns. with unique sol'ns\n",
    "A = Matrix([\n",
    "        [ -1, -2, -2],\n",
    "        [  3, 3, 0]])\n",
    "        \n",
    "B = Matrix([\n",
    "        [ 1, -1, -2,  1],\n",
    "        [-2,  3,  3, -1],\n",
    "        [-1,  0,  1,  2]])\n",
    "\n",
    "C = Matrix([\n",
    "        [ 2, -2,  3, 2],\n",
    "        [ 1, -2, -1, 0],\n",
    "        [-2,  2,  2, 1]])\n"
   ]
  },
  {
   "cell_type": "code",
   "execution_count": null,
   "metadata": {
    "collapsed": false
   },
   "outputs": [],
   "source": [
    "A"
   ]
  },
  {
   "cell_type": "code",
   "execution_count": null,
   "metadata": {
    "collapsed": false
   },
   "outputs": [],
   "source": [
    "A.rref()"
   ]
  },
  {
   "cell_type": "code",
   "execution_count": null,
   "metadata": {
    "collapsed": false
   },
   "outputs": [],
   "source": [
    "B"
   ]
  },
  {
   "cell_type": "code",
   "execution_count": null,
   "metadata": {
    "collapsed": false
   },
   "outputs": [],
   "source": [
    "B.rref()"
   ]
  },
  {
   "cell_type": "code",
   "execution_count": null,
   "metadata": {
    "collapsed": false
   },
   "outputs": [],
   "source": [
    "C"
   ]
  },
  {
   "cell_type": "code",
   "execution_count": null,
   "metadata": {
    "collapsed": false
   },
   "outputs": [],
   "source": [
    "C.rref()"
   ]
  },
  {
   "cell_type": "markdown",
   "metadata": {},
   "source": [
    "### E4.4"
   ]
  },
  {
   "cell_type": "code",
   "execution_count": null,
   "metadata": {
    "collapsed": true
   },
   "outputs": [],
   "source": [
    "# now for three systems of eqns. with infinitely many sol'ns\n",
    "D = Matrix([\n",
    "        [ -1, -2, -2],\n",
    "        [  3, 6,   6]])\n",
    "        \n",
    "E = Matrix([\n",
    "        [ 1, -1, -2,  1],\n",
    "        [-2,  3,  3, -1],\n",
    "        [-1,  2,  1,  0]])\n",
    "\n",
    "F = Matrix([\n",
    "        [ 2, -2, 3, 2],\n",
    "        [ 0,  0, 5, 3],\n",
    "        [-2,  2, 2, 1]])"
   ]
  },
  {
   "cell_type": "markdown",
   "metadata": {},
   "source": [
    "### Solving d)"
   ]
  },
  {
   "cell_type": "code",
   "execution_count": null,
   "metadata": {
    "collapsed": false
   },
   "outputs": [],
   "source": [
    "D"
   ]
  },
  {
   "cell_type": "code",
   "execution_count": null,
   "metadata": {
    "collapsed": false
   },
   "outputs": [],
   "source": [
    "D.rref()"
   ]
  },
  {
   "cell_type": "code",
   "execution_count": null,
   "metadata": {
    "collapsed": false
   },
   "outputs": [],
   "source": [
    "D[0:2,0:2].nullspace()"
   ]
  },
  {
   "cell_type": "code",
   "execution_count": null,
   "metadata": {
    "collapsed": false
   },
   "outputs": [],
   "source": [
    "# the solutions to the sytem of equations represented by D\n",
    "# is of the form    point + nullspace\n",
    "point = D.rref()[0][:,2]\n",
    "nullspace = D[0:2,0:2].nullspace()"
   ]
  },
  {
   "cell_type": "code",
   "execution_count": null,
   "metadata": {
    "collapsed": false
   },
   "outputs": [],
   "source": [
    "# the point is also called he particular solution\n",
    "point"
   ]
  },
  {
   "cell_type": "code",
   "execution_count": null,
   "metadata": {
    "collapsed": false
   },
   "outputs": [],
   "source": [
    "# if A aug matrix is [A|b], then the point satisfies A*point = b.\n",
    "print( D[0:2,0:2]*point == D[:,2] )\n",
    "D[0:2,0:2]*point"
   ]
  },
  {
   "cell_type": "markdown",
   "metadata": {},
   "source": [
    "### Null space"
   ]
  },
  {
   "cell_type": "code",
   "execution_count": null,
   "metadata": {
    "collapsed": false
   },
   "outputs": [],
   "source": [
    "# the nullspace of A in aug. matrix [A|b] is one dimensional and spanned by\n",
    "n = nullspace[0]\n",
    "n\n",
    "# every vector n in the nullspace of A satisfies  A*n=0"
   ]
  },
  {
   "cell_type": "code",
   "execution_count": null,
   "metadata": {
    "collapsed": false
   },
   "outputs": [],
   "source": [
    "# so solution to A*x=b is any (point+s*n) where s is any real number\n",
    "# since  A*(point +s*n) = A*point + sA*n = A*point + 0 = b.\n",
    "# verify claim for 20 values of s in range -5,-4,-3,-2,-1,0,1,2,3,4,5\n",
    "for s in range(-5,6):\n",
    "    print( D[0:2,0:2]*(point + s*n), \n",
    "           D[0:2,0:2]*(point + s*n) == D[:,2] )"
   ]
  },
  {
   "cell_type": "markdown",
   "metadata": {},
   "source": [
    "### Solving e)"
   ]
  },
  {
   "cell_type": "code",
   "execution_count": null,
   "metadata": {
    "collapsed": false
   },
   "outputs": [],
   "source": [
    "E"
   ]
  },
  {
   "cell_type": "code",
   "execution_count": null,
   "metadata": {
    "collapsed": false
   },
   "outputs": [],
   "source": [
    "E.rref()"
   ]
  },
  {
   "cell_type": "code",
   "execution_count": null,
   "metadata": {
    "collapsed": false
   },
   "outputs": [],
   "source": [
    "point_E = E.rref()[0][:,3]\n",
    "nullspace_E = E[0:3,0:3].nullspace()[0]\n",
    "s = symbols('s')\n",
    "point_E + s*nullspace_E"
   ]
  },
  {
   "cell_type": "markdown",
   "metadata": {},
   "source": [
    "### Solving f)"
   ]
  },
  {
   "cell_type": "code",
   "execution_count": null,
   "metadata": {
    "collapsed": false
   },
   "outputs": [],
   "source": [
    "F"
   ]
  },
  {
   "cell_type": "code",
   "execution_count": null,
   "metadata": {
    "collapsed": false
   },
   "outputs": [],
   "source": [
    "F.rref()"
   ]
  },
  {
   "cell_type": "code",
   "execution_count": null,
   "metadata": {
    "collapsed": false
   },
   "outputs": [],
   "source": [
    "point_F = F.rref()[0][:,3]\n",
    "nullspace_F = F[0:3,0:3].nullspace()[0]\n",
    "s = symbols('s')\n",
    "point_F + s*nullspace_F"
   ]
  },
  {
   "cell_type": "code",
   "execution_count": null,
   "metadata": {
    "collapsed": false
   },
   "outputs": [],
   "source": []
  },
  {
   "cell_type": "code",
   "execution_count": null,
   "metadata": {
    "collapsed": true
   },
   "outputs": [],
   "source": []
  },
  {
   "cell_type": "code",
   "execution_count": null,
   "metadata": {
    "collapsed": false
   },
   "outputs": [],
   "source": []
  },
  {
   "cell_type": "code",
   "execution_count": null,
   "metadata": {
    "collapsed": true
   },
   "outputs": [],
   "source": []
  }
 ],
 "metadata": {
  "kernelspec": {
   "display_name": "Python 3",
   "language": "python",
   "name": "python3"
  },
  "language_info": {
   "codemirror_mode": {
    "name": "ipython",
    "version": 3
   },
   "file_extension": ".py",
   "mimetype": "text/x-python",
   "name": "python",
   "nbconvert_exporter": "python",
   "pygments_lexer": "ipython3",
   "version": "3.5.1"
  }
 },
 "nbformat": 4,
 "nbformat_minor": 0
}
