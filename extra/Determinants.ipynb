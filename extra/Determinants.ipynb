{
 "cells": [
  {
   "cell_type": "markdown",
   "metadata": {},
   "source": [
    "# Determinant formula from Cavalieri's principle"
   ]
  },
  {
   "cell_type": "code",
   "execution_count": 2,
   "metadata": {
    "collapsed": true
   },
   "outputs": [],
   "source": [
    "# setup SymPy\n",
    "from sympy import *\n",
    "init_printing()\n",
    "Vector = Matrix\n",
    "\n",
    "# setup plotting\n",
    "#%matplotlib inline\n",
    "%matplotlib notebook\n",
    "import matplotlib.pyplot as mpl\n",
    "from util.plot_helpers import plot_vec, plot_vecs, plot_line, plot_plane, autoscale_arrows"
   ]
  },
  {
   "cell_type": "markdown",
   "metadata": {},
   "source": [
    "## Two dimentions"
   ]
  },
  {
   "cell_type": "code",
   "execution_count": 2,
   "metadata": {
    "collapsed": false
   },
   "outputs": [
    {
     "data": {
      "image/png": "[encoded data removed]",
      "text/latex": [
       "$$a d - b c$$"
      ],
      "text/plain": [
       "a⋅d - b⋅c"
      ]
     },
     "execution_count": 2,
     "metadata": {},
     "output_type": "execute_result"
    }
   ],
   "source": [
    "a,b, c,d = symbols('a b  c d')\n",
    "\n",
    "# Consider the volume of the parallelegram with sides:\n",
    "u1 = Vector([a,b])\n",
    "u2 = Vector([c,d])\n",
    "\n",
    "# We can compute the volume of the parallelpiped by computing the deteminant of\n",
    "A = Matrix([[a,b],\n",
    "            [c,d]])\n",
    "A.det()"
   ]
  },
  {
   "cell_type": "markdown",
   "metadata": {},
   "source": [
    "###  Cavalieri's principle\n",
    "\n",
    "![Cavalieri's principle](http://mathaware.org/mam/00/master/essays/dimension/JPG/figure10.jpg)\n",
    "\n",
    "Mathematically, we have \n",
    "\n",
    "$$\n",
    "  D(\\vec{u}_1, \\  \\vec{u}_2)\n",
    "  = \n",
    "  D(\\vec{u}_1 - \\alpha \\vec{u}_2, \\ \\vec{u}_2).\n",
    "$$"
   ]
  },
  {
   "cell_type": "code",
   "execution_count": 3,
   "metadata": {
    "collapsed": false
   },
   "outputs": [
    {
     "data": {
      "image/png": "[encoded data removed]",
      "text/latex": [
       "$$\\left[\\begin{matrix}a - \\frac{b c}{d} & 0\\\\c & d\\end{matrix}\\right]$$"
      ],
      "text/plain": [
       "⎡    b⋅c   ⎤\n",
       "⎢a - ───  0⎥\n",
       "⎢     d    ⎥\n",
       "⎢          ⎥\n",
       "⎣   c     d⎦"
      ]
     },
     "execution_count": 3,
     "metadata": {},
     "output_type": "execute_result"
    }
   ],
   "source": [
    "# choose alpha so A's top right entry will be zero\n",
    "alpha = symbols('alpha')\n",
    "\n",
    "alpha = b/d\n",
    "A[0,:] = A[0,:] - alpha*A[1,:]\n",
    "A"
   ]
  },
  {
   "cell_type": "markdown",
   "metadata": {},
   "source": [
    "Copmputing the area is the same as computing the product of the entries on the diagonal:"
   ]
  },
  {
   "cell_type": "code",
   "execution_count": 4,
   "metadata": {
    "collapsed": false
   },
   "outputs": [
    {
     "data": {
      "image/png": "[encoded data removed]",
      "text/latex": [
       "$$d \\left(a - \\frac{b c}{d}\\right)$$"
      ],
      "text/plain": [
       "  ⎛    b⋅c⎞\n",
       "d⋅⎜a - ───⎟\n",
       "  ⎝     d ⎠"
      ]
     },
     "execution_count": 4,
     "metadata": {},
     "output_type": "execute_result"
    }
   ],
   "source": [
    "A[0,0]*A[1,1]"
   ]
  },
  {
   "cell_type": "code",
   "execution_count": 5,
   "metadata": {
    "collapsed": false
   },
   "outputs": [
    {
     "data": {
      "image/png": "[encoded data removed]",
      "text/latex": [
       "$$a d - b c$$"
      ],
      "text/plain": [
       "a⋅d - b⋅c"
      ]
     },
     "execution_count": 5,
     "metadata": {},
     "output_type": "execute_result"
    }
   ],
   "source": [
    "simplify( A[0,0]*A[1,1] )"
   ]
  },
  {
   "cell_type": "markdown",
   "metadata": {},
   "source": [
    "**Intuition:** the coefficient $\\alpha$ encodes something very important about the \"alternating multi-linear\" structure that deteminants and cross products embody. In words, the choice of $\\alpha$ and the resulting expression $a-\\frac{bc}{d}$ correponds to what happens to the first component of $\\vec{u}_1$ when we make it's second component zero.\n",
    "\n",
    "(Yeah, I know, handwavy like crazy, but better than nothing.)"
   ]
  },
  {
   "cell_type": "markdown",
   "metadata": {},
   "source": [
    "## Three dimentions"
   ]
  },
  {
   "cell_type": "code",
   "execution_count": 6,
   "metadata": {
    "collapsed": false
   },
   "outputs": [
    {
     "data": {
      "image/png": "[encoded data removed]",
      "text/latex": [
       "$$a e i - a f h - b d i + b f g + c d h - c e g$$"
      ],
      "text/plain": [
       "a⋅e⋅i - a⋅f⋅h - b⋅d⋅i + b⋅f⋅g + c⋅d⋅h - c⋅e⋅g"
      ]
     },
     "execution_count": 6,
     "metadata": {},
     "output_type": "execute_result"
    }
   ],
   "source": [
    "a,b,c, d,e,f, g,h,i = symbols('a b c  d e f  g h i')\n",
    "\n",
    "# Consider the volume of the parellelpiped with sides:\n",
    "u1 = Vector([a,b,c])\n",
    "u2 = Vector([d,e,f])\n",
    "u3 = Vector([g,h,i])\n",
    "\n",
    "# We can compute the volume of the parallelpiped by computing the deteminant of\n",
    "A = Matrix([[a,b,c],\n",
    "            [d,e,f],\n",
    "            [g,h,i]])\n",
    "A.det()"
   ]
  },
  {
   "cell_type": "markdown",
   "metadata": {},
   "source": [
    "###  Cavalieri's principle\n",
    "\n",
    "![Cavalieri's principle](http://mathaware.org/mam/00/master/essays/dimension/JPG/figure10.jpg)\n"
   ]
  },
  {
   "cell_type": "markdown",
   "metadata": {},
   "source": [
    "This principle leads to the following property of the determinant\n",
    "\n",
    "$$\n",
    "  D(\\vec{u}_1, \\ \\vec{u}_2, \\ \\vec{u}_3)\n",
    "  = \n",
    "  D(\\vec{u}_1,  \\ \\vec{u}_2- k \\vec{u}_3, \\ \\vec{u}_3)\n",
    "  =\n",
    "  D(\\vec{u}_1 -\\ell\\vec{u}_2 - m\\vec{u}_3  , \\  \\vec{u}_2-k \\vec{u}_3, \\ \\vec{u}_3).\n",
    "$$\n",
    "\n",
    "In particuler we make the following particular choice for the cofficients\n",
    "\n",
    "$$\n",
    "  D(\\vec{u}_1, \\vec{u}_2, \\vec{u}_3)\n",
    "  = \n",
    "  D(\\vec{u}_1 - \\beta \\vec{u}_3 - \\gamma(\\vec{u}_2 - \\alpha\\vec{u}_3), \\  \\vec{u}_2 - \\alpha\\vec{u}_3, \\ \\vec{u}_3).\n",
    "$$\n",
    "\n",
    "Choosing the right coefficients $\\alpha$, $\\beta$, and $\\gamma$ can transform the matrix $A$ into a lower triangular form, which will make computing the determinant easier."
   ]
  },
  {
   "cell_type": "code",
   "execution_count": 7,
   "metadata": {
    "collapsed": false
   },
   "outputs": [
    {
     "data": {
      "image/png": "[encoded data removed]",
      "text/latex": [
       "$$\\left[\\begin{matrix}a & b & c\\\\d & e & f\\\\g & h & i\\end{matrix}\\right]$$"
      ],
      "text/plain": [
       "⎡a  b  c⎤\n",
       "⎢       ⎥\n",
       "⎢d  e  f⎥\n",
       "⎢       ⎥\n",
       "⎣g  h  i⎦"
      ]
     },
     "execution_count": 7,
     "metadata": {},
     "output_type": "execute_result"
    }
   ],
   "source": [
    "alpha, beta, gamma = symbols('alpha beta gamma')\n",
    "\n",
    "A"
   ]
  },
  {
   "cell_type": "code",
   "execution_count": 8,
   "metadata": {
    "collapsed": false
   },
   "outputs": [
    {
     "data": {
      "image/png": "[encoded data removed]",
      "text/latex": [
       "$$\\left[\\begin{matrix}a & b & c\\\\d - \\frac{f g}{i} & e - \\frac{f h}{i} & 0\\\\g & h & i\\end{matrix}\\right]$$"
      ],
      "text/plain": [
       "⎡   a        b     c⎤\n",
       "⎢                   ⎥\n",
       "⎢    f⋅g      f⋅h   ⎥\n",
       "⎢d - ───  e - ───  0⎥\n",
       "⎢     i        i    ⎥\n",
       "⎢                   ⎥\n",
       "⎣   g        h     i⎦"
      ]
     },
     "execution_count": 8,
     "metadata": {},
     "output_type": "execute_result"
    }
   ],
   "source": [
    "# first get rid of f by subtracting third row from second row\n",
    "alpha = f/i\n",
    "A[1,:]= A[1,:] - alpha*A[2,:]\n",
    "A"
   ]
  },
  {
   "cell_type": "code",
   "execution_count": 9,
   "metadata": {
    "collapsed": false
   },
   "outputs": [
    {
     "data": {
      "image/png": "[encoded data removed]",
      "text/latex": [
       "$$\\left[\\begin{matrix}a - \\frac{c g}{i} & b - \\frac{c h}{i} & 0\\\\d - \\frac{f g}{i} & e - \\frac{f h}{i} & 0\\\\g & h & i\\end{matrix}\\right]$$"
      ],
      "text/plain": [
       "⎡    c⋅g      c⋅h   ⎤\n",
       "⎢a - ───  b - ───  0⎥\n",
       "⎢     i        i    ⎥\n",
       "⎢                   ⎥\n",
       "⎢    f⋅g      f⋅h   ⎥\n",
       "⎢d - ───  e - ───  0⎥\n",
       "⎢     i        i    ⎥\n",
       "⎢                   ⎥\n",
       "⎣   g        h     i⎦"
      ]
     },
     "execution_count": 9,
     "metadata": {},
     "output_type": "execute_result"
    }
   ],
   "source": [
    "# second get rid of c by subtracting third row from first row\n",
    "beta = c/i\n",
    "A[0,:]= A[0,:] - beta*A[2,:]\n",
    "A"
   ]
  },
  {
   "cell_type": "code",
   "execution_count": 10,
   "metadata": {
    "collapsed": false
   },
   "outputs": [
    {
     "data": {
      "image/png": "[encoded data removed]",
      "text/latex": [
       "$$\\left[\\begin{matrix}a - \\frac{c g}{i} - \\frac{\\left(b - \\frac{c h}{i}\\right) \\left(d - \\frac{f g}{i}\\right)}{e - \\frac{f h}{i}} & 0 & 0\\\\d - \\frac{f g}{i} & e - \\frac{f h}{i} & 0\\\\g & h & i\\end{matrix}\\right]$$"
      ],
      "text/plain": [
       "⎡          ⎛    c⋅h⎞ ⎛    f⋅g⎞            ⎤\n",
       "⎢          ⎜b - ───⎟⋅⎜d - ───⎟            ⎥\n",
       "⎢    c⋅g   ⎝     i ⎠ ⎝     i ⎠            ⎥\n",
       "⎢a - ─── - ───────────────────     0     0⎥\n",
       "⎢     i              f⋅h                  ⎥\n",
       "⎢                e - ───                  ⎥\n",
       "⎢                     i                   ⎥\n",
       "⎢                                         ⎥\n",
       "⎢               f⋅g                 f⋅h   ⎥\n",
       "⎢           d - ───             e - ───  0⎥\n",
       "⎢                i                   i    ⎥\n",
       "⎢                                         ⎥\n",
       "⎣              g                   h     i⎦"
      ]
     },
     "execution_count": 10,
     "metadata": {},
     "output_type": "execute_result"
    }
   ],
   "source": [
    "# third get rid of b-ch/i by subtracting second row from first row\n",
    "gamma = A[0,1]/A[1,1]\n",
    "A[0,:]= A[0,:] - gamma*A[1,:]\n",
    "A"
   ]
  },
  {
   "cell_type": "markdown",
   "metadata": {},
   "source": [
    "Stargting from the first row, the volume of the determinant is proporitonal to the coeffieicnt `A[0,0]`. The are of the parallelepiped formd by the first two rows is `A[0,0]*A[1,1]` (we can ignore `A[1,0]`) and the overall volume is\n"
   ]
  },
  {
   "cell_type": "code",
   "execution_count": 11,
   "metadata": {
    "collapsed": false
   },
   "outputs": [
    {
     "data": {
      "image/png": "[encoded data removed]",
      "text/latex": [
       "$$i \\left(e - \\frac{f h}{i}\\right) \\left(a - \\frac{c g}{i} - \\frac{\\left(b - \\frac{c h}{i}\\right) \\left(d - \\frac{f g}{i}\\right)}{e - \\frac{f h}{i}}\\right)$$"
      ],
      "text/plain": [
       "            ⎛          ⎛    c⋅h⎞ ⎛    f⋅g⎞⎞\n",
       "            ⎜          ⎜b - ───⎟⋅⎜d - ───⎟⎟\n",
       "  ⎛    f⋅h⎞ ⎜    c⋅g   ⎝     i ⎠ ⎝     i ⎠⎟\n",
       "i⋅⎜e - ───⎟⋅⎜a - ─── - ───────────────────⎟\n",
       "  ⎝     i ⎠ ⎜     i              f⋅h      ⎟\n",
       "            ⎜                e - ───      ⎟\n",
       "            ⎝                     i       ⎠"
      ]
     },
     "execution_count": 11,
     "metadata": {},
     "output_type": "execute_result"
    }
   ],
   "source": [
    "A[0,0]*A[1,1]*A[2,2]"
   ]
  },
  {
   "cell_type": "code",
   "execution_count": 12,
   "metadata": {
    "collapsed": false
   },
   "outputs": [
    {
     "data": {
      "image/png": "[encoded data removed]",
      "text/latex": [
       "$$a e i - a f h - b d i + b f g + c d h - c e g$$"
      ],
      "text/plain": [
       "a⋅e⋅i - a⋅f⋅h - b⋅d⋅i + b⋅f⋅g + c⋅d⋅h - c⋅e⋅g"
      ]
     },
     "execution_count": 12,
     "metadata": {},
     "output_type": "execute_result"
    }
   ],
   "source": [
    "simplify( A[0,0]*A[1,1]*A[2,2] )"
   ]
  },
  {
   "cell_type": "code",
   "execution_count": 13,
   "metadata": {
    "collapsed": true
   },
   "outputs": [],
   "source": [
    "# I still don't know how to motivate the recusive formula except to say it turns out that way...\n",
    "\n",
    "# I tried to think about decomposing the problem into subparts,\n",
    "#  but i cannot motivate det(Ai + Aj + Ak) != det(Ai) + det(Aj) + det(Ak)\n",
    "#  where Ai is the same as A but with A[0,1] and A[0,2] set to zero.\n"
   ]
  },
  {
   "cell_type": "code",
   "execution_count": 3,
   "metadata": {
    "collapsed": false
   },
   "outputs": [
    {
     "data": {
      "application/javascript": [
       "/* Put everything inside the global mpl namespace */\n",
       "window.mpl = {};\n",
       "\n",
       "mpl.get_websocket_type = function() {\n",
       "    if (typeof(WebSocket) !== 'undefined') {\n",
       "        return WebSocket;\n",
       "    } else if (typeof(MozWebSocket) !== 'undefined') {\n",
       "        return MozWebSocket;\n",
       "    } else {\n",
       "        alert('Your browser does not have WebSocket support.' +\n",
       "              'Please try Chrome, Safari or Firefox ≥ 6. ' +\n",
       "              'Firefox 4 and 5 are also supported but you ' +\n",
       "              'have to enable WebSockets in about:config.');\n",
       "    };\n",
       "}\n",
       "\n",
       "mpl.figure = function(figure_id, websocket, ondownload, parent_element) {\n",
       "    this.id = figure_id;\n",
       "\n",
       "    this.ws = websocket;\n",
       "\n",
       "    this.supports_binary = (this.ws.binaryType != undefined);\n",
       "\n",
       "    if (!this.supports_binary) {\n",
       "        var warnings = document.getElementById(\"mpl-warnings\");\n",
       "        if (warnings) {\n",
       "            warnings.style.display = 'block';\n",
       "            warnings.textContent = (\n",
       "                \"This browser does not support binary websocket messages. \" +\n",
       "                    \"Performance may be slow.\");\n",
       "        }\n",
       "    }\n",
       "\n",
       "    this.imageObj = new Image();\n",
       "\n",
       "    this.context = undefined;\n",
       "    this.message = undefined;\n",
       "    this.canvas = undefined;\n",
       "    this.rubberband_canvas = undefined;\n",
       "    this.rubberband_context = undefined;\n",
       "    this.format_dropdown = undefined;\n",
       "\n",
       "    this.image_mode = 'full';\n",
       "\n",
       "    this.root = $('<div/>');\n",
       "    this._root_extra_style(this.root)\n",
       "    this.root.attr('style', 'display: inline-block');\n",
       "\n",
       "    $(parent_element).append(this.root);\n",
       "\n",
       "    this._init_header(this);\n",
       "    this._init_canvas(this);\n",
       "    this._init_toolbar(this);\n",
       "\n",
       "    var fig = this;\n",
       "\n",
       "    this.waiting = false;\n",
       "\n",
       "    this.ws.onopen =  function () {\n",
       "            fig.send_message(\"supports_binary\", {value: fig.supports_binary});\n",
       "            fig.send_message(\"send_image_mode\", {});\n",
       "            fig.send_message(\"refresh\", {});\n",
       "        }\n",
       "\n",
       "    this.imageObj.onload = function() {\n",
       "            if (fig.image_mode == 'full') {\n",
       "                // Full images could contain transparency (where diff images\n",
       "                // almost always do), so we need to clear the canvas so that\n",
       "                // there is no ghosting.\n",
       "                fig.context.clearRect(0, 0, fig.canvas.width, fig.canvas.height);\n",
       "            }\n",
       "            fig.context.drawImage(fig.imageObj, 0, 0);\n",
       "        };\n",
       "\n",
       "    this.imageObj.onunload = function() {\n",
       "        this.ws.close();\n",
       "    }\n",
       "\n",
       "    this.ws.onmessage = this._make_on_message_function(this);\n",
       "\n",
       "    this.ondownload = ondownload;\n",
       "}\n",
       "\n",
       "mpl.figure.prototype._init_header = function() {\n",
       "    var titlebar = $(\n",
       "        '<div class=\"ui-dialog-titlebar ui-widget-header ui-corner-all ' +\n",
       "        'ui-helper-clearfix\"/>');\n",
       "    var titletext = $(\n",
       "        '<div class=\"ui-dialog-title\" style=\"width: 100%; ' +\n",
       "        'text-align: center; padding: 3px;\"/>');\n",
       "    titlebar.append(titletext)\n",
       "    this.root.append(titlebar);\n",
       "    this.header = titletext[0];\n",
       "}\n",
       "\n",
       "\n",
       "\n",
       "mpl.figure.prototype._canvas_extra_style = function(canvas_div) {\n",
       "\n",
       "}\n",
       "\n",
       "\n",
       "mpl.figure.prototype._root_extra_style = function(canvas_div) {\n",
       "\n",
       "}\n",
       "\n",
       "mpl.figure.prototype._init_canvas = function() {\n",
       "    var fig = this;\n",
       "\n",
       "    var canvas_div = $('<div/>');\n",
       "\n",
       "    canvas_div.attr('style', 'position: relative; clear: both; outline: 0');\n",
       "\n",
       "    function canvas_keyboard_event(event) {\n",
       "        return fig.key_event(event, event['data']);\n",
       "    }\n",
       "\n",
       "    canvas_div.keydown('key_press', canvas_keyboard_event);\n",
       "    canvas_div.keyup('key_release', canvas_keyboard_event);\n",
       "    this.canvas_div = canvas_div\n",
       "    this._canvas_extra_style(canvas_div)\n",
       "    this.root.append(canvas_div);\n",
       "\n",
       "    var canvas = $('<canvas/>');\n",
       "    canvas.addClass('mpl-canvas');\n",
       "    canvas.attr('style', \"left: 0; top: 0; z-index: 0; outline: 0\")\n",
       "\n",
       "    this.canvas = canvas[0];\n",
       "    this.context = canvas[0].getContext(\"2d\");\n",
       "\n",
       "    var rubberband = $('<canvas/>');\n",
       "    rubberband.attr('style', \"position: absolute; left: 0; top: 0; z-index: 1;\")\n",
       "\n",
       "    var pass_mouse_events = true;\n",
       "\n",
       "    canvas_div.resizable({\n",
       "        start: function(event, ui) {\n",
       "            pass_mouse_events = false;\n",
       "        },\n",
       "        resize: function(event, ui) {\n",
       "            fig.request_resize(ui.size.width, ui.size.height);\n",
       "        },\n",
       "        stop: function(event, ui) {\n",
       "            pass_mouse_events = true;\n",
       "            fig.request_resize(ui.size.width, ui.size.height);\n",
       "        },\n",
       "    });\n",
       "\n",
       "    function mouse_event_fn(event) {\n",
       "        if (pass_mouse_events)\n",
       "            return fig.mouse_event(event, event['data']);\n",
       "    }\n",
       "\n",
       "    rubberband.mousedown('button_press', mouse_event_fn);\n",
       "    rubberband.mouseup('button_release', mouse_event_fn);\n",
       "    // Throttle sequential mouse events to 1 every 20ms.\n",
       "    rubberband.mousemove('motion_notify', mouse_event_fn);\n",
       "\n",
       "    rubberband.mouseenter('figure_enter', mouse_event_fn);\n",
       "    rubberband.mouseleave('figure_leave', mouse_event_fn);\n",
       "\n",
       "    canvas_div.on(\"wheel\", function (event) {\n",
       "        event = event.originalEvent;\n",
       "        event['data'] = 'scroll'\n",
       "        if (event.deltaY < 0) {\n",
       "            event.step = 1;\n",
       "        } else {\n",
       "            event.step = -1;\n",
       "        }\n",
       "        mouse_event_fn(event);\n",
       "    });\n",
       "\n",
       "    canvas_div.append(canvas);\n",
       "    canvas_div.append(rubberband);\n",
       "\n",
       "    this.rubberband = rubberband;\n",
       "    this.rubberband_canvas = rubberband[0];\n",
       "    this.rubberband_context = rubberband[0].getContext(\"2d\");\n",
       "    this.rubberband_context.strokeStyle = \"#000000\";\n",
       "\n",
       "    this._resize_canvas = function(width, height) {\n",
       "        // Keep the size of the canvas, canvas container, and rubber band\n",
       "        // canvas in synch.\n",
       "        canvas_div.css('width', width)\n",
       "        canvas_div.css('height', height)\n",
       "\n",
       "        canvas.attr('width', width);\n",
       "        canvas.attr('height', height);\n",
       "\n",
       "        rubberband.attr('width', width);\n",
       "        rubberband.attr('height', height);\n",
       "    }\n",
       "\n",
       "    // Set the figure to an initial 600x600px, this will subsequently be updated\n",
       "    // upon first draw.\n",
       "    this._resize_canvas(600, 600);\n",
       "\n",
       "    // Disable right mouse context menu.\n",
       "    $(this.rubberband_canvas).bind(\"contextmenu\",function(e){\n",
       "        return false;\n",
       "    });\n",
       "\n",
       "    function set_focus () {\n",
       "        canvas.focus();\n",
       "        canvas_div.focus();\n",
       "    }\n",
       "\n",
       "    window.setTimeout(set_focus, 100);\n",
       "}\n",
       "\n",
       "mpl.figure.prototype._init_toolbar = function() {\n",
       "    var fig = this;\n",
       "\n",
       "    var nav_element = $('<div/>')\n",
       "    nav_element.attr('style', 'width: 100%');\n",
       "    this.root.append(nav_element);\n",
       "\n",
       "    // Define a callback function for later on.\n",
       "    function toolbar_event(event) {\n",
       "        return fig.toolbar_button_onclick(event['data']);\n",
       "    }\n",
       "    function toolbar_mouse_event(event) {\n",
       "        return fig.toolbar_button_onmouseover(event['data']);\n",
       "    }\n",
       "\n",
       "    for(var toolbar_ind in mpl.toolbar_items) {\n",
       "        var name = mpl.toolbar_items[toolbar_ind][0];\n",
       "        var tooltip = mpl.toolbar_items[toolbar_ind][1];\n",
       "        var image = mpl.toolbar_items[toolbar_ind][2];\n",
       "        var method_name = mpl.toolbar_items[toolbar_ind][3];\n",
       "\n",
       "        if (!name) {\n",
       "            // put a spacer in here.\n",
       "            continue;\n",
       "        }\n",
       "        var button = $('<button/>');\n",
       "        button.addClass('ui-button ui-widget ui-state-default ui-corner-all ' +\n",
       "                        'ui-button-icon-only');\n",
       "        button.attr('role', 'button');\n",
       "        button.attr('aria-disabled', 'false');\n",
       "        button.click(method_name, toolbar_event);\n",
       "        button.mouseover(tooltip, toolbar_mouse_event);\n",
       "\n",
       "        var icon_img = $('<span/>');\n",
       "        icon_img.addClass('ui-button-icon-primary ui-icon');\n",
       "        icon_img.addClass(image);\n",
       "        icon_img.addClass('ui-corner-all');\n",
       "\n",
       "        var tooltip_span = $('<span/>');\n",
       "        tooltip_span.addClass('ui-button-text');\n",
       "        tooltip_span.html(tooltip);\n",
       "\n",
       "        button.append(icon_img);\n",
       "        button.append(tooltip_span);\n",
       "\n",
       "        nav_element.append(button);\n",
       "    }\n",
       "\n",
       "    var fmt_picker_span = $('<span/>');\n",
       "\n",
       "    var fmt_picker = $('<select/>');\n",
       "    fmt_picker.addClass('mpl-toolbar-option ui-widget ui-widget-content');\n",
       "    fmt_picker_span.append(fmt_picker);\n",
       "    nav_element.append(fmt_picker_span);\n",
       "    this.format_dropdown = fmt_picker[0];\n",
       "\n",
       "    for (var ind in mpl.extensions) {\n",
       "        var fmt = mpl.extensions[ind];\n",
       "        var option = $(\n",
       "            '<option/>', {selected: fmt === mpl.default_extension}).html(fmt);\n",
       "        fmt_picker.append(option)\n",
       "    }\n",
       "\n",
       "    // Add hover states to the ui-buttons\n",
       "    $( \".ui-button\" ).hover(\n",
       "        function() { $(this).addClass(\"ui-state-hover\");},\n",
       "        function() { $(this).removeClass(\"ui-state-hover\");}\n",
       "    );\n",
       "\n",
       "    var status_bar = $('<span class=\"mpl-message\"/>');\n",
       "    nav_element.append(status_bar);\n",
       "    this.message = status_bar[0];\n",
       "}\n",
       "\n",
       "mpl.figure.prototype.request_resize = function(x_pixels, y_pixels) {\n",
       "    // Request matplotlib to resize the figure. Matplotlib will then trigger a resize in the client,\n",
       "    // which will in turn request a refresh of the image.\n",
       "    this.send_message('resize', {'width': x_pixels, 'height': y_pixels});\n",
       "}\n",
       "\n",
       "mpl.figure.prototype.send_message = function(type, properties) {\n",
       "    properties['type'] = type;\n",
       "    properties['figure_id'] = this.id;\n",
       "    this.ws.send(JSON.stringify(properties));\n",
       "}\n",
       "\n",
       "mpl.figure.prototype.send_draw_message = function() {\n",
       "    if (!this.waiting) {\n",
       "        this.waiting = true;\n",
       "        this.ws.send(JSON.stringify({type: \"draw\", figure_id: this.id}));\n",
       "    }\n",
       "}\n",
       "\n",
       "\n",
       "mpl.figure.prototype.handle_save = function(fig, msg) {\n",
       "    var format_dropdown = fig.format_dropdown;\n",
       "    var format = format_dropdown.options[format_dropdown.selectedIndex].value;\n",
       "    fig.ondownload(fig, format);\n",
       "}\n",
       "\n",
       "\n",
       "mpl.figure.prototype.handle_resize = function(fig, msg) {\n",
       "    var size = msg['size'];\n",
       "    if (size[0] != fig.canvas.width || size[1] != fig.canvas.height) {\n",
       "        fig._resize_canvas(size[0], size[1]);\n",
       "        fig.send_message(\"refresh\", {});\n",
       "    };\n",
       "}\n",
       "\n",
       "mpl.figure.prototype.handle_rubberband = function(fig, msg) {\n",
       "    var x0 = msg['x0'];\n",
       "    var y0 = fig.canvas.height - msg['y0'];\n",
       "    var x1 = msg['x1'];\n",
       "    var y1 = fig.canvas.height - msg['y1'];\n",
       "    x0 = Math.floor(x0) + 0.5;\n",
       "    y0 = Math.floor(y0) + 0.5;\n",
       "    x1 = Math.floor(x1) + 0.5;\n",
       "    y1 = Math.floor(y1) + 0.5;\n",
       "    var min_x = Math.min(x0, x1);\n",
       "    var min_y = Math.min(y0, y1);\n",
       "    var width = Math.abs(x1 - x0);\n",
       "    var height = Math.abs(y1 - y0);\n",
       "\n",
       "    fig.rubberband_context.clearRect(\n",
       "        0, 0, fig.canvas.width, fig.canvas.height);\n",
       "\n",
       "    fig.rubberband_context.strokeRect(min_x, min_y, width, height);\n",
       "}\n",
       "\n",
       "mpl.figure.prototype.handle_figure_label = function(fig, msg) {\n",
       "    // Updates the figure title.\n",
       "    fig.header.textContent = msg['label'];\n",
       "}\n",
       "\n",
       "mpl.figure.prototype.handle_cursor = function(fig, msg) {\n",
       "    var cursor = msg['cursor'];\n",
       "    switch(cursor)\n",
       "    {\n",
       "    case 0:\n",
       "        cursor = 'pointer';\n",
       "        break;\n",
       "    case 1:\n",
       "        cursor = 'default';\n",
       "        break;\n",
       "    case 2:\n",
       "        cursor = 'crosshair';\n",
       "        break;\n",
       "    case 3:\n",
       "        cursor = 'move';\n",
       "        break;\n",
       "    }\n",
       "    fig.rubberband_canvas.style.cursor = cursor;\n",
       "}\n",
       "\n",
       "mpl.figure.prototype.handle_message = function(fig, msg) {\n",
       "    fig.message.textContent = msg['message'];\n",
       "}\n",
       "\n",
       "mpl.figure.prototype.handle_draw = function(fig, msg) {\n",
       "    // Request the server to send over a new figure.\n",
       "    fig.send_draw_message();\n",
       "}\n",
       "\n",
       "mpl.figure.prototype.handle_image_mode = function(fig, msg) {\n",
       "    fig.image_mode = msg['mode'];\n",
       "}\n",
       "\n",
       "mpl.figure.prototype.updated_canvas_event = function() {\n",
       "    // Called whenever the canvas gets updated.\n",
       "    this.send_message(\"ack\", {});\n",
       "}\n",
       "\n",
       "// A function to construct a web socket function for onmessage handling.\n",
       "// Called in the figure constructor.\n",
       "mpl.figure.prototype._make_on_message_function = function(fig) {\n",
       "    return function socket_on_message(evt) {\n",
       "        if (evt.data instanceof Blob) {\n",
       "            /* FIXME: We get \"Resource interpreted as Image but\n",
       "             * transferred with MIME type text/plain:\" errors on\n",
       "             * Chrome.  But how to set the MIME type?  It doesn't seem\n",
       "             * to be part of the websocket stream */\n",
       "            evt.data.type = \"image/png\";\n",
       "\n",
       "            /* Free the memory for the previous frames */\n",
       "            if (fig.imageObj.src) {\n",
       "                (window.URL || window.webkitURL).revokeObjectURL(\n",
       "                    fig.imageObj.src);\n",
       "            }\n",
       "\n",
       "            fig.imageObj.src = (window.URL || window.webkitURL).createObjectURL(\n",
       "                evt.data);\n",
       "            fig.updated_canvas_event();\n",
       "            fig.waiting = false;\n",
       "            return;\n",
       "        }\n",
       "        else if (typeof evt.data === 'string' && evt.data.slice(0, 21) == \"data:image/png;base64\") {\n",
       "            fig.imageObj.src = evt.data;\n",
       "            fig.updated_canvas_event();\n",
       "            fig.waiting = false;\n",
       "            return;\n",
       "        }\n",
       "\n",
       "        var msg = JSON.parse(evt.data);\n",
       "        var msg_type = msg['type'];\n",
       "\n",
       "        // Call the  \"handle_{type}\" callback, which takes\n",
       "        // the figure and JSON message as its only arguments.\n",
       "        try {\n",
       "            var callback = fig[\"handle_\" + msg_type];\n",
       "        } catch (e) {\n",
       "            console.log(\"No handler for the '\" + msg_type + \"' message type: \", msg);\n",
       "            return;\n",
       "        }\n",
       "\n",
       "        if (callback) {\n",
       "            try {\n",
       "                // console.log(\"Handling '\" + msg_type + \"' message: \", msg);\n",
       "                callback(fig, msg);\n",
       "            } catch (e) {\n",
       "                console.log(\"Exception inside the 'handler_\" + msg_type + \"' callback:\", e, e.stack, msg);\n",
       "            }\n",
       "        }\n",
       "    };\n",
       "}\n",
       "\n",
       "// from http://stackoverflow.com/questions/1114465/getting-mouse-location-in-canvas\n",
       "mpl.findpos = function(e) {\n",
       "    //this section is from http://www.quirksmode.org/js/events_properties.html\n",
       "    var targ;\n",
       "    if (!e)\n",
       "        e = window.event;\n",
       "    if (e.target)\n",
       "        targ = e.target;\n",
       "    else if (e.srcElement)\n",
       "        targ = e.srcElement;\n",
       "    if (targ.nodeType == 3) // defeat Safari bug\n",
       "        targ = targ.parentNode;\n",
       "\n",
       "    // jQuery normalizes the pageX and pageY\n",
       "    // pageX,Y are the mouse positions relative to the document\n",
       "    // offset() returns the position of the element relative to the document\n",
       "    var x = e.pageX - $(targ).offset().left;\n",
       "    var y = e.pageY - $(targ).offset().top;\n",
       "\n",
       "    return {\"x\": x, \"y\": y};\n",
       "};\n",
       "\n",
       "/*\n",
       " * return a copy of an object with only non-object keys\n",
       " * we need this to avoid circular references\n",
       " * http://stackoverflow.com/a/24161582/3208463\n",
       " */\n",
       "function simpleKeys (original) {\n",
       "  return Object.keys(original).reduce(function (obj, key) {\n",
       "    if (typeof original[key] !== 'object')\n",
       "        obj[key] = original[key]\n",
       "    return obj;\n",
       "  }, {});\n",
       "}\n",
       "\n",
       "mpl.figure.prototype.mouse_event = function(event, name) {\n",
       "    var canvas_pos = mpl.findpos(event)\n",
       "\n",
       "    if (name === 'button_press')\n",
       "    {\n",
       "        this.canvas.focus();\n",
       "        this.canvas_div.focus();\n",
       "    }\n",
       "\n",
       "    var x = canvas_pos.x;\n",
       "    var y = canvas_pos.y;\n",
       "\n",
       "    this.send_message(name, {x: x, y: y, button: event.button,\n",
       "                             step: event.step,\n",
       "                             guiEvent: simpleKeys(event)});\n",
       "\n",
       "    /* This prevents the web browser from automatically changing to\n",
       "     * the text insertion cursor when the button is pressed.  We want\n",
       "     * to control all of the cursor setting manually through the\n",
       "     * 'cursor' event from matplotlib */\n",
       "    event.preventDefault();\n",
       "    return false;\n",
       "}\n",
       "\n",
       "mpl.figure.prototype._key_event_extra = function(event, name) {\n",
       "    // Handle any extra behaviour associated with a key event\n",
       "}\n",
       "\n",
       "mpl.figure.prototype.key_event = function(event, name) {\n",
       "\n",
       "    // Prevent repeat events\n",
       "    if (name == 'key_press')\n",
       "    {\n",
       "        if (event.which === this._key)\n",
       "            return;\n",
       "        else\n",
       "            this._key = event.which;\n",
       "    }\n",
       "    if (name == 'key_release')\n",
       "        this._key = null;\n",
       "\n",
       "    var value = '';\n",
       "    if (event.ctrlKey && event.which != 17)\n",
       "        value += \"ctrl+\";\n",
       "    if (event.altKey && event.which != 18)\n",
       "        value += \"alt+\";\n",
       "    if (event.shiftKey && event.which != 16)\n",
       "        value += \"shift+\";\n",
       "\n",
       "    value += 'k';\n",
       "    value += event.which.toString();\n",
       "\n",
       "    this._key_event_extra(event, name);\n",
       "\n",
       "    this.send_message(name, {key: value,\n",
       "                             guiEvent: simpleKeys(event)});\n",
       "    return false;\n",
       "}\n",
       "\n",
       "mpl.figure.prototype.toolbar_button_onclick = function(name) {\n",
       "    if (name == 'download') {\n",
       "        this.handle_save(this, null);\n",
       "    } else {\n",
       "        this.send_message(\"toolbar_button\", {name: name});\n",
       "    }\n",
       "};\n",
       "\n",
       "mpl.figure.prototype.toolbar_button_onmouseover = function(tooltip) {\n",
       "    this.message.textContent = tooltip;\n",
       "};\n",
       "mpl.toolbar_items = [[\"Home\", \"Reset original view\", \"fa fa-home icon-home\", \"home\"], [\"Back\", \"Back to  previous view\", \"fa fa-arrow-left icon-arrow-left\", \"back\"], [\"Forward\", \"Forward to next view\", \"fa fa-arrow-right icon-arrow-right\", \"forward\"], [\"\", \"\", \"\", \"\"], [\"Pan\", \"Pan axes with left mouse, zoom with right\", \"fa fa-arrows icon-move\", \"pan\"], [\"Zoom\", \"Zoom to rectangle\", \"fa fa-square-o icon-check-empty\", \"zoom\"], [\"\", \"\", \"\", \"\"], [\"Download\", \"Download plot\", \"fa fa-floppy-o icon-save\", \"download\"]];\n",
       "\n",
       "mpl.extensions = [\"eps\", \"pdf\", \"png\", \"ps\", \"raw\", \"svg\"];\n",
       "\n",
       "mpl.default_extension = \"png\";var comm_websocket_adapter = function(comm) {\n",
       "    // Create a \"websocket\"-like object which calls the given IPython comm\n",
       "    // object with the appropriate methods. Currently this is a non binary\n",
       "    // socket, so there is still some room for performance tuning.\n",
       "    var ws = {};\n",
       "\n",
       "    ws.close = function() {\n",
       "        comm.close()\n",
       "    };\n",
       "    ws.send = function(m) {\n",
       "        //console.log('sending', m);\n",
       "        comm.send(m);\n",
       "    };\n",
       "    // Register the callback with on_msg.\n",
       "    comm.on_msg(function(msg) {\n",
       "        //console.log('receiving', msg['content']['data'], msg);\n",
       "        // Pass the mpl event to the overriden (by mpl) onmessage function.\n",
       "        ws.onmessage(msg['content']['data'])\n",
       "    });\n",
       "    return ws;\n",
       "}\n",
       "\n",
       "mpl.mpl_figure_comm = function(comm, msg) {\n",
       "    // This is the function which gets called when the mpl process\n",
       "    // starts-up an IPython Comm through the \"matplotlib\" channel.\n",
       "\n",
       "    var id = msg.content.data.id;\n",
       "    // Get hold of the div created by the display call when the Comm\n",
       "    // socket was opened in Python.\n",
       "    var element = $(\"#\" + id);\n",
       "    var ws_proxy = comm_websocket_adapter(comm)\n",
       "\n",
       "    function ondownload(figure, format) {\n",
       "        window.open(figure.imageObj.src);\n",
       "    }\n",
       "\n",
       "    var fig = new mpl.figure(id, ws_proxy,\n",
       "                           ondownload,\n",
       "                           element.get(0));\n",
       "\n",
       "    // Call onopen now - mpl needs it, as it is assuming we've passed it a real\n",
       "    // web socket which is closed, not our websocket->open comm proxy.\n",
       "    ws_proxy.onopen();\n",
       "\n",
       "    fig.parent_element = element.get(0);\n",
       "    fig.cell_info = mpl.find_output_cell(\"<div id='\" + id + \"'></div>\");\n",
       "    if (!fig.cell_info) {\n",
       "        console.error(\"Failed to find cell for figure\", id, fig);\n",
       "        return;\n",
       "    }\n",
       "\n",
       "    var output_index = fig.cell_info[2]\n",
       "    var cell = fig.cell_info[0];\n",
       "\n",
       "};\n",
       "\n",
       "mpl.figure.prototype.handle_close = function(fig, msg) {\n",
       "    fig.root.unbind('remove')\n",
       "\n",
       "    // Update the output cell to use the data from the current canvas.\n",
       "    fig.push_to_output();\n",
       "    var dataURL = fig.canvas.toDataURL();\n",
       "    // Re-enable the keyboard manager in IPython - without this line, in FF,\n",
       "    // the notebook keyboard shortcuts fail.\n",
       "    IPython.keyboard_manager.enable()\n",
       "    $(fig.parent_element).html('<img src=\"' + dataURL + '\">');\n",
       "    fig.close_ws(fig, msg);\n",
       "}\n",
       "\n",
       "mpl.figure.prototype.close_ws = function(fig, msg){\n",
       "    fig.send_message('closing', msg);\n",
       "    // fig.ws.close()\n",
       "}\n",
       "\n",
       "mpl.figure.prototype.push_to_output = function(remove_interactive) {\n",
       "    // Turn the data on the canvas into data in the output cell.\n",
       "    var dataURL = this.canvas.toDataURL();\n",
       "    this.cell_info[1]['text/html'] = '<img src=\"' + dataURL + '\">';\n",
       "}\n",
       "\n",
       "mpl.figure.prototype.updated_canvas_event = function() {\n",
       "    // Tell IPython that the notebook contents must change.\n",
       "    IPython.notebook.set_dirty(true);\n",
       "    this.send_message(\"ack\", {});\n",
       "    var fig = this;\n",
       "    // Wait a second, then push the new image to the DOM so\n",
       "    // that it is saved nicely (might be nice to debounce this).\n",
       "    setTimeout(function () { fig.push_to_output() }, 1000);\n",
       "}\n",
       "\n",
       "mpl.figure.prototype._init_toolbar = function() {\n",
       "    var fig = this;\n",
       "\n",
       "    var nav_element = $('<div/>')\n",
       "    nav_element.attr('style', 'width: 100%');\n",
       "    this.root.append(nav_element);\n",
       "\n",
       "    // Define a callback function for later on.\n",
       "    function toolbar_event(event) {\n",
       "        return fig.toolbar_button_onclick(event['data']);\n",
       "    }\n",
       "    function toolbar_mouse_event(event) {\n",
       "        return fig.toolbar_button_onmouseover(event['data']);\n",
       "    }\n",
       "\n",
       "    for(var toolbar_ind in mpl.toolbar_items){\n",
       "        var name = mpl.toolbar_items[toolbar_ind][0];\n",
       "        var tooltip = mpl.toolbar_items[toolbar_ind][1];\n",
       "        var image = mpl.toolbar_items[toolbar_ind][2];\n",
       "        var method_name = mpl.toolbar_items[toolbar_ind][3];\n",
       "\n",
       "        if (!name) { continue; };\n",
       "\n",
       "        var button = $('<button class=\"btn btn-default\" href=\"#\" title=\"' + name + '\"><i class=\"fa ' + image + ' fa-lg\"></i></button>');\n",
       "        button.click(method_name, toolbar_event);\n",
       "        button.mouseover(tooltip, toolbar_mouse_event);\n",
       "        nav_element.append(button);\n",
       "    }\n",
       "\n",
       "    // Add the status bar.\n",
       "    var status_bar = $('<span class=\"mpl-message\" style=\"text-align:right; float: right;\"/>');\n",
       "    nav_element.append(status_bar);\n",
       "    this.message = status_bar[0];\n",
       "\n",
       "    // Add the close button to the window.\n",
       "    var buttongrp = $('<div class=\"btn-group inline pull-right\"></div>');\n",
       "    var button = $('<button class=\"btn btn-mini btn-primary\" href=\"#\" title=\"Stop Interaction\"><i class=\"fa fa-power-off icon-remove icon-large\"></i></button>');\n",
       "    button.click(function (evt) { fig.handle_close(fig, {}); } );\n",
       "    button.mouseover('Stop Interaction', toolbar_mouse_event);\n",
       "    buttongrp.append(button);\n",
       "    var titlebar = this.root.find($('.ui-dialog-titlebar'));\n",
       "    titlebar.prepend(buttongrp);\n",
       "}\n",
       "\n",
       "mpl.figure.prototype._root_extra_style = function(el){\n",
       "    var fig = this\n",
       "    el.on(\"remove\", function(){\n",
       "\tfig.close_ws(fig, {});\n",
       "    });\n",
       "}\n",
       "\n",
       "mpl.figure.prototype._canvas_extra_style = function(el){\n",
       "    // this is important to make the div 'focusable\n",
       "    el.attr('tabindex', 0)\n",
       "    // reach out to IPython and tell the keyboard manager to turn it's self\n",
       "    // off when our div gets focus\n",
       "\n",
       "    // location in version 3\n",
       "    if (IPython.notebook.keyboard_manager) {\n",
       "        IPython.notebook.keyboard_manager.register_events(el);\n",
       "    }\n",
       "    else {\n",
       "        // location in version 2\n",
       "        IPython.keyboard_manager.register_events(el);\n",
       "    }\n",
       "\n",
       "}\n",
       "\n",
       "mpl.figure.prototype._key_event_extra = function(event, name) {\n",
       "    var manager = IPython.notebook.keyboard_manager;\n",
       "    if (!manager)\n",
       "        manager = IPython.keyboard_manager;\n",
       "\n",
       "    // Check for shift+enter\n",
       "    if (event.shiftKey && event.which == 13) {\n",
       "        this.canvas_div.blur();\n",
       "        event.shiftKey = false;\n",
       "        // Send a \"J\" for go to next cell\n",
       "        event.which = 74;\n",
       "        event.keyCode = 74;\n",
       "        manager.command_mode();\n",
       "        manager.handle_keydown(event);\n",
       "    }\n",
       "}\n",
       "\n",
       "mpl.figure.prototype.handle_save = function(fig, msg) {\n",
       "    fig.ondownload(fig, null);\n",
       "}\n",
       "\n",
       "\n",
       "mpl.find_output_cell = function(html_output) {\n",
       "    // Return the cell and output element which can be found *uniquely* in the notebook.\n",
       "    // Note - this is a bit hacky, but it is done because the \"notebook_saving.Notebook\"\n",
       "    // IPython event is triggered only after the cells have been serialised, which for\n",
       "    // our purposes (turning an active figure into a static one), is too late.\n",
       "    var cells = IPython.notebook.get_cells();\n",
       "    var ncells = cells.length;\n",
       "    for (var i=0; i<ncells; i++) {\n",
       "        var cell = cells[i];\n",
       "        if (cell.cell_type === 'code'){\n",
       "            for (var j=0; j<cell.output_area.outputs.length; j++) {\n",
       "                var data = cell.output_area.outputs[j];\n",
       "                if (data.data) {\n",
       "                    // IPython >= 3 moved mimebundle to data attribute of output\n",
       "                    data = data.data;\n",
       "                }\n",
       "                if (data['text/html'] == html_output) {\n",
       "                    return [cell, data, j];\n",
       "                }\n",
       "            }\n",
       "        }\n",
       "    }\n",
       "}\n",
       "\n",
       "// Register the function which deals with the matplotlib target/channel.\n",
       "// The kernel may be null if the page has been refreshed.\n",
       "if (IPython.notebook.kernel != null) {\n",
       "    IPython.notebook.kernel.comm_manager.register_target('matplotlib', mpl.mpl_figure_comm);\n",
       "}\n"
      ],
      "text/plain": [
       "<IPython.core.display.Javascript object>"
      ]
     },
     "metadata": {},
     "output_type": "display_data"
    },
    {
     "data": {
      "text/html": [
       "<img src=\"data:image/png;base64,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\">"
      ],
      "text/plain": [
       "<IPython.core.display.HTML object>"
      ]
     },
     "metadata": {},
     "output_type": "display_data"
    }
   ],
   "source": [
    "u1 = Vector([3,0,0])\n",
    "u2 = Vector([2,2,0])\n",
    "u3 = Vector([3,3,3])\n",
    "\n",
    "plot_vecs(u1,u2,u3)\n",
    "plot_vec(u1, at=u2, color='k')\n",
    "plot_vec(u2, at=u1, color='b')\n",
    "plot_vec(u1, at=u2+u3, color='k')\n",
    "plot_vec(u2, at=u1+u3, color='b')\n",
    "plot_vec(u1, at=u3, color='k')\n",
    "plot_vec(u2, at=u3, color='b')\n",
    "plot_vec(u3, at=u1, color='g')\n",
    "plot_vec(u3, at=u2, color='g')\n",
    "plot_vec(u3, at=u1+u2, color='g')\n",
    "\n",
    "autoscale_arrows()"
   ]
  },
  {
   "cell_type": "code",
   "execution_count": null,
   "metadata": {
    "collapsed": true
   },
   "outputs": [],
   "source": []
  }
 ],
 "metadata": {
  "kernelspec": {
   "display_name": "Python 3",
   "language": "python",
   "name": "python3"
  },
  "language_info": {
   "codemirror_mode": {
    "name": "ipython",
    "version": 3
   },
   "file_extension": ".py",
   "mimetype": "text/x-python",
   "name": "python",
   "nbconvert_exporter": "python",
   "pygments_lexer": "ipython3",
   "version": "3.5.1"
  },
  "widgets": {
   "state": {},
   "version": "1.1.1"
  }
 },
 "nbformat": 4,
 "nbformat_minor": 0
}
