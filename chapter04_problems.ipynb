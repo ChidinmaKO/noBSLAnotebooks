{
 "cells": [
  {
   "cell_type": "markdown",
   "metadata": {},
   "source": [
    "# Chapter 4 problems"
   ]
  },
  {
   "cell_type": "code",
   "execution_count": 1,
   "metadata": {
    "collapsed": true
   },
   "outputs": [],
   "source": [
    "from sympy import *\n",
    "init_printing()"
   ]
  },
  {
   "cell_type": "code",
   "execution_count": null,
   "metadata": {
    "collapsed": true
   },
   "outputs": [],
   "source": []
  },
  {
   "cell_type": "code",
   "execution_count": 2,
   "metadata": {
    "collapsed": false
   },
   "outputs": [
    {
     "data": {
      "image/png": "[encoded data removed]",
      "text/latex": [
       "$$\\left[\\begin{matrix}3 & 3\\\\2 & \\frac{3}{2}\\end{matrix}\\right]$$"
      ],
      "text/plain": [
       "⎡3   3 ⎤\n",
       "⎢      ⎥\n",
       "⎣2  3/2⎦"
      ]
     },
     "execution_count": 2,
     "metadata": {},
     "output_type": "execute_result"
    }
   ],
   "source": [
    "A = Matrix([\n",
    "[3,     3],\n",
    "[2, S(3)/2]])\n",
    "A"
   ]
  },
  {
   "cell_type": "code",
   "execution_count": 3,
   "metadata": {
    "collapsed": true
   },
   "outputs": [],
   "source": [
    "b = Matrix([6,5])"
   ]
  },
  {
   "cell_type": "code",
   "execution_count": 4,
   "metadata": {
    "collapsed": false
   },
   "outputs": [
    {
     "data": {
      "image/png": "[encoded data removed]",
      "text/latex": [
       "$$\\left[\\begin{matrix}3 & 3 & 6\\\\2 & \\frac{3}{2} & 5\\end{matrix}\\right]$$"
      ],
      "text/plain": [
       "⎡3   3   6⎤\n",
       "⎢         ⎥\n",
       "⎣2  3/2  5⎦"
      ]
     },
     "execution_count": 4,
     "metadata": {},
     "output_type": "execute_result"
    }
   ],
   "source": [
    "AUG = A.row_join(b)\n",
    "AUG # the augmented matrix"
   ]
  },
  {
   "cell_type": "markdown",
   "metadata": {},
   "source": [
    "### Alice"
   ]
  },
  {
   "cell_type": "code",
   "execution_count": 9,
   "metadata": {
    "collapsed": false
   },
   "outputs": [
    {
     "data": {
      "image/png": "[encoded data removed]",
      "text/latex": [
       "$$\\left[\\begin{matrix}1 & 1 & 2\\\\2 & \\frac{3}{2} & 5\\end{matrix}\\right]$$"
      ],
      "text/plain": [
       "⎡1   1   2⎤\n",
       "⎢         ⎥\n",
       "⎣2  3/2  5⎦"
      ]
     },
     "execution_count": 9,
     "metadata": {},
     "output_type": "execute_result"
    }
   ],
   "source": [
    "AUGA = AUG.copy()\n",
    "AUGA[0,:] = AUGA[0,:]/3\n",
    "AUGA"
   ]
  },
  {
   "cell_type": "code",
   "execution_count": 10,
   "metadata": {
    "collapsed": false
   },
   "outputs": [
    {
     "data": {
      "image/png": "[encoded data removed]",
      "text/latex": [
       "$$\\left[\\begin{matrix}1 & 1 & 2\\\\0 & - \\frac{1}{2} & 1\\end{matrix}\\right]$$"
      ],
      "text/plain": [
       "⎡1   1    2⎤\n",
       "⎢          ⎥\n",
       "⎣0  -1/2  1⎦"
      ]
     },
     "execution_count": 10,
     "metadata": {},
     "output_type": "execute_result"
    }
   ],
   "source": [
    "AUGA[1,:] = AUGA[1,:] - 2*AUGA[0,:]\n",
    "AUGA"
   ]
  },
  {
   "cell_type": "code",
   "execution_count": 11,
   "metadata": {
    "collapsed": false
   },
   "outputs": [
    {
     "data": {
      "image/png": "[encoded data removed]",
      "text/latex": [
       "$$\\left[\\begin{matrix}1 & 1 & 2\\\\0 & 1 & -2\\end{matrix}\\right]$$"
      ],
      "text/plain": [
       "⎡1  1  2 ⎤\n",
       "⎢        ⎥\n",
       "⎣0  1  -2⎦"
      ]
     },
     "execution_count": 11,
     "metadata": {},
     "output_type": "execute_result"
    }
   ],
   "source": [
    "AUGA[1,:] = -2*AUGA[1,:]\n",
    "AUGA"
   ]
  },
  {
   "cell_type": "code",
   "execution_count": 12,
   "metadata": {
    "collapsed": false
   },
   "outputs": [
    {
     "data": {
      "image/png": "[encoded data removed]",
      "text/latex": [
       "$$\\left[\\begin{matrix}1 & 0 & 4\\\\0 & 1 & -2\\end{matrix}\\right]$$"
      ],
      "text/plain": [
       "⎡1  0  4 ⎤\n",
       "⎢        ⎥\n",
       "⎣0  1  -2⎦"
      ]
     },
     "execution_count": 12,
     "metadata": {},
     "output_type": "execute_result"
    }
   ],
   "source": [
    "AUGA[0,:] = AUGA[0,:] - AUGA[1,:]\n",
    "AUGA"
   ]
  },
  {
   "cell_type": "markdown",
   "metadata": {},
   "source": [
    "### Bob"
   ]
  },
  {
   "cell_type": "code",
   "execution_count": 17,
   "metadata": {
    "collapsed": false
   },
   "outputs": [
    {
     "data": {
      "image/png": "[encoded data removed]",
      "text/latex": [
       "$$\\left[\\begin{matrix}1 & \\frac{3}{2} & 1\\\\2 & \\frac{3}{2} & 5\\end{matrix}\\right]$$"
      ],
      "text/plain": [
       "⎡1  3/2  1⎤\n",
       "⎢         ⎥\n",
       "⎣2  3/2  5⎦"
      ]
     },
     "execution_count": 17,
     "metadata": {},
     "output_type": "execute_result"
    }
   ],
   "source": [
    "AUGB = AUG.copy()\n",
    "AUGB[0,:] = AUGB[0,:] - AUGB[1,:]\n",
    "AUGB"
   ]
  },
  {
   "cell_type": "code",
   "execution_count": 18,
   "metadata": {
    "collapsed": false
   },
   "outputs": [
    {
     "data": {
      "image/png": "[encoded data removed]",
      "text/latex": [
       "$$\\left[\\begin{matrix}1 & \\frac{3}{2} & 1\\\\0 & - \\frac{3}{2} & 3\\end{matrix}\\right]$$"
      ],
      "text/plain": [
       "⎡1  3/2   1⎤\n",
       "⎢          ⎥\n",
       "⎣0  -3/2  3⎦"
      ]
     },
     "execution_count": 18,
     "metadata": {},
     "output_type": "execute_result"
    }
   ],
   "source": [
    "AUGB[1,:] = AUGB[1,:] - 2*AUGB[0,:]\n",
    "AUGB"
   ]
  },
  {
   "cell_type": "code",
   "execution_count": 19,
   "metadata": {
    "collapsed": false
   },
   "outputs": [
    {
     "data": {
      "image/png": "[encoded data removed]",
      "text/latex": [
       "$$\\left[\\begin{matrix}1 & \\frac{3}{2} & 1\\\\0 & 1 & -2\\end{matrix}\\right]$$"
      ],
      "text/plain": [
       "⎡1  3/2  1 ⎤\n",
       "⎢          ⎥\n",
       "⎣0   1   -2⎦"
      ]
     },
     "execution_count": 19,
     "metadata": {},
     "output_type": "execute_result"
    }
   ],
   "source": [
    "AUGB[1,:] = -1*S(2)/3*AUGB[1,:]\n",
    "AUGB"
   ]
  },
  {
   "cell_type": "code",
   "execution_count": 20,
   "metadata": {
    "collapsed": true
   },
   "outputs": [],
   "source": [
    "AUGB[0,:] = AUGB[0,:] - S(3)/2*AUGB[1,:]\n",
    "AUGB"
   ]
  },
  {
   "cell_type": "code",
   "execution_count": null,
   "metadata": {
    "collapsed": false
   },
   "outputs": [],
   "source": []
  },
  {
   "cell_type": "markdown",
   "metadata": {},
   "source": [
    "### Charlotte"
   ]
  },
  {
   "cell_type": "code",
   "execution_count": 25,
   "metadata": {
    "collapsed": false
   },
   "outputs": [
    {
     "data": {
      "image/png": "[encoded data removed]",
      "text/latex": [
       "$$\\left[\\begin{matrix}2 & \\frac{3}{2} & 5\\\\3 & 3 & 6\\end{matrix}\\right]$$"
      ],
      "text/plain": [
       "⎡2  3/2  5⎤\n",
       "⎢         ⎥\n",
       "⎣3   3   6⎦"
      ]
     },
     "execution_count": 25,
     "metadata": {},
     "output_type": "execute_result"
    }
   ],
   "source": [
    "AUGC = AUG.copy()\n",
    "AUGC[0,:], AUGC[1,:] = AUGC[1,:], AUGC[0,:]\n",
    "AUGC"
   ]
  },
  {
   "cell_type": "code",
   "execution_count": 26,
   "metadata": {
    "collapsed": false
   },
   "outputs": [
    {
     "data": {
      "image/png": "[encoded data removed]",
      "text/latex": [
       "$$\\left[\\begin{matrix}1 & \\frac{3}{4} & \\frac{5}{2}\\\\3 & 3 & 6\\end{matrix}\\right]$$"
      ],
      "text/plain": [
       "⎡1  3/4  5/2⎤\n",
       "⎢           ⎥\n",
       "⎣3   3    6 ⎦"
      ]
     },
     "execution_count": 26,
     "metadata": {},
     "output_type": "execute_result"
    }
   ],
   "source": [
    "AUGC[0,:] = AUGC[0,:]/2\n",
    "AUGC"
   ]
  },
  {
   "cell_type": "code",
   "execution_count": 27,
   "metadata": {
    "collapsed": false
   },
   "outputs": [
    {
     "data": {
      "image/png": "[encoded data removed]",
      "text/latex": [
       "$$\\left[\\begin{matrix}1 & \\frac{3}{4} & \\frac{5}{2}\\\\0 & \\frac{3}{4} & - \\frac{3}{2}\\end{matrix}\\right]$$"
      ],
      "text/plain": [
       "⎡1  3/4  5/2 ⎤\n",
       "⎢            ⎥\n",
       "⎣0  3/4  -3/2⎦"
      ]
     },
     "execution_count": 27,
     "metadata": {},
     "output_type": "execute_result"
    }
   ],
   "source": [
    "AUGC[1,:] = AUGC[1,:] - 3*AUGC[0,:]\n",
    "AUGC"
   ]
  },
  {
   "cell_type": "code",
   "execution_count": 28,
   "metadata": {
    "collapsed": false
   },
   "outputs": [
    {
     "data": {
      "image/png": "[encoded data removed]",
      "text/latex": [
       "$$\\left[\\begin{matrix}1 & \\frac{3}{4} & \\frac{5}{2}\\\\0 & 1 & -2\\end{matrix}\\right]$$"
      ],
      "text/plain": [
       "⎡1  3/4  5/2⎤\n",
       "⎢           ⎥\n",
       "⎣0   1   -2 ⎦"
      ]
     },
     "execution_count": 28,
     "metadata": {},
     "output_type": "execute_result"
    }
   ],
   "source": [
    "AUGC[1,:] = S(4)/3*AUGC[1,:]\n",
    "AUGC"
   ]
  },
  {
   "cell_type": "code",
   "execution_count": 29,
   "metadata": {
    "collapsed": false
   },
   "outputs": [
    {
     "data": {
      "image/png": "[encoded data removed]",
      "text/latex": [
       "$$\\left[\\begin{matrix}1 & 0 & 4\\\\0 & 1 & -2\\end{matrix}\\right]$$"
      ],
      "text/plain": [
       "⎡1  0  4 ⎤\n",
       "⎢        ⎥\n",
       "⎣0  1  -2⎦"
      ]
     },
     "execution_count": 29,
     "metadata": {},
     "output_type": "execute_result"
    }
   ],
   "source": [
    "AUGC[0,:] = AUGC[0,:] - S(3)/4*AUGC[1,:]\n",
    "AUGC"
   ]
  },
  {
   "cell_type": "code",
   "execution_count": null,
   "metadata": {
    "collapsed": true
   },
   "outputs": [],
   "source": []
  }
 ],
 "metadata": {
  "kernelspec": {
   "display_name": "Python 3",
   "language": "python",
   "name": "python3"
  },
  "language_info": {
   "codemirror_mode": {
    "name": "ipython",
    "version": 3
   },
   "file_extension": ".py",
   "mimetype": "text/x-python",
   "name": "python",
   "nbconvert_exporter": "python",
   "pygments_lexer": "ipython3",
   "version": "3.5.1"
  }
 },
 "nbformat": 4,
 "nbformat_minor": 0
}
