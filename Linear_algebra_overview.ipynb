{
 "cells": [
  {
   "cell_type": "markdown",
   "metadata": {},
   "source": [
    "# Linear algebra overview"
   ]
  },
  {
   "cell_type": "markdown",
   "metadata": {},
   "source": [
    "This notebook introduces concepts form linear algebra in a birds-eye overview. The goal is not to get into the details, but to give the reader a taste of the different types of thinking: computational, geometrical, and theoretical, that are used in linear algebra."
   ]
  },
  {
   "cell_type": "markdown",
   "metadata": {},
   "source": [
    "## Plan\n",
    "\n",
    "  - Prerequisites\n",
    "  - Vectors\n",
    "    - Definition \n",
    "    - Geomterical interpretation\n",
    "    - Dot product\n",
    "      - Definition\n",
    "      - Intuition\n",
    "      - Unit length vectors\n",
    "  - Projections\n",
    "    - Projection operation\n",
    "    - Example: projection onto the line with equation $x-y=0$\n",
    "  - Linear transformation are vector functions\n",
    "    - Linear property: $f(a\\mathbf{x} + b\\mathbf{y}) = af(\\mathbf{x}) + bf(\\mathbf{y})$\n",
    "    - Projection transformation P\n",
    "  - Matrix representation of linear transformations\n",
    "    - Linear transformation <--> Matrix-vector product equivalence\n",
    "    - Show matrix representation M_P of Projection transformation P\n",
    "  - Matrices\n",
    "    - Definition \n",
    "    - Matrix operations\n",
    "      - Matrix-vector product \n",
    "      - Matrix-matrix product\n",
    "      - Trace\n",
    "      - Determinant\n",
    "      - Matrix inverse\n",
    "      - Matrix equations\n",
    "    - Reduced row echelon form \n",
    "  - Linear transformations\n",
    "    - Fundamental spaces\n",
    "      - Vector spaces\n",
    "    - Matrix representations\n",
    "    - Eigenvectors and eigenvalues\n",
    "    - Invertible matrix theorem\n",
    "  - Further topics\n",
    "    - Analytical geometry\n",
    "      - Points, lines, and planes\n",
    "      - Projections\n",
    "      - Distances\n",
    "    - Abstract vector spaces\n",
    "      - Vector space of polynomials, e.g. $p(x)=a_0 + a_1x + a_2x^2$\n",
    "    - Special types of matrices\n",
    "    - Matrix decompositions\n",
    "    - Linear algebra over other fields"
   ]
  },
  {
   "cell_type": "code",
   "execution_count": 211,
   "metadata": {
    "collapsed": true
   },
   "outputs": [],
   "source": [
    "# setup SymPy\n",
    "from sympy import *\n",
    "x, y, z, t = symbols('x y z t')\n",
    "init_printing()\n",
    "\n",
    "# a vector is a special type of matrix (an n-vector is either a nx1 or a 1xn matrix)\n",
    "Vector = Matrix   # define alias Vector so I don't have to explain this during video\n",
    "\n",
    "# setup plotting\n",
    "%matplotlib inline\n",
    "import matplotlib.pyplot as mpl\n",
    "from plot_helpers import plot_vec, plot_vecs, plot_line, plot_plane, autoscale_arrows"
   ]
  },
  {
   "cell_type": "markdown",
   "metadata": {},
   "source": [
    "# Prerequisites"
   ]
  },
  {
   "cell_type": "markdown",
   "metadata": {},
   "source": [
    "Linear algebra builds upon high school math concepts like:\n",
    "  - Numbers (integers, rationals, reals, complex numbers)\n",
    "  - Functions ($f(x)$ takes an input $x$ and produces an output $y$)\n",
    "  - Geometry (lines, curves, areas, triangles)"
   ]
  },
  {
   "cell_type": "markdown",
   "metadata": {},
   "source": [
    "# Vectors"
   ]
  },
  {
   "cell_type": "code",
   "execution_count": 212,
   "metadata": {
    "collapsed": false
   },
   "outputs": [
    {
     "data": {
      "image/png": "[encoded data removed]",
      "text/latex": [
       "$$\\left[\\begin{matrix}1\\\\1\\end{matrix}\\right]$$"
      ],
      "text/plain": [
       "⎡1⎤\n",
       "⎢ ⎥\n",
       "⎣1⎦"
      ]
     },
     "execution_count": 212,
     "metadata": {},
     "output_type": "execute_result"
    }
   ],
   "source": [
    "# define two vectors\n",
    "u = Vector([1,1])\n",
    "v = Vector([1,-1])\n",
    "u"
   ]
  },
  {
   "cell_type": "code",
   "execution_count": 213,
   "metadata": {
    "collapsed": false
   },
   "outputs": [
    {
     "data": {
      "image/png": "[encoded data removed]",
      "text/latex": [
       "$$\\left[\\begin{matrix}1\\\\-1\\end{matrix}\\right]$$"
      ],
      "text/plain": [
       "⎡1 ⎤\n",
       "⎢  ⎥\n",
       "⎣-1⎦"
      ]
     },
     "execution_count": 213,
     "metadata": {},
     "output_type": "execute_result"
    }
   ],
   "source": [
    "v"
   ]
  },
  {
   "cell_type": "code",
   "execution_count": 214,
   "metadata": {
    "collapsed": false
   },
   "outputs": [
    {
     "data": {
      "image/png": "[encoded data removed]",
      "text/plain": [
       "<matplotlib.figure.Figure at 0x10a53b438>"
      ]
     },
     "metadata": {},
     "output_type": "display_data"
    }
   ],
   "source": [
    "plot_vecs(u,v)\n",
    "autoscale_arrows()"
   ]
  },
  {
   "cell_type": "markdown",
   "metadata": {},
   "source": [
    "### Vector addition"
   ]
  },
  {
   "cell_type": "code",
   "execution_count": 215,
   "metadata": {
    "collapsed": false
   },
   "outputs": [
    {
     "data": {
      "image/png": "[encoded data removed]",
      "text/latex": [
       "$$\\left[\\begin{matrix}2\\\\0\\end{matrix}\\right]$$"
      ],
      "text/plain": [
       "⎡2⎤\n",
       "⎢ ⎥\n",
       "⎣0⎦"
      ]
     },
     "execution_count": 215,
     "metadata": {},
     "output_type": "execute_result"
    },
    {
     "data": {
      "image/png": "[encoded data removed]",
      "text/plain": [
       "<matplotlib.figure.Figure at 0x10acaeef0>"
      ]
     },
     "metadata": {},
     "output_type": "display_data"
    }
   ],
   "source": [
    "# graphical\n",
    "plot_vecs(u,v)\n",
    "plot_vec(v, at=u, color='b')\n",
    "plot_vec(u+v, color='r')\n",
    "autoscale_arrows()\n",
    "\n",
    "# algebraic\n",
    "u+v"
   ]
  },
  {
   "cell_type": "markdown",
   "metadata": {},
   "source": [
    "### Vector length $\\|\\vec{u}\\|$"
   ]
  },
  {
   "cell_type": "code",
   "execution_count": 216,
   "metadata": {
    "collapsed": false
   },
   "outputs": [
    {
     "data": {
      "image/png": "[encoded data removed]",
      "text/latex": [
       "$$\\sqrt{2}$$"
      ],
      "text/plain": [
       "√2"
      ]
     },
     "execution_count": 216,
     "metadata": {},
     "output_type": "execute_result"
    }
   ],
   "source": [
    "u.norm()"
   ]
  },
  {
   "cell_type": "markdown",
   "metadata": {},
   "source": [
    "### Unit-length vectors $\\hat{u}$"
   ]
  },
  {
   "cell_type": "code",
   "execution_count": 217,
   "metadata": {
    "collapsed": false
   },
   "outputs": [
    {
     "data": {
      "image/png": "[encoded data removed]",
      "text/latex": [
       "$$\\left[\\begin{matrix}\\frac{\\sqrt{2}}{2}\\\\\\frac{\\sqrt{2}}{2}\\end{matrix}\\right]$$"
      ],
      "text/plain": [
       "⎡√2⎤\n",
       "⎢──⎥\n",
       "⎢2 ⎥\n",
       "⎢  ⎥\n",
       "⎢√2⎥\n",
       "⎢──⎥\n",
       "⎣2 ⎦"
      ]
     },
     "execution_count": 217,
     "metadata": {},
     "output_type": "execute_result"
    },
    {
     "data": {
      "image/png": "[encoded data removed]",
      "text/plain": [
       "<matplotlib.figure.Figure at 0x10a9edf60>"
      ]
     },
     "metadata": {},
     "output_type": "display_data"
    }
   ],
   "source": [
    "uhat = u/u.norm()\n",
    "\n",
    "plot_vecs(u,uhat)\n",
    "\n",
    "uhat"
   ]
  },
  {
   "cell_type": "markdown",
   "metadata": {},
   "source": [
    "## Dot product"
   ]
  },
  {
   "cell_type": "markdown",
   "metadata": {},
   "source": [
    "### Definition"
   ]
  },
  {
   "cell_type": "markdown",
   "metadata": {
    "collapsed": true
   },
   "source": [
    "The dot product of two vectors is proporional to the lengths for which the two vectors extend in the same direction.\n",
    "\n",
    "If $\\vec{u}=(u_1,u_2)$ and $\\vec{v}=(v_1,v_2)$, then:\n",
    "\n",
    "$$\n",
    "  \\vec{u} \\cdot \\vec{v} = u_1v_1 + u_2v_2 = \\|\\vec{u}\\| \\|\\vec{v}\\| \\cos \\theta_{uv},\n",
    "$$\n",
    "\n",
    "where $\\theta_{uv}$ is the angle between the vectors."
   ]
  },
  {
   "cell_type": "code",
   "execution_count": 218,
   "metadata": {
    "collapsed": false
   },
   "outputs": [
    {
     "data": {
      "image/png": "[encoded data removed]",
      "text/latex": [
       "$$6$$"
      ],
      "text/plain": [
       "6"
      ]
     },
     "execution_count": 218,
     "metadata": {},
     "output_type": "execute_result"
    },
    {
     "data": {
      "image/png": "[encoded data removed]",
      "text/plain": [
       "<matplotlib.figure.Figure at 0x10a39f278>"
      ]
     },
     "metadata": {},
     "output_type": "display_data"
    }
   ],
   "source": [
    "u = Vector([2,2])\n",
    "v = Vector([3,0])\n",
    "\n",
    "plot_vecs(u,v)\n",
    "autoscale_arrows()\n",
    "\n",
    "u.dot(v)"
   ]
  },
  {
   "cell_type": "markdown",
   "metadata": {},
   "source": [
    "### Intuition"
   ]
  },
  {
   "cell_type": "code",
   "execution_count": 219,
   "metadata": {
    "collapsed": false
   },
   "outputs": [
    {
     "data": {
      "text/plain": [
       "True"
      ]
     },
     "execution_count": 219,
     "metadata": {},
     "output_type": "execute_result"
    },
    {
     "data": {
      "image/png": "[encoded data removed]",
      "text/plain": [
       "<matplotlib.figure.Figure at 0x10a54aac8>"
      ]
     },
     "metadata": {},
     "output_type": "display_data"
    }
   ],
   "source": [
    "# split the vector u into two parts:\n",
    "u_parallel_to_v = Vector([2,0])\n",
    "u_perp_to_v = Vector([0,2])\n",
    "\n",
    "plot_vecs(u, v, u_parallel_to_v, u_perp_to_v)\n",
    "autoscale_arrows()\n",
    "\n",
    "u == u_parallel_to_v + u_perp_to_v"
   ]
  },
  {
   "cell_type": "code",
   "execution_count": 220,
   "metadata": {
    "collapsed": false
   },
   "outputs": [
    {
     "data": {
      "text/plain": [
       "True"
      ]
     },
     "execution_count": 220,
     "metadata": {},
     "output_type": "execute_result"
    }
   ],
   "source": [
    "# the dot product uses only the part of u that is parallel to v\n",
    "u.dot(v) == u_parallel_to_v.dot(v) == u_parallel_to_v.norm()*v.norm()"
   ]
  },
  {
   "cell_type": "code",
   "execution_count": 221,
   "metadata": {
    "collapsed": false
   },
   "outputs": [
    {
     "data": {
      "image/png": "[encoded data removed]",
      "text/latex": [
       "$$0$$"
      ],
      "text/plain": [
       "0"
      ]
     },
     "execution_count": 221,
     "metadata": {},
     "output_type": "execute_result"
    }
   ],
   "source": [
    "# two vetors that are perpendicular, have zero dot product together\n",
    "u_perp_to_v.dot(v)"
   ]
  },
  {
   "cell_type": "code",
   "execution_count": 223,
   "metadata": {
    "collapsed": false
   },
   "outputs": [
    {
     "data": {
      "text/plain": [
       "True"
      ]
     },
     "execution_count": 223,
     "metadata": {},
     "output_type": "execute_result"
    }
   ],
   "source": [
    "# the cosine factor in the geometric formula computes the \"parallel to v\" component \n",
    "u_parallel_to_v.norm() == u.norm()*cos(45*pi/180)"
   ]
  },
  {
   "cell_type": "markdown",
   "metadata": {},
   "source": [
    "# Projections"
   ]
  },
  {
   "cell_type": "markdown",
   "metadata": {
    "collapsed": true
   },
   "source": [
    "A projection of the vector $\\vec{v}$ in the direction $\\vec{d}$ is denoted $\\Pi_{\\vec{d}}(\\vec{v})$. The formula for computing the projections uses the dot product operation:\n",
    "\n",
    "$$\n",
    "   \\Pi_{\\vec{d}}(\\vec{v})  \n",
    "      \\ \\equiv \\ \n",
    "      (\\vec{v} \\cdot \\hat{d}) \\hat{d}\n",
    "      \\ =  \\ \n",
    "      \\left(\\vec{v} \\cdot \\frac{\\vec{d}}{\\|\\vec{d}\\|} \\right) \\frac{\\vec{d}}{\\|\\vec{d}\\|}.\n",
    "$$"
   ]
  },
  {
   "cell_type": "markdown",
   "metadata": {},
   "source": [
    "## Projection operation"
   ]
  },
  {
   "cell_type": "code",
   "execution_count": 224,
   "metadata": {
    "collapsed": true
   },
   "outputs": [],
   "source": [
    "def proj(v, d):\n",
    "    \"\"\"Computes the projection of vector `v` onto direction `d`.\"\"\"\n",
    "    return v.dot( d/d.norm() )*( d/d.norm() )"
   ]
  },
  {
   "cell_type": "code",
   "execution_count": 229,
   "metadata": {
    "collapsed": false
   },
   "outputs": [
    {
     "data": {
      "image/png": "[encoded data removed]",
      "text/plain": [
       "<matplotlib.figure.Figure at 0x10acd47f0>"
      ]
     },
     "metadata": {},
     "output_type": "display_data"
    }
   ],
   "source": [
    "v = Vector([2,2])\n",
    "d = Vector([3,0])\n",
    "proj_v_on_d = proj(v,d)\n",
    "\n",
    "plot_vecs(d, v, proj_v_on_d)\n",
    "autoscale_arrows()"
   ]
  },
  {
   "cell_type": "markdown",
   "metadata": {},
   "source": [
    "Projections play an important role in physics. For example, when solving a two dimensional projectile problem we often decompose vector quantities like forces $\\vec{F}$, velocities $\\vec{v}$, and momenta $\\vec{p}$ into their $x$- and $y$-components: $(F_x,F_y)$, $(v_x,v_y)$, and $(p_x,p_y)$. This decomposition of vectors can transform a complicated two-dimensional problem into two simpler one-dimensaional problems, which can be solved independetly."
   ]
  },
  {
   "cell_type": "markdown",
   "metadata": {},
   "source": [
    "## Example: projection onto the line with equation $y=x$"
   ]
  },
  {
   "cell_type": "code",
   "execution_count": 231,
   "metadata": {
    "collapsed": false
   },
   "outputs": [
    {
     "data": {
      "image/png": "[encoded data removed]",
      "text/plain": [
       "<matplotlib.figure.Figure at 0x10ace6f28>"
      ]
     },
     "metadata": {},
     "output_type": "display_data"
    }
   ],
   "source": [
    "# The line with equation y = x can also be written as a paramteric equation \n",
    "# [x,y] = [0,0] + s*[1,1] where d = [1,1] is called the direction vector the line\n",
    "d = Vector([1,1])\n",
    "\n",
    "plot_line(d,[0,0])"
   ]
  },
  {
   "cell_type": "code",
   "execution_count": 232,
   "metadata": {
    "collapsed": false
   },
   "outputs": [
    {
     "data": {
      "image/png": "[encoded data removed]",
      "text/latex": [
       "$$\\left[\\begin{matrix}\\frac{5}{2}\\\\\\frac{5}{2}\\end{matrix}\\right]$$"
      ],
      "text/plain": [
       "⎡5/2⎤\n",
       "⎢   ⎥\n",
       "⎣5/2⎦"
      ]
     },
     "execution_count": 232,
     "metadata": {},
     "output_type": "execute_result"
    },
    {
     "data": {
      "image/png": "[encoded data removed]",
      "text/plain": [
       "<matplotlib.figure.Figure at 0x10ae3e278>"
      ]
     },
     "metadata": {},
     "output_type": "display_data"
    }
   ],
   "source": [
    "# want a function that computes the projection onto the line with equation y = x for any vec\n",
    "def P(vec):\n",
    "    \"\"\"Compute the projection of vector `vec` onto line y=x.\"\"\"\n",
    "    return proj(vec, d)\n",
    "\n",
    "v = Vector([5,0])\n",
    "\n",
    "plot_line(d,[0,0])\n",
    "plot_vecs(v, P(v))\n",
    "P(v)"
   ]
  },
  {
   "cell_type": "markdown",
   "metadata": {},
   "source": [
    "# Vector functions"
   ]
  },
  {
   "cell_type": "markdown",
   "metadata": {
    "collapsed": true
   },
   "source": [
    "Observe that the function `P` is a *vector function*—a function that takes vectors as inputs and produces vectors as outputs. In mathematical notation we write this as\n",
    "\n",
    "$$\n",
    "  P : \\mathbb{R}^2 \\to \\mathbb{R}^2.\n",
    "$$"
   ]
  },
  {
   "cell_type": "markdown",
   "metadata": {},
   "source": [
    "## Linear property: "
   ]
  },
  {
   "cell_type": "markdown",
   "metadata": {
    "collapsed": true
   },
   "source": [
    "A *linear transformation* $T$ is a vector function that obeys the linear property:\n",
    "\n",
    "$$\n",
    " T(a\\vec{x} + b\\vec{y}) = aT(\\vec{x}) + bT(\\vec{y}).\n",
    "$$"
   ]
  },
  {
   "cell_type": "markdown",
   "metadata": {},
   "source": [
    "## Projection transformation P"
   ]
  },
  {
   "cell_type": "markdown",
   "metadata": {},
   "source": [
    "The projection $P$ is a linear transformation, so it obeeys:\n",
    "\n",
    "$$\n",
    " P\\left( \\begin{bmatrix}a \\\\ b \\end{bmatrix} \\right)\n",
    " = P(a\\hat{\\imath} + b\\hat{\\jmath}) \n",
    " = aP(\\hat{\\imath}) + bP(\\hat{\\jmath}).\n",
    "$$"
   ]
  },
  {
   "cell_type": "code",
   "execution_count": 109,
   "metadata": {
    "collapsed": false
   },
   "outputs": [
    {
     "data": {
      "image/png": "[encoded data removed]",
      "text/latex": [
       "$$\\left ( \\left[\\begin{matrix}\\frac{1}{2}\\\\\\frac{1}{2}\\end{matrix}\\right], \\quad \\left[\\begin{matrix}\\frac{1}{2}\\\\\\frac{1}{2}\\end{matrix}\\right]\\right )$$"
      ],
      "text/plain": [
       "⎛⎡1/2⎤, ⎡1/2⎤⎞\n",
       "⎜⎢   ⎥  ⎢   ⎥⎟\n",
       "⎝⎣1/2⎦  ⎣1/2⎦⎠"
      ]
     },
     "execution_count": 109,
     "metadata": {},
     "output_type": "execute_result"
    }
   ],
   "source": [
    "ihat = Vector([1,0])\n",
    "jhat = Vector([0,1])\n",
    "\n",
    "Pihat = P(ihat)\n",
    "Pjhat = P(jhat)\n",
    "\n",
    "Pihat, Pjhat"
   ]
  },
  {
   "cell_type": "code",
   "execution_count": 42,
   "metadata": {
    "collapsed": false
   },
   "outputs": [
    {
     "data": {
      "image/png": "[encoded data removed]",
      "text/plain": [
       "<matplotlib.figure.Figure at 0x10ab4a7f0>"
      ]
     },
     "metadata": {},
     "output_type": "display_data"
    }
   ],
   "source": [
    "def P2(vec):\n",
    "    \"\"\"Compute the projection of vector `vec` onto line y=x.\"\"\"\n",
    "    return vec[0]*Pihat + vec[1]*Pjhat\n",
    "\n",
    "v = Vector([5,0])\n",
    "\n",
    "plot_line(d,[0,0])\n",
    "plot_vecs(v, P2(v))"
   ]
  },
  {
   "cell_type": "code",
   "execution_count": null,
   "metadata": {
    "collapsed": true
   },
   "outputs": [],
   "source": []
  },
  {
   "cell_type": "markdown",
   "metadata": {},
   "source": [
    "## Matrix product"
   ]
  },
  {
   "cell_type": "markdown",
   "metadata": {},
   "source": [
    "$$\n",
    "  \\alpha \\vec{u} + \\beta \\vec{v}\n",
    "  =\n",
    "  \\alpha \n",
    "  \\begin{bmatrix}u_1 \\\\ u_2 \\end{bmatrix}\n",
    "  +\n",
    "  \\beta\n",
    "  \\begin{bmatrix}v_1 \\\\ v_2 \\end{bmatrix}\n",
    "  =\n",
    "  \\begin{bmatrix}u_1 & v_1 \\\\ u_2 & v_2 \\end{bmatrix}\n",
    "  \\!\n",
    "  \\begin{bmatrix} \\alpha \\\\ \\beta \\end{bmatrix}.\n",
    "$$"
   ]
  },
  {
   "cell_type": "markdown",
   "metadata": {},
   "source": [
    "## Linear transformation as matrix-vector product"
   ]
  },
  {
   "cell_type": "code",
   "execution_count": 281,
   "metadata": {
    "collapsed": false
   },
   "outputs": [
    {
     "data": {
      "image/png": "[encoded data removed]",
      "text/latex": [
       "$$\\left[\\begin{matrix}\\frac{1}{2} & \\frac{1}{2}\\\\\\frac{1}{2} & \\frac{1}{2}\\end{matrix}\\right]$$"
      ],
      "text/plain": [
       "⎡1/2  1/2⎤\n",
       "⎢        ⎥\n",
       "⎣1/2  1/2⎦"
      ]
     },
     "execution_count": 281,
     "metadata": {},
     "output_type": "execute_result"
    }
   ],
   "source": [
    "M_P = Matrix([[1,1],\n",
    "              [1,1]])/2\n",
    "\n",
    "M_P"
   ]
  },
  {
   "cell_type": "code",
   "execution_count": 279,
   "metadata": {
    "collapsed": false
   },
   "outputs": [
    {
     "ename": "TypeError",
     "evalue": "'dict_keys' object does not support indexing",
     "output_type": "error",
     "traceback": [
      "\u001b[0;31m---------------------------------------------------------------------------\u001b[0m",
      "\u001b[0;31mTypeError\u001b[0m                                 Traceback (most recent call last)",
      "\u001b[0;32m<ipython-input-279-0618b49775f5>\u001b[0m in \u001b[0;36m<module>\u001b[0;34m()\u001b[0m\n\u001b[1;32m      5\u001b[0m \u001b[0mv\u001b[0m \u001b[0;34m=\u001b[0m \u001b[0mVector\u001b[0m\u001b[0;34m(\u001b[0m\u001b[0;34m[\u001b[0m\u001b[0;36m5\u001b[0m\u001b[0;34m,\u001b[0m\u001b[0;36m0\u001b[0m\u001b[0;34m]\u001b[0m\u001b[0;34m)\u001b[0m\u001b[0;34m\u001b[0m\u001b[0m\n\u001b[1;32m      6\u001b[0m \u001b[0;34m\u001b[0m\u001b[0m\n\u001b[0;32m----> 7\u001b[0;31m \u001b[0mplot_line\u001b[0m\u001b[0;34m(\u001b[0m\u001b[0md\u001b[0m\u001b[0;34m,\u001b[0m\u001b[0;34m[\u001b[0m\u001b[0;36m0\u001b[0m\u001b[0;34m,\u001b[0m\u001b[0;36m0\u001b[0m\u001b[0;34m]\u001b[0m\u001b[0;34m)\u001b[0m\u001b[0;34m\u001b[0m\u001b[0m\n\u001b[0m\u001b[1;32m      8\u001b[0m \u001b[0mplot_vecs\u001b[0m\u001b[0;34m(\u001b[0m\u001b[0mv\u001b[0m\u001b[0;34m,\u001b[0m \u001b[0mP3\u001b[0m\u001b[0;34m(\u001b[0m\u001b[0mv\u001b[0m\u001b[0;34m)\u001b[0m\u001b[0;34m)\u001b[0m\u001b[0;34m\u001b[0m\u001b[0m\n",
      "\u001b[0;32m/Users/ivan/Projects/Minireference/content/noBSLAnotebooks/plot_helpers.py\u001b[0m in \u001b[0;36mplot_line\u001b[0;34m(dir_vec, point, color)\u001b[0m\n\u001b[1;32m     75\u001b[0m         \u001b[0max\u001b[0m \u001b[0;34m=\u001b[0m \u001b[0mplt\u001b[0m\u001b[0;34m.\u001b[0m\u001b[0mgca\u001b[0m\u001b[0;34m(\u001b[0m\u001b[0;34m)\u001b[0m\u001b[0;34m\u001b[0m\u001b[0m\n\u001b[1;32m     76\u001b[0m         \u001b[0max\u001b[0m\u001b[0;34m.\u001b[0m\u001b[0mset_aspect\u001b[0m\u001b[0;34m(\u001b[0m\u001b[0;34m\"equal\"\u001b[0m\u001b[0;34m)\u001b[0m\u001b[0;34m\u001b[0m\u001b[0m\n\u001b[0;32m---> 77\u001b[0;31m         \u001b[0mdir_vec_x\u001b[0m \u001b[0;34m=\u001b[0m \u001b[0mfloat\u001b[0m\u001b[0;34m(\u001b[0m\u001b[0mdir_vec\u001b[0m\u001b[0;34m[\u001b[0m\u001b[0;36m0\u001b[0m\u001b[0;34m]\u001b[0m\u001b[0;34m)\u001b[0m\u001b[0;34m\u001b[0m\u001b[0m\n\u001b[0m\u001b[1;32m     78\u001b[0m         \u001b[0mdir_vec_y\u001b[0m \u001b[0;34m=\u001b[0m \u001b[0mfloat\u001b[0m\u001b[0;34m(\u001b[0m\u001b[0mdir_vec\u001b[0m\u001b[0;34m[\u001b[0m\u001b[0;36m1\u001b[0m\u001b[0;34m]\u001b[0m\u001b[0;34m)\u001b[0m\u001b[0;34m\u001b[0m\u001b[0m\n\u001b[1;32m     79\u001b[0m         \u001b[0mpoint_x\u001b[0m \u001b[0;34m=\u001b[0m \u001b[0mfloat\u001b[0m\u001b[0;34m(\u001b[0m\u001b[0mpoint\u001b[0m\u001b[0;34m[\u001b[0m\u001b[0;36m0\u001b[0m\u001b[0;34m]\u001b[0m\u001b[0;34m)\u001b[0m\u001b[0;34m\u001b[0m\u001b[0m\n",
      "\u001b[0;31mTypeError\u001b[0m: 'dict_keys' object does not support indexing"
     ]
    },
    {
     "data": {
      "image/png": "[encoded data removed]",
      "text/plain": [
       "<matplotlib.figure.Figure at 0x10a6305c0>"
      ]
     },
     "metadata": {},
     "output_type": "display_data"
    }
   ],
   "source": [
    "def P3(vec):\n",
    "    \"\"\"Compute the projection of vector `vec` onto the line y=x.\"\"\"\n",
    "    return M_P*vec\n",
    "\n",
    "v = Vector([5,0])\n",
    "\n",
    "plot_line(d,[0,0])\n",
    "plot_vecs(v, P3(v))"
   ]
  },
  {
   "cell_type": "code",
   "execution_count": 235,
   "metadata": {
    "collapsed": false
   },
   "outputs": [
    {
     "data": {
      "image/png": "[encoded data removed]",
      "text/latex": [
       "$$\\left ( 2, \\quad 2\\right )$$"
      ],
      "text/plain": [
       "(2, 2)"
      ]
     },
     "execution_count": 235,
     "metadata": {},
     "output_type": "execute_result"
    }
   ],
   "source": [
    "M_P.shape"
   ]
  },
  {
   "cell_type": "markdown",
   "metadata": {},
   "source": [
    "Equivalence relationship between linear transformstions $T$ and matrices $M_T$:\n",
    "    \n",
    "$$\n",
    "  T : \\mathbb{R}^n \\to \\mathbb{R}^m\n",
    "  \\qquad\n",
    "  \\Leftrightarrow\n",
    "  \\qquad\n",
    "  M_T \\in \\mathbb{R}^{m \\times n}\n",
    "$$"
   ]
  },
  {
   "cell_type": "markdown",
   "metadata": {},
   "source": [
    "# Matrices"
   ]
  },
  {
   "cell_type": "markdown",
   "metadata": {},
   "source": [
    "A matrix is a two-dimensional array of numbers."
   ]
  },
  {
   "cell_type": "markdown",
   "metadata": {},
   "source": [
    "### Example"
   ]
  },
  {
   "cell_type": "code",
   "execution_count": 192,
   "metadata": {
    "collapsed": false
   },
   "outputs": [
    {
     "data": {
      "image/png": "[encoded data removed]",
      "text/latex": [
       "$$\\left[\\begin{matrix}1 & 2\\\\3 & 4\\\\5 & 6\\end{matrix}\\right]$$"
      ],
      "text/plain": [
       "⎡1  2⎤\n",
       "⎢    ⎥\n",
       "⎢3  4⎥\n",
       "⎢    ⎥\n",
       "⎣5  6⎦"
      ]
     },
     "execution_count": 192,
     "metadata": {},
     "output_type": "execute_result"
    }
   ],
   "source": [
    "A = Matrix([ [1,2],\n",
    "             [3,4],\n",
    "             [5,6]])\n",
    "A"
   ]
  },
  {
   "cell_type": "code",
   "execution_count": 187,
   "metadata": {
    "collapsed": false
   },
   "outputs": [
    {
     "data": {
      "image/png": "[encoded data removed]",
      "text/latex": [
       "$$\\left ( 3, \\quad 2\\right )$$"
      ],
      "text/plain": [
       "(3, 2)"
      ]
     },
     "execution_count": 187,
     "metadata": {},
     "output_type": "execute_result"
    }
   ],
   "source": [
    "A.shape"
   ]
  },
  {
   "cell_type": "code",
   "execution_count": 193,
   "metadata": {
    "collapsed": false
   },
   "outputs": [
    {
     "data": {
      "image/png": "[encoded data removed]",
      "text/latex": [
       "$$\\left[\\begin{matrix}2 & 4\\\\6 & 8\\\\10 & 12\\end{matrix}\\right]$$"
      ],
      "text/plain": [
       "⎡2   4 ⎤\n",
       "⎢      ⎥\n",
       "⎢6   8 ⎥\n",
       "⎢      ⎥\n",
       "⎣10  12⎦"
      ]
     },
     "execution_count": 193,
     "metadata": {},
     "output_type": "execute_result"
    }
   ],
   "source": [
    "2*A"
   ]
  },
  {
   "cell_type": "markdown",
   "metadata": {},
   "source": [
    "## Matrix operations"
   ]
  },
  {
   "cell_type": "markdown",
   "metadata": {
    "collapsed": true
   },
   "source": [
    "  - Addition (denoted $A+B$)\n",
    "  - Subtraction, the inverse of addition (denoted $A-B$)\n",
    "  - Scaling by a constant $\\alpha$  (denoted $\\alpha A$)\n",
    "  - Matrix-vector product (denoted $A\\vec{x}$) \n",
    "  - Matrix product (denoted $AB$) \n",
    "  - Matrix inverse (denoted $A^{-1}$)\n",
    "  - Trace (denoted $\\textrm{Tr}(A)$)\n",
    "  - Determinant (denoted $\\textrm{det}(A)$ or $|A|$)"
   ]
  },
  {
   "cell_type": "markdown",
   "metadata": {},
   "source": [
    "### Matrix-vector product\n",
    "\n",
    "$$\n",
    "  A \\vec{x}\n",
    "  \\quad\n",
    "  \\Leftrightarrow\n",
    "  \\quad\n",
    "    \\begin{bmatrix}\n",
    "    a_{11} & a_{12} \\\\\n",
    "    a_{21} & a_{22} \\\\\n",
    "    a_{31} & a_{32} \n",
    "    \\end{bmatrix}\n",
    "    \\!\\!\n",
    "    \\begin{bmatrix}\n",
    "    x_1 \\\\\n",
    "    x_2 \n",
    "    \\end{bmatrix}\n",
    " \\equiv \n",
    "    \\begin{bmatrix}\n",
    "    x_1a_{11} + x_2a_{12} \\\\\n",
    "    x_1a_{21} + x_2a_{22} \\\\\n",
    "    x_1a_{31} + x_2a_{32} \n",
    "    \\end{bmatrix}\n",
    "$$\n",
    "\n",
    "The matrix-vector product is defined this way so it can represent linear transformations."
   ]
  },
  {
   "cell_type": "code",
   "execution_count": 236,
   "metadata": {
    "collapsed": false
   },
   "outputs": [
    {
     "data": {
      "image/png": "[encoded data removed]",
      "text/latex": [
       "$$\\left[\\begin{matrix}a_{11} x_{1} + a_{12} x_{2}\\\\a_{21} x_{1} + a_{22} x_{2}\\\\a_{31} x_{1} + a_{32} x_{2}\\end{matrix}\\right]$$"
      ],
      "text/plain": [
       "⎡a₁₁⋅x₁ + a₁₂⋅x₂⎤\n",
       "⎢               ⎥\n",
       "⎢a₂₁⋅x₁ + a₂₂⋅x₂⎥\n",
       "⎢               ⎥\n",
       "⎣a₃₁⋅x₁ + a₃₂⋅x₂⎦"
      ]
     },
     "execution_count": 236,
     "metadata": {},
     "output_type": "execute_result"
    }
   ],
   "source": [
    "a_11, a_12, a_21, a_22, a_31, a_32 = symbols('a_11 a_12 a_21 a_22 a_31 a_32')\n",
    "x_1, x_2 = symbols('x_1 x_2')\n",
    "\n",
    "A = Matrix([\n",
    "        [a_11, a_12],\n",
    "        [a_21, a_22], \n",
    "        [a_31, a_32]])\n",
    "x = Vector([x_1,x_2])\n",
    "\n",
    "A*x"
   ]
  },
  {
   "cell_type": "markdown",
   "metadata": {},
   "source": [
    " "
   ]
  },
  {
   "cell_type": "markdown",
   "metadata": {},
   "source": [
    "### Matrix-matrix product\n",
    "\n",
    "$$\n",
    "  AB\n",
    "  \\quad \\Leftrightarrow  \\quad\n",
    "\\begin{bmatrix}\n",
    " a_{11} \t\t&  a_{12}\t \\\\[1.5mm]\n",
    " a_{21} \t\t&  a_{22}\t \\\\[1.5mm]\n",
    " a_{31} \t\t&  a_{32}\t \n",
    "\\end{bmatrix}\n",
    "\\!\\!\n",
    "\\begin{bmatrix}\n",
    " b_{11} \t\t&  b_{12}\t \\\\[1.5mm]\n",
    " b_{21} \t\t&  b_{22}\t \\\\\n",
    "\\end{bmatrix}\n",
    "=\n",
    "\\begin{bmatrix}\n",
    "a_{11}b_{11} + a_{12}b_{21} \t&  a_{11}b_{12} + a_{12}b_{22} \t \\\\[1.5mm]\n",
    "a_{21}b_{11} + a_{22}b_{21} \t&  a_{21}b_{12} + a_{22}b_{22} \t \\\\[1.5mm]\n",
    "a_{31}b_{11} + a_{32}b_{21} \t&  a_{31}b_{12} + a_{32}b_{22} \t \n",
    "\\end{bmatrix}\n",
    "$$"
   ]
  },
  {
   "cell_type": "code",
   "execution_count": 237,
   "metadata": {
    "collapsed": false
   },
   "outputs": [
    {
     "data": {
      "image/png": "[encoded data removed]",
      "text/latex": [
       "$$\\left[\\begin{matrix}a_{11} b_{11} + a_{12} b_{21} & a_{11} b_{12} + a_{12} b_{22}\\\\a_{21} b_{11} + a_{22} b_{21} & a_{21} b_{12} + a_{22} b_{22}\\\\a_{31} b_{11} + a_{32} b_{21} & a_{31} b_{12} + a_{32} b_{22}\\end{matrix}\\right]$$"
      ],
      "text/plain": [
       "⎡a₁₁⋅b₁₁ + a₁₂⋅b₂₁  a₁₁⋅b₁₂ + a₁₂⋅b₂₂⎤\n",
       "⎢                                    ⎥\n",
       "⎢a₂₁⋅b₁₁ + a₂₂⋅b₂₁  a₂₁⋅b₁₂ + a₂₂⋅b₂₂⎥\n",
       "⎢                                    ⎥\n",
       "⎣a₃₁⋅b₁₁ + a₃₂⋅b₂₁  a₃₁⋅b₁₂ + a₃₂⋅b₂₂⎦"
      ]
     },
     "execution_count": 237,
     "metadata": {},
     "output_type": "execute_result"
    }
   ],
   "source": [
    "b_11, b_12, b_21, b_22 = symbols('b_11 b_12 b_21 b_22')\n",
    "B = Matrix([[b_11, b_12],\n",
    "            [b_21, b_22]])\n",
    "\n",
    "A*B"
   ]
  },
  {
   "cell_type": "code",
   "execution_count": 238,
   "metadata": {
    "collapsed": false
   },
   "outputs": [
    {
     "data": {
      "text/plain": [
       "True"
      ]
     },
     "execution_count": 238,
     "metadata": {},
     "output_type": "execute_result"
    }
   ],
   "source": [
    "#  (AB)_ij = dot product of ith row of A with jth col of B\n",
    "(A*B)[2,1] == A[2,:].dot( B[:,1])"
   ]
  },
  {
   "cell_type": "markdown",
   "metadata": {},
   "source": [
    "The matrix-matrix product implements **composition of linear transformations**:"
   ]
  },
  {
   "cell_type": "code",
   "execution_count": 239,
   "metadata": {
    "collapsed": false
   },
   "outputs": [
    {
     "data": {
      "image/png": "[encoded data removed]",
      "text/latex": [
       "$$\\left[\\begin{matrix}a_{11} \\left(b_{11} x_{1} + b_{12} x_{2}\\right) + a_{12} \\left(b_{21} x_{1} + b_{22} x_{2}\\right)\\\\a_{21} \\left(b_{11} x_{1} + b_{12} x_{2}\\right) + a_{22} \\left(b_{21} x_{1} + b_{22} x_{2}\\right)\\\\a_{31} \\left(b_{11} x_{1} + b_{12} x_{2}\\right) + a_{32} \\left(b_{21} x_{1} + b_{22} x_{2}\\right)\\end{matrix}\\right]$$"
      ],
      "text/plain": [
       "⎡a₁₁⋅(b₁₁⋅x₁ + b₁₂⋅x₂) + a₁₂⋅(b₂₁⋅x₁ + b₂₂⋅x₂)⎤\n",
       "⎢                                             ⎥\n",
       "⎢a₂₁⋅(b₁₁⋅x₁ + b₁₂⋅x₂) + a₂₂⋅(b₂₁⋅x₁ + b₂₂⋅x₂)⎥\n",
       "⎢                                             ⎥\n",
       "⎣a₃₁⋅(b₁₁⋅x₁ + b₁₂⋅x₂) + a₃₂⋅(b₂₁⋅x₁ + b₂₂⋅x₂)⎦"
      ]
     },
     "execution_count": 239,
     "metadata": {},
     "output_type": "execute_result"
    }
   ],
   "source": [
    "A*(B*x)"
   ]
  },
  {
   "cell_type": "code",
   "execution_count": 240,
   "metadata": {
    "collapsed": false
   },
   "outputs": [
    {
     "data": {
      "text/plain": [
       "True"
      ]
     },
     "execution_count": 240,
     "metadata": {},
     "output_type": "execute_result"
    }
   ],
   "source": [
    "expand( A*(B*x) ) == expand( (A*B)*x )"
   ]
  },
  {
   "cell_type": "markdown",
   "metadata": {},
   "source": [
    " "
   ]
  },
  {
   "cell_type": "markdown",
   "metadata": {},
   "source": [
    "### Matrix inverse\n",
    "\n",
    "For an invertible matrix $A$, the matrix inverse $A^{-1}$ acts to undo the effects of $A$:\n",
    "\n",
    "$$\n",
    " A^{-1} A \\vec{v} = \\vec{v}.\n",
    "$$"
   ]
  },
  {
   "cell_type": "code",
   "execution_count": 242,
   "metadata": {
    "collapsed": false
   },
   "outputs": [
    {
     "data": {
      "image/png": "[encoded data removed]",
      "text/latex": [
       "$$\\left[\\begin{matrix}3 & - \\frac{2}{3}\\\\-1 & \\frac{1}{3}\\end{matrix}\\right]$$"
      ],
      "text/plain": [
       "⎡3   -2/3⎤\n",
       "⎢        ⎥\n",
       "⎣-1  1/3 ⎦"
      ]
     },
     "execution_count": 242,
     "metadata": {},
     "output_type": "execute_result"
    }
   ],
   "source": [
    "A = Matrix([[1,2],\n",
    "            [3,9]])\n",
    "\n",
    "A.inv()"
   ]
  },
  {
   "cell_type": "code",
   "execution_count": 243,
   "metadata": {
    "collapsed": false
   },
   "outputs": [
    {
     "data": {
      "image/png": "[encoded data removed]",
      "text/latex": [
       "$$\\left[\\begin{matrix}1 & 0\\\\0 & 1\\end{matrix}\\right]$$"
      ],
      "text/plain": [
       "⎡1  0⎤\n",
       "⎢    ⎥\n",
       "⎣0  1⎦"
      ]
     },
     "execution_count": 243,
     "metadata": {},
     "output_type": "execute_result"
    }
   ],
   "source": [
    "A.inv()*A"
   ]
  },
  {
   "cell_type": "markdown",
   "metadata": {},
   "source": [
    "### Matrix equations\n",
    "\n",
    "Suppose we're given the equation\n",
    "$$\n",
    " A\\vec{x} = \\vec{b}\n",
    "$$\n",
    "and we want to solve for $\\vec{x}$.\n",
    "\n",
    "One way to find $\\vec{x}$ is to multiply both sides of the equation by $A^{-1}$:\n",
    "$$\n",
    " A^{-1}A\\vec{x} = A^{-1}\\vec{b}\n",
    "$$\n",
    "since $A^{-1}$ cancels $A$ we obtain:\n",
    "$$\n",
    " \\vec{x} = A^{-1}\\vec{b}.\n",
    "$$"
   ]
  },
  {
   "cell_type": "markdown",
   "metadata": {},
   "source": [
    "#### Example\n",
    "\n",
    "$$\n",
    "    \\begin{bmatrix}\n",
    "    1 & 2 \\\\\n",
    "    3 & 9\n",
    "    \\end{bmatrix}\n",
    "    \\!\\!\n",
    "    \\begin{bmatrix}\n",
    "    x_1 \\\\\n",
    "    x_2 \n",
    "    \\end{bmatrix}\n",
    "    =\n",
    "    \\begin{bmatrix}\n",
    "    5 \\\\\n",
    "    21 \n",
    "    \\end{bmatrix}    \n",
    "\\qquad\n",
    "\\Rightarrow\n",
    "\\qquad\n",
    "    \\begin{bmatrix}\n",
    "    x_1 \\\\\n",
    "    x_2 \n",
    "    \\end{bmatrix}\n",
    "    =\n",
    "    \\begin{bmatrix}\n",
    "    1 & 2 \\\\\n",
    "    3 & 9\n",
    "    \\end{bmatrix}^{-1}\n",
    "    \\!\\!\n",
    "    \\begin{bmatrix}\n",
    "    5 \\\\\n",
    "    21 \n",
    "    \\end{bmatrix}    \n",
    "$$\n"
   ]
  },
  {
   "cell_type": "code",
   "execution_count": 244,
   "metadata": {
    "collapsed": false
   },
   "outputs": [
    {
     "data": {
      "image/png": "[encoded data removed]",
      "text/latex": [
       "$$\\left[\\begin{matrix}1\\\\2\\end{matrix}\\right]$$"
      ],
      "text/plain": [
       "⎡1⎤\n",
       "⎢ ⎥\n",
       "⎣2⎦"
      ]
     },
     "execution_count": 244,
     "metadata": {},
     "output_type": "execute_result"
    }
   ],
   "source": [
    "A = Matrix([[1,2],\n",
    "            [3,9]])\n",
    "b = Vector([5,21])\n",
    "\n",
    "x = A.inv()*b\n",
    "x"
   ]
  },
  {
   "cell_type": "code",
   "execution_count": 245,
   "metadata": {
    "collapsed": false
   },
   "outputs": [
    {
     "data": {
      "image/png": "[encoded data removed]",
      "text/latex": [
       "$$\\left[\\begin{matrix}5\\\\21\\end{matrix}\\right]$$"
      ],
      "text/plain": [
       "⎡5 ⎤\n",
       "⎢  ⎥\n",
       "⎣21⎦"
      ]
     },
     "execution_count": 245,
     "metadata": {},
     "output_type": "execute_result"
    }
   ],
   "source": [
    "# verify A*x == b\n",
    "A*x "
   ]
  },
  {
   "cell_type": "markdown",
   "metadata": {},
   "source": [
    "## Gauss-Jordan elimination procedure"
   ]
  },
  {
   "cell_type": "markdown",
   "metadata": {
    "collapsed": true
   },
   "source": [
    "Used to transform any matrix into *reduced row echelon form* (RREF) by performing row operations. \n",
    "This procedure has applications to solving equations, finding matrix inverses, and solving certain vector space problems."
   ]
  },
  {
   "cell_type": "markdown",
   "metadata": {},
   "source": [
    "# Linear transformations"
   ]
  },
  {
   "cell_type": "markdown",
   "metadata": {
    "collapsed": true
   },
   "source": [
    "Recall we defined linear transformations as vector functions. We can understand their properties in analogy with ordinary vector functions:\n",
    "\n",
    "\n",
    "\\begin{align*}\n",
    "    \\textrm{function } \n",
    "     f:\\mathbb{R}\\to \\mathbb{R}\n",
    "         & \\ \\Leftrightarrow \\,\n",
    "         \\begin{array}{l}\n",
    "    \\textrm{linear transformation } \n",
    "    T:\\mathbb{R}^{n}\\! \\to \\mathbb{R}^{m}\t\t \\\\\n",
    "    \\textrm{represented by the matrix } M_T \\in \\mathbb{R}^{m \\times n}\n",
    "    \\end{array} \\\\\n",
    "    %\n",
    "    \\textrm{input }  x\\in \\mathbb{R} \t\n",
    "         & \\ \\Leftrightarrow \\  \n",
    "        \\textrm{input }  \\vec{x} \\in \\mathbb{R}^n           \\\\\n",
    "    %\\textrm{compute } \n",
    "    \\textrm{output } f(x) \\in \\mathbb{R}\n",
    "         & \\ \\Leftrightarrow \\\n",
    "    %      \\textrm{compute matrix-vector product } \n",
    "     \\textrm{output }      T(\\vec{x}) \\equiv M_T\\vec{x} \\in \\mathbb{R}^m \\\\\n",
    "    %\\textrm{function composition  } \n",
    "    g\\circ\\! f \\: (x) =  g(f(x))\n",
    "         & \\ \\Leftrightarrow \\\n",
    "    %      \\textrm{matrix product } \n",
    "    S(T(\\vec{x})) \\equiv M_SM_T \\vec{x} \\\\\n",
    "    \\textrm{function inverse } f^{-1}\n",
    "         & \\ \\Leftrightarrow \\ \n",
    "          \\textrm{matrix inverse } M_T^{-1} \\\\\n",
    "    \\textrm{zeros of } f\n",
    "         & \\ \\Leftrightarrow \\\n",
    "          \\textrm{kernel of } T  \\equiv  \\textrm{null space of } M_T \\equiv \\mathcal{N}(A)  \\\\\n",
    "    \\textrm{image of } f\n",
    "         & \\ \\Leftrightarrow \\ \n",
    "             \\begin{array}{l}\n",
    "             \\textrm{image of } T \\equiv  \\textrm{column space of } M_T  \\equiv \\mathcal{C}(A) \n",
    "              \\end{array}\n",
    "\\end{align*}\n",
    "\n",
    "Observe we refer to the linear transformation $T$ and its matrix representation $M_T$ interchangeably."
   ]
  },
  {
   "cell_type": "markdown",
   "metadata": {},
   "source": [
    "## Fundamental spaces"
   ]
  },
  {
   "cell_type": "code",
   "execution_count": 246,
   "metadata": {
    "collapsed": true
   },
   "outputs": [],
   "source": [
    "# Recall the linear transformation P we constructed above\n",
    "M_P = Matrix([[1,1],\n",
    "              [1,1]])/2\n",
    "\n",
    "def P(vec):\n",
    "    \"\"\"Compute the projection of vector `vec` onto line y=x.\"\"\"\n",
    "    return M_P*vec"
   ]
  },
  {
   "cell_type": "code",
   "execution_count": 247,
   "metadata": {
    "collapsed": false
   },
   "outputs": [
    {
     "data": {
      "image/png": "[encoded data removed]",
      "text/latex": [
       "$$\\left [ \\left[\\begin{matrix}-1\\\\1\\end{matrix}\\right]\\right ]$$"
      ],
      "text/plain": [
       "⎡⎡-1⎤⎤\n",
       "⎢⎢  ⎥⎥\n",
       "⎣⎣1 ⎦⎦"
      ]
     },
     "execution_count": 247,
     "metadata": {},
     "output_type": "execute_result"
    }
   ],
   "source": [
    "# null space of M_P == kernel of P\n",
    "M_P.nullspace()"
   ]
  },
  {
   "cell_type": "code",
   "execution_count": 248,
   "metadata": {
    "collapsed": false
   },
   "outputs": [
    {
     "data": {
      "image/png": "[encoded data removed]",
      "text/latex": [
       "$$\\left[\\begin{matrix}0\\\\0\\end{matrix}\\right]$$"
      ],
      "text/plain": [
       "⎡0⎤\n",
       "⎢ ⎥\n",
       "⎣0⎦"
      ]
     },
     "execution_count": 248,
     "metadata": {},
     "output_type": "execute_result"
    }
   ],
   "source": [
    "# any vector from the null space gets mapped to the zero vector\n",
    "n = M_P.nullspace()[0]\n",
    "P(n)"
   ]
  },
  {
   "cell_type": "code",
   "execution_count": 249,
   "metadata": {
    "collapsed": false
   },
   "outputs": [
    {
     "data": {
      "image/png": "[encoded data removed]",
      "text/latex": [
       "$$\\left [ \\left[\\begin{matrix}\\frac{1}{2}\\\\\\frac{1}{2}\\end{matrix}\\right]\\right ]$$"
      ],
      "text/plain": [
       "⎡⎡1/2⎤⎤\n",
       "⎢⎢   ⎥⎥\n",
       "⎣⎣1/2⎦⎦"
      ]
     },
     "execution_count": 249,
     "metadata": {},
     "output_type": "execute_result"
    }
   ],
   "source": [
    "# column space of M_P == image of P\n",
    "M_P.columnspace()"
   ]
  },
  {
   "cell_type": "code",
   "execution_count": 210,
   "metadata": {
    "collapsed": false
   },
   "outputs": [
    {
     "data": {
      "image/png": "[encoded data removed]",
      "text/latex": [
       "$$\\left[\\begin{matrix}\\frac{9}{2}\\\\\\frac{9}{2}\\end{matrix}\\right]$$"
      ],
      "text/plain": [
       "⎡9/2⎤\n",
       "⎢   ⎥\n",
       "⎣9/2⎦"
      ]
     },
     "execution_count": 210,
     "metadata": {},
     "output_type": "execute_result"
    }
   ],
   "source": [
    "# all outputs of P lie on the line y=x so are multiples of [1,1]\n",
    "v = Vector([4,5])\n",
    "P(v)"
   ]
  },
  {
   "cell_type": "markdown",
   "metadata": {},
   "source": [
    "### Vector spaces"
   ]
  },
  {
   "cell_type": "markdown",
   "metadata": {
    "collapsed": true
   },
   "source": [
    "The above examples consist of a single vector, but in general a vector space can consist of linear combination of multiple vectors:\n",
    "\n",
    "$$\n",
    "   V \n",
    "   = \\textrm{span}(\\vec{v}_1, \\vec{v}_2 )\n",
    "   = \\{ \\alpha\\vec{v}_1 + \\beta\\vec{v}_2, \\forall \\alpha, \\beta \\in \\mathbb{R} \\}.\n",
    "$$"
   ]
  },
  {
   "cell_type": "markdown",
   "metadata": {},
   "source": [
    "## Eigenvectors and eigenvalues"
   ]
  },
  {
   "cell_type": "markdown",
   "metadata": {
    "collapsed": true
   },
   "source": [
    "When a matrix is multiplied by one of its eigenvectors the output is the same eigenvector multiplied by a constant\n",
    "\n",
    "$$\n",
    " A\\vec{e}_\\lambda =\\lambda\\vec{e}_\\lambda.\n",
    "$$\n",
    "\n",
    "The constant $\\lambda$ is called an *eigenvalue* of $A$."
   ]
  },
  {
   "cell_type": "code",
   "execution_count": 277,
   "metadata": {
    "collapsed": false
   },
   "outputs": [
    {
     "data": {
      "image/png": "[encoded data removed]",
      "text/latex": [
       "$$\\left[\\begin{matrix}\\frac{1}{2} & \\frac{1}{2}\\\\\\frac{1}{2} & \\frac{1}{2}\\end{matrix}\\right]$$"
      ],
      "text/plain": [
       "⎡1/2  1/2⎤\n",
       "⎢        ⎥\n",
       "⎣1/2  1/2⎦"
      ]
     },
     "execution_count": 277,
     "metadata": {},
     "output_type": "execute_result"
    }
   ],
   "source": [
    "# Recall the P, the projection onto the y=x plane and its matrix M_P\n",
    "M_P"
   ]
  },
  {
   "cell_type": "code",
   "execution_count": 278,
   "metadata": {
    "collapsed": false
   },
   "outputs": [
    {
     "data": {
      "image/png": "[encoded data removed]",
      "text/latex": [
       "$$\\left \\{ 0 : 1, \\quad 1 : 1\\right \\}$$"
      ],
      "text/plain": [
       "{0: 1, 1: 1}"
      ]
     },
     "execution_count": 278,
     "metadata": {},
     "output_type": "execute_result"
    }
   ],
   "source": [
    "M_P.eigenvals()"
   ]
  },
  {
   "cell_type": "code",
   "execution_count": 265,
   "metadata": {
    "collapsed": false
   },
   "outputs": [
    {
     "data": {
      "image/png": "[encoded data removed]",
      "text/latex": [
       "$$\\left [ \\left ( 0, \\quad 1, \\quad \\left [ \\left[\\begin{matrix}-1\\\\1\\end{matrix}\\right]\\right ]\\right ), \\quad \\left ( 1, \\quad 1, \\quad \\left [ \\left[\\begin{matrix}1\\\\1\\end{matrix}\\right]\\right ]\\right )\\right ]$$"
      ],
      "text/plain": [
       "⎡⎛0, 1, ⎡⎡-1⎤⎤⎞, ⎛1, 1, ⎡⎡1⎤⎤⎞⎤\n",
       "⎢⎜      ⎢⎢  ⎥⎥⎟  ⎜      ⎢⎢ ⎥⎥⎟⎥\n",
       "⎣⎝      ⎣⎣1 ⎦⎦⎠  ⎝      ⎣⎣1⎦⎦⎠⎦"
      ]
     },
     "execution_count": 265,
     "metadata": {},
     "output_type": "execute_result"
    }
   ],
   "source": [
    "M_P.eigenvects()"
   ]
  },
  {
   "cell_type": "code",
   "execution_count": 272,
   "metadata": {
    "collapsed": false
   },
   "outputs": [
    {
     "data": {
      "image/png": "[encoded data removed]",
      "text/plain": [
       "<matplotlib.figure.Figure at 0x10ae0fe48>"
      ]
     },
     "metadata": {},
     "output_type": "display_data"
    }
   ],
   "source": [
    "evec0 = M_P.eigenvects()[0][2][0]\n",
    "evec1 = M_P.eigenvects()[1][2][0]\n",
    "\n",
    "plot_line([1,1],[0,0])\n",
    "plot_vecs(evec0, evec1)"
   ]
  },
  {
   "cell_type": "code",
   "execution_count": 273,
   "metadata": {
    "collapsed": false
   },
   "outputs": [
    {
     "data": {
      "image/png": "[encoded data removed]",
      "text/latex": [
       "$$\\left[\\begin{matrix}0\\\\0\\end{matrix}\\right]$$"
      ],
      "text/plain": [
       "⎡0⎤\n",
       "⎢ ⎥\n",
       "⎣0⎦"
      ]
     },
     "execution_count": 273,
     "metadata": {},
     "output_type": "execute_result"
    }
   ],
   "source": [
    "M_P*evec0  # == 0*evec0"
   ]
  },
  {
   "cell_type": "code",
   "execution_count": 275,
   "metadata": {
    "collapsed": false
   },
   "outputs": [
    {
     "data": {
      "image/png": "[encoded data removed]",
      "text/latex": [
       "$$\\left[\\begin{matrix}1\\\\1\\end{matrix}\\right]$$"
      ],
      "text/plain": [
       "⎡1⎤\n",
       "⎢ ⎥\n",
       "⎣1⎦"
      ]
     },
     "execution_count": 275,
     "metadata": {},
     "output_type": "execute_result"
    }
   ],
   "source": [
    "M_P*evec1  # == 1*evec1"
   ]
  },
  {
   "cell_type": "markdown",
   "metadata": {},
   "source": [
    " "
   ]
  },
  {
   "cell_type": "markdown",
   "metadata": {},
   "source": [
    "# Many other topics..."
   ]
  },
  {
   "cell_type": "markdown",
   "metadata": {},
   "source": [
    "## Analytical geometry"
   ]
  },
  {
   "cell_type": "markdown",
   "metadata": {},
   "source": [
    "### Points, lines, planes, and distances\n",
    "\n",
    "Useful geomtetric calculations and intuition."
   ]
  },
  {
   "cell_type": "markdown",
   "metadata": {},
   "source": [
    "### Projections\n",
    "\n",
    "Projections onto lines (as above), planes, hyperplanes, coordinate projections, etc."
   ]
  },
  {
   "cell_type": "markdown",
   "metadata": {},
   "source": [
    " "
   ]
  },
  {
   "cell_type": "markdown",
   "metadata": {},
   "source": [
    "## Invertible matrix theorem\n",
    "\n",
    "Summarizes and connects computational, geometric, and theoretical aspects of linear algebra."
   ]
  },
  {
   "cell_type": "markdown",
   "metadata": {},
   "source": [
    " "
   ]
  },
  {
   "cell_type": "markdown",
   "metadata": {},
   "source": [
    "## Abstract vector spaces"
   ]
  },
  {
   "cell_type": "markdown",
   "metadata": {},
   "source": [
    "### Vector space of matrices e.g. $A = \\begin{bmatrix}a_1 & a_2 \\\\ a_3 & a_4 \\end{bmatrix}$"
   ]
  },
  {
   "cell_type": "markdown",
   "metadata": {},
   "source": [
    "### Vector space of polynomials, e.g. $p(x)=a_0 + a_1x + a_2x^2$"
   ]
  },
  {
   "cell_type": "code",
   "execution_count": null,
   "metadata": {
    "collapsed": true
   },
   "outputs": [],
   "source": []
  },
  {
   "cell_type": "markdown",
   "metadata": {},
   "source": [
    "## Special types of matrices"
   ]
  },
  {
   "cell_type": "code",
   "execution_count": 130,
   "metadata": {
    "collapsed": false
   },
   "outputs": [
    {
     "data": {
      "image/png": "[encoded data removed]",
      "text/latex": [
       "$$\\left[\\begin{matrix}1 & 0\\\\0 & 4\\end{matrix}\\right]$$"
      ],
      "text/plain": [
       "⎡1  0⎤\n",
       "⎢    ⎥\n",
       "⎣0  4⎦"
      ]
     },
     "execution_count": 130,
     "metadata": {},
     "output_type": "execute_result"
    }
   ],
   "source": [
    "# diagonal\n",
    "D = Matrix([[1,0],\n",
    "            [0,4]])\n",
    "D"
   ]
  },
  {
   "cell_type": "code",
   "execution_count": 131,
   "metadata": {
    "collapsed": false
   },
   "outputs": [
    {
     "data": {
      "image/png": "[encoded data removed]",
      "text/latex": [
       "$$\\left[\\begin{matrix}1 & 2\\\\0 & 3\\end{matrix}\\right]$$"
      ],
      "text/plain": [
       "⎡1  2⎤\n",
       "⎢    ⎥\n",
       "⎣0  3⎦"
      ]
     },
     "execution_count": 131,
     "metadata": {},
     "output_type": "execute_result"
    }
   ],
   "source": [
    "# upper triangular\n",
    "U = Matrix([[1,2],\n",
    "            [0,3]])\n",
    "U"
   ]
  },
  {
   "cell_type": "code",
   "execution_count": 132,
   "metadata": {
    "collapsed": false
   },
   "outputs": [
    {
     "data": {
      "text/plain": [
       "True"
      ]
     },
     "execution_count": 132,
     "metadata": {},
     "output_type": "execute_result"
    }
   ],
   "source": [
    "# symmetric\n",
    "S = Matrix([[1,2],\n",
    "            [2,3]])\n",
    "S == S.T"
   ]
  },
  {
   "cell_type": "markdown",
   "metadata": {},
   "source": [
    "## Matrix decompositions"
   ]
  },
  {
   "cell_type": "code",
   "execution_count": 297,
   "metadata": {
    "collapsed": false
   },
   "outputs": [
    {
     "data": {
      "image/png": "[encoded data removed]",
      "text/latex": [
       "$$\\left[\\begin{matrix}4 & 2\\\\1 & 3\\end{matrix}\\right]$$"
      ],
      "text/plain": [
       "⎡4  2⎤\n",
       "⎢    ⎥\n",
       "⎣1  3⎦"
      ]
     },
     "execution_count": 297,
     "metadata": {},
     "output_type": "execute_result"
    }
   ],
   "source": [
    "A = Matrix([ [4,2],\n",
    "             [1,3] ]) \n",
    "A"
   ]
  },
  {
   "cell_type": "code",
   "execution_count": 298,
   "metadata": {
    "collapsed": false
   },
   "outputs": [
    {
     "data": {
      "image/png": "[encoded data removed]",
      "text/latex": [
       "$$\\left ( \\left[\\begin{matrix}-1 & 2\\\\1 & 1\\end{matrix}\\right], \\quad \\left[\\begin{matrix}2 & 0\\\\0 & 5\\end{matrix}\\right], \\quad \\left[\\begin{matrix}4 & 2\\\\1 & 3\\end{matrix}\\right]\\right )$$"
      ],
      "text/plain": [
       "⎛⎡-1  2⎤, ⎡2  0⎤, ⎡4  2⎤⎞\n",
       "⎜⎢     ⎥  ⎢    ⎥  ⎢    ⎥⎟\n",
       "⎝⎣1   1⎦  ⎣0  5⎦  ⎣1  3⎦⎠"
      ]
     },
     "execution_count": 298,
     "metadata": {},
     "output_type": "execute_result"
    }
   ],
   "source": [
    "# decompose matrix into eigenvectors and eigenvalues\n",
    "Q, Lambda = A.diagonalize()\n",
    "Q, Lambda, simplify( Q*Lambda*Q.inv() )"
   ]
  },
  {
   "cell_type": "code",
   "execution_count": 299,
   "metadata": {
    "collapsed": false
   },
   "outputs": [
    {
     "data": {
      "image/png": "[encoded data removed]",
      "text/latex": [
       "$$\\left ( \\left[\\begin{matrix}1 & 0\\\\\\frac{1}{4} & 1\\end{matrix}\\right], \\quad \\left[\\begin{matrix}4 & 2\\\\0 & \\frac{5}{2}\\end{matrix}\\right], \\quad \\left[\\begin{matrix}4 & 2\\\\1 & 3\\end{matrix}\\right]\\right )$$"
      ],
      "text/plain": [
       "⎛⎡ 1   0⎤, ⎡4   2 ⎤, ⎡4  2⎤⎞\n",
       "⎜⎢      ⎥  ⎢      ⎥  ⎢    ⎥⎟\n",
       "⎝⎣1/4  1⎦  ⎣0  5/2⎦  ⎣1  3⎦⎠"
      ]
     },
     "execution_count": 299,
     "metadata": {},
     "output_type": "execute_result"
    }
   ],
   "source": [
    "# decompoe matrix A into a lower-triangular and upper triangular \n",
    "L, U, _ = A.LUdecomposition()\n",
    "L, U, L*U"
   ]
  },
  {
   "cell_type": "code",
   "execution_count": 300,
   "metadata": {
    "collapsed": false
   },
   "outputs": [
    {
     "data": {
      "image/png": "[encoded data removed]",
      "text/latex": [
       "$$\\left ( \\left[\\begin{matrix}\\frac{4 \\sqrt{17}}{17} & - \\frac{\\sqrt{17}}{17}\\\\\\frac{\\sqrt{17}}{17} & \\frac{4 \\sqrt{17}}{17}\\end{matrix}\\right], \\quad \\left[\\begin{matrix}\\sqrt{17} & \\frac{11 \\sqrt{17}}{17}\\\\0 & \\frac{10 \\sqrt{17}}{17}\\end{matrix}\\right], \\quad \\left[\\begin{matrix}4 & 2\\\\1 & 3\\end{matrix}\\right]\\right )$$"
      ],
      "text/plain": [
       "⎛⎡4⋅√17  -√17 ⎤  ⎡     11⋅√17⎤        ⎞\n",
       "⎜⎢─────  ─────⎥, ⎢√17  ──────⎥, ⎡4  2⎤⎟\n",
       "⎜⎢  17     17 ⎥  ⎢       17  ⎥  ⎢    ⎥⎟\n",
       "⎜⎢            ⎥  ⎢           ⎥  ⎣1  3⎦⎟\n",
       "⎜⎢ √17   4⋅√17⎥  ⎢     10⋅√17⎥        ⎟\n",
       "⎜⎢ ───   ─────⎥  ⎢ 0   ──────⎥        ⎟\n",
       "⎝⎣  17     17 ⎦  ⎣       17  ⎦        ⎠"
      ]
     },
     "execution_count": 300,
     "metadata": {},
     "output_type": "execute_result"
    }
   ],
   "source": [
    "Q, R = A.QRdecomposition()\n",
    "Q, R, Q*R"
   ]
  },
  {
   "cell_type": "code",
   "execution_count": 302,
   "metadata": {
    "collapsed": false
   },
   "outputs": [
    {
     "data": {
      "image/png": "[encoded data removed]",
      "text/latex": [
       "$$\\left[\\begin{matrix}1 & 0\\\\0 & 1\\end{matrix}\\right]$$"
      ],
      "text/plain": [
       "⎡1  0⎤\n",
       "⎢    ⎥\n",
       "⎣0  1⎦"
      ]
     },
     "execution_count": 302,
     "metadata": {},
     "output_type": "execute_result"
    }
   ],
   "source": [
    "Q*Q.T"
   ]
  },
  {
   "cell_type": "markdown",
   "metadata": {},
   "source": [
    "## Linear algebra over other fields "
   ]
  },
  {
   "cell_type": "code",
   "execution_count": 140,
   "metadata": {
    "collapsed": false
   },
   "outputs": [
    {
     "data": {
      "image/png": "[encoded data removed]",
      "text/latex": [
       "$$1$$"
      ],
      "text/plain": [
       "1"
      ]
     },
     "execution_count": 140,
     "metadata": {},
     "output_type": "execute_result"
    }
   ],
   "source": [
    "# Finite field of two elements F_2 = {0,1}  (Binary numbers)\n",
    "(1+6) % 2\n",
    "# applications to cryptography, error correcting codes, etc."
   ]
  },
  {
   "cell_type": "markdown",
   "metadata": {},
   "source": [
    " "
   ]
  },
  {
   "cell_type": "code",
   "execution_count": 95,
   "metadata": {
    "collapsed": false
   },
   "outputs": [
    {
     "data": {
      "image/png": "[encoded data removed]",
      "text/latex": [
       "$$\\left[\\begin{matrix}1\\\\i\\end{matrix}\\right]$$"
      ],
      "text/plain": [
       "⎡1⎤\n",
       "⎢ ⎥\n",
       "⎣ⅈ⎦"
      ]
     },
     "execution_count": 95,
     "metadata": {},
     "output_type": "execute_result"
    }
   ],
   "source": [
    "# Complex field  z = a+bi, where i = sqrt(-1)\n",
    "v = Vector([1, I])\n",
    "v"
   ]
  },
  {
   "cell_type": "code",
   "execution_count": 86,
   "metadata": {
    "collapsed": false
   },
   "outputs": [
    {
     "data": {
      "image/png": "[encoded data removed]",
      "text/latex": [
       "$$\\left[\\begin{matrix}1 & - i\\end{matrix}\\right]$$"
      ],
      "text/plain": [
       "[1  -ⅈ]"
      ]
     },
     "execution_count": 86,
     "metadata": {},
     "output_type": "execute_result"
    }
   ],
   "source": [
    "v.H"
   ]
  },
  {
   "cell_type": "code",
   "execution_count": 141,
   "metadata": {
    "collapsed": true
   },
   "outputs": [],
   "source": [
    "# used in communication theory and quantum mechanics"
   ]
  }
 ],
 "metadata": {
  "kernelspec": {
   "display_name": "Python 3",
   "language": "python",
   "name": "python3"
  },
  "language_info": {
   "codemirror_mode": {
    "name": "ipython",
    "version": 3
   },
   "file_extension": ".py",
   "mimetype": "text/x-python",
   "name": "python",
   "nbconvert_exporter": "python",
   "pygments_lexer": "ipython3",
   "version": "3.5.1"
  }
 },
 "nbformat": 4,
 "nbformat_minor": 0
}
