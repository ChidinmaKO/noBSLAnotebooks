{
 "cells": [
  {
   "cell_type": "markdown",
   "metadata": {},
   "source": [
    "# Linear algebra overview"
   ]
  },
  {
   "cell_type": "markdown",
   "metadata": {},
   "source": [
    "This notebook introduces concepts form linear algebra in a birds-eye overview. The goal is not to get into the details, but to give the reader a taste of the different types of thinking: computational, geometrical, and theoretical, that are used in linear algebra."
   ]
  },
  {
   "cell_type": "markdown",
   "metadata": {},
   "source": [
    "## Plan\n",
    "\n",
    "  - Prerequisites\n",
    "    - Numbers\n",
    "    - Functions\n",
    "    - Geometry    \n",
    "  - Vectors\n",
    "    - Def'n \n",
    "    - Geomterical interpretation\n",
    "    - Dot product\n",
    "      - Def'n\n",
    "      - Intuition\n",
    "      - Unit length vectors\n",
    "  - Projections\n",
    "    - Projection operation\n",
    "    - Example: projection onto the line with equation $x-y=0$\n",
    "  - Linear transformation == vector functions\n",
    "    - Linear property: $f(a\\mathbf{x} + b\\mathbf{y}) = af(\\mathbf{x}) + bf(\\mathbf{y})$\n",
    "    - Projection transformation P\n",
    "  - Matrix representation of linear transformations\n",
    "    - Linear transformation <--> Matrix-vector product equivalence\n",
    "    - Show matrix representation M_P of Projection transformation P\n",
    "  - Matrices\n",
    "    - Def'n \n",
    "    - Matrix operations\n",
    "      - Matrix-vector product \n",
    "      - Matrix-matrix product\n",
    "      - Trace\n",
    "      - Determinant\n",
    "      - Matrix inverse\n",
    "      - Matrix equations\n",
    "      - Reduced row echelon form \n",
    "  - Linear transformations\n",
    "    - Fundamental spaces\n",
    "      - Vector spaces\n",
    "    - Matrix representations\n",
    "    - Eigenvectors and eigenvalues\n",
    "  - Further topics\n",
    "    - Computational procedures\n",
    "    - Analytical geometry\n",
    "      - Points, lines, and planes\n",
    "      - Projections\n",
    "      - Distances\n",
    "    - Abstract vector spaces\n",
    "      - Vector space of polynomials, e.g. $p(x)=a_0 + a_1x + a_2x^2$\n",
    "    - Special types of matrices"
   ]
  },
  {
   "cell_type": "code",
   "execution_count": 1,
   "metadata": {
    "collapsed": true
   },
   "outputs": [],
   "source": [
    "# setup SymPy\n",
    "from sympy import *\n",
    "x, y, z, t = symbols('x y z t')\n",
    "init_printing()\n",
    "\n",
    "# setup plotting\n",
    "# %matplotlib notebook\n",
    "%matplotlib inline\n",
    "import matplotlib.pyplot as mpl\n",
    "from plot_helpers import plot_vec, plot_vecs, plot_line, plot_plane, autoscale_arrows"
   ]
  },
  {
   "cell_type": "markdown",
   "metadata": {},
   "source": [
    "## Vectors"
   ]
  },
  {
   "cell_type": "code",
   "execution_count": 2,
   "metadata": {
    "collapsed": false
   },
   "outputs": [
    {
     "data": {
      "image/png": "[encoded data removed]",
      "text/latex": [
       "$$\\left[\\begin{matrix}1\\\\1\\end{matrix}\\right]$$"
      ],
      "text/plain": [
       "⎡1⎤\n",
       "⎢ ⎥\n",
       "⎣1⎦"
      ]
     },
     "execution_count": 2,
     "metadata": {},
     "output_type": "execute_result"
    }
   ],
   "source": [
    "# define two vectors\n",
    "u = Matrix([1,1])\n",
    "v = Matrix([1,-1])\n",
    "u"
   ]
  },
  {
   "cell_type": "code",
   "execution_count": 3,
   "metadata": {
    "collapsed": false
   },
   "outputs": [
    {
     "data": {
      "image/png": "[encoded data removed]",
      "text/latex": [
       "$$\\left[\\begin{matrix}1\\\\-1\\end{matrix}\\right]$$"
      ],
      "text/plain": [
       "⎡1 ⎤\n",
       "⎢  ⎥\n",
       "⎣-1⎦"
      ]
     },
     "execution_count": 3,
     "metadata": {},
     "output_type": "execute_result"
    }
   ],
   "source": [
    "v"
   ]
  },
  {
   "cell_type": "code",
   "execution_count": 4,
   "metadata": {
    "collapsed": false
   },
   "outputs": [
    {
     "data": {
      "image/png": "[encoded data removed]",
      "text/plain": [
       "<matplotlib.figure.Figure at 0x112566ba8>"
      ]
     },
     "metadata": {},
     "output_type": "display_data"
    }
   ],
   "source": [
    "fig = mpl.figure()\n",
    "plot_vecs(u,v)\n",
    "autoscale_arrows()"
   ]
  },
  {
   "cell_type": "markdown",
   "metadata": {},
   "source": [
    "### Vector addition"
   ]
  },
  {
   "cell_type": "code",
   "execution_count": 7,
   "metadata": {
    "collapsed": false
   },
   "outputs": [
    {
     "data": {
      "image/png": "[encoded data removed]",
      "text/latex": [
       "$$\\left[\\begin{matrix}2\\\\0\\end{matrix}\\right]$$"
      ],
      "text/plain": [
       "⎡2⎤\n",
       "⎢ ⎥\n",
       "⎣0⎦"
      ]
     },
     "execution_count": 7,
     "metadata": {},
     "output_type": "execute_result"
    },
    {
     "data": {
      "image/png": "[encoded data removed]",
      "text/plain": [
       "<matplotlib.figure.Figure at 0x1150985c0>"
      ]
     },
     "metadata": {},
     "output_type": "display_data"
    }
   ],
   "source": [
    "# graphical\n",
    "fig = mpl.figure()\n",
    "plot_vecs(u,v)\n",
    "plot_vec(v, at=u, color='b')\n",
    "plot_vec(u+v, color='r')\n",
    "autoscale_arrows()\n",
    "\n",
    "# algebraic\n",
    "u+v"
   ]
  },
  {
   "cell_type": "code",
   "execution_count": null,
   "metadata": {
    "collapsed": true
   },
   "outputs": [],
   "source": []
  },
  {
   "cell_type": "code",
   "execution_count": 2,
   "metadata": {
    "collapsed": false
   },
   "outputs": [
    {
     "data": {
      "text/plain": [
       "3"
      ]
     },
     "execution_count": 2,
     "metadata": {},
     "output_type": "execute_result"
    }
   ],
   "source": [
    "a = 3\n",
    "a"
   ]
  }
 ],
 "metadata": {
  "kernelspec": {
   "display_name": "Python 3",
   "language": "python",
   "name": "python3"
  },
  "language_info": {
   "codemirror_mode": {
    "name": "ipython",
    "version": 3
   },
   "file_extension": ".py",
   "mimetype": "text/x-python",
   "name": "python",
   "nbconvert_exporter": "python",
   "pygments_lexer": "ipython3",
   "version": "3.5.1"
  }
 },
 "nbformat": 4,
 "nbformat_minor": 0
}
