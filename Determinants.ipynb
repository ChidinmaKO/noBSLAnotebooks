{
 "cells": [
  {
   "cell_type": "markdown",
   "metadata": {},
   "source": [
    "# Determinant formula from Cavalieri's principle"
   ]
  },
  {
   "cell_type": "code",
   "execution_count": 1,
   "metadata": {
    "collapsed": true
   },
   "outputs": [],
   "source": [
    "# setup SymPy\n",
    "from sympy import *\n",
    "init_printing()\n",
    "Vector = Matrix\n",
    "\n",
    "# setup plotting\n",
    "#%matplotlib inline\n",
    "%matplotlib notebook\n",
    "import matplotlib.pyplot as mpl\n",
    "from plot_helpers import plot_vec, plot_vecs, plot_line, plot_plane, autoscale_arrows"
   ]
  },
  {
   "cell_type": "markdown",
   "metadata": {},
   "source": [
    "## Two dimentions"
   ]
  },
  {
   "cell_type": "code",
   "execution_count": 2,
   "metadata": {
    "collapsed": false
   },
   "outputs": [
    {
     "data": {
      "image/png": "[encoded data removed]",
      "text/latex": [
       "$$a d - b c$$"
      ],
      "text/plain": [
       "a⋅d - b⋅c"
      ]
     },
     "execution_count": 2,
     "metadata": {},
     "output_type": "execute_result"
    }
   ],
   "source": [
    "a,b, c,d = symbols('a b  c d')\n",
    "\n",
    "# Consider the volume of the parallelegram with sides:\n",
    "u1 = Vector([a,b])\n",
    "u2 = Vector([c,d])\n",
    "\n",
    "# We can compute the volume of the parallelpiped by computing the deteminant of\n",
    "A = Matrix([[a,b],\n",
    "            [c,d]])\n",
    "A.det()"
   ]
  },
  {
   "cell_type": "markdown",
   "metadata": {},
   "source": [
    "###  Cavalieri's principle\n",
    "\n",
    "![Cavalieri's principle](http://mathaware.org/mam/00/master/essays/dimension/JPG/figure10.jpg)\n",
    "\n",
    "Mathematically, we have \n",
    "\n",
    "$$\n",
    "  D(\\vec{u}_1, \\  \\vec{u}_2)\n",
    "  = \n",
    "  D(\\vec{u}_1 - \\alpha \\vec{u}_2, \\ \\vec{u}_2).\n",
    "$$"
   ]
  },
  {
   "cell_type": "code",
   "execution_count": 3,
   "metadata": {
    "collapsed": false
   },
   "outputs": [
    {
     "data": {
      "image/png": "[encoded data removed]",
      "text/latex": [
       "$$\\left[\\begin{matrix}a - \\frac{b c}{d} & 0\\\\c & d\\end{matrix}\\right]$$"
      ],
      "text/plain": [
       "⎡    b⋅c   ⎤\n",
       "⎢a - ───  0⎥\n",
       "⎢     d    ⎥\n",
       "⎢          ⎥\n",
       "⎣   c     d⎦"
      ]
     },
     "execution_count": 3,
     "metadata": {},
     "output_type": "execute_result"
    }
   ],
   "source": [
    "# choose alpha so A's top right entry will be zero\n",
    "alpha = symbols('alpha')\n",
    "\n",
    "alpha = b/d\n",
    "A[0,:] = A[0,:] - alpha*A[1,:]\n",
    "A"
   ]
  },
  {
   "cell_type": "markdown",
   "metadata": {},
   "source": [
    "Copmputing the area is the same as computing the product of the entries on the diagonal:"
   ]
  },
  {
   "cell_type": "code",
   "execution_count": 4,
   "metadata": {
    "collapsed": false
   },
   "outputs": [
    {
     "data": {
      "image/png": "[encoded data removed]",
      "text/latex": [
       "$$d \\left(a - \\frac{b c}{d}\\right)$$"
      ],
      "text/plain": [
       "  ⎛    b⋅c⎞\n",
       "d⋅⎜a - ───⎟\n",
       "  ⎝     d ⎠"
      ]
     },
     "execution_count": 4,
     "metadata": {},
     "output_type": "execute_result"
    }
   ],
   "source": [
    "A[0,0]*A[1,1]"
   ]
  },
  {
   "cell_type": "code",
   "execution_count": 5,
   "metadata": {
    "collapsed": false
   },
   "outputs": [
    {
     "data": {
      "image/png": "[encoded data removed]",
      "text/latex": [
       "$$a d - b c$$"
      ],
      "text/plain": [
       "a⋅d - b⋅c"
      ]
     },
     "execution_count": 5,
     "metadata": {},
     "output_type": "execute_result"
    }
   ],
   "source": [
    "simplify( A[0,0]*A[1,1] )"
   ]
  },
  {
   "cell_type": "markdown",
   "metadata": {},
   "source": [
    "**Intuition:** the coefficient $\\alpha$ encodes something very important about the \"alternating multi-linear\" structure that deteminants and cross products embody. In words, the choice of $\\alpha$ and the resulting expression $a-\\frac{bc}{d}$ correponds to what happens to the first component of $\\vec{u}_1$ when we make it's second component zero.\n",
    "\n",
    "(Yeah, I know, handwavy like crazy, but better than nothing.)"
   ]
  },
  {
   "cell_type": "markdown",
   "metadata": {},
   "source": [
    "## Three dimentions"
   ]
  },
  {
   "cell_type": "code",
   "execution_count": 6,
   "metadata": {
    "collapsed": false
   },
   "outputs": [
    {
     "data": {
      "image/png": "[encoded data removed]",
      "text/latex": [
       "$$a e i - a f h - b d i + b f g + c d h - c e g$$"
      ],
      "text/plain": [
       "a⋅e⋅i - a⋅f⋅h - b⋅d⋅i + b⋅f⋅g + c⋅d⋅h - c⋅e⋅g"
      ]
     },
     "execution_count": 6,
     "metadata": {},
     "output_type": "execute_result"
    }
   ],
   "source": [
    "a,b,c, d,e,f, g,h,i = symbols('a b c  d e f  g h i')\n",
    "\n",
    "# Consider the volume of the parellelpiped with sides:\n",
    "u1 = Vector([a,b,c])\n",
    "u2 = Vector([d,e,f])\n",
    "u3 = Vector([g,h,i])\n",
    "\n",
    "# We can compute the volume of the parallelpiped by computing the deteminant of\n",
    "A = Matrix([[a,b,c],\n",
    "            [d,e,f],\n",
    "            [g,h,i]])\n",
    "A.det()"
   ]
  },
  {
   "cell_type": "markdown",
   "metadata": {},
   "source": [
    "###  Cavalieri's principle\n",
    "\n",
    "![Cavalieri's principle](http://mathaware.org/mam/00/master/essays/dimension/JPG/figure10.jpg)\n"
   ]
  },
  {
   "cell_type": "markdown",
   "metadata": {},
   "source": [
    "This principle leads to the following property of the determinant\n",
    "\n",
    "$$\n",
    "  D(\\vec{u}_1, \\ \\vec{u}_2, \\ \\vec{u}_3)\n",
    "  = \n",
    "  D(\\vec{u}_1,  \\ \\vec{u}_2- k \\vec{u}_3, \\ \\vec{u}_3)\n",
    "  =\n",
    "  D(\\vec{u}_1 -\\ell\\vec{u}_2 - m\\vec{u}_3  , \\  \\vec{u}_2-k \\vec{u}_3, \\ \\vec{u}_3).\n",
    "$$\n",
    "\n",
    "In particuler we make the following particular choice for the cofficients\n",
    "\n",
    "$$\n",
    "  D(\\vec{u}_1, \\vec{u}_2, \\vec{u}_3)\n",
    "  = \n",
    "  D(\\vec{u}_1 - \\beta \\vec{u}_3 - \\gamma(\\vec{u}_2 - \\alpha\\vec{u}_3), \\  \\vec{u}_2 - \\alpha\\vec{u}_3, \\ \\vec{u}_3).\n",
    "$$\n",
    "\n",
    "Choosing the right coefficients $\\alpha$, $\\beta$, and $\\gamma$ can transform the matrix $A$ into a lower triangular form, which will make computing the determinant easier."
   ]
  },
  {
   "cell_type": "code",
   "execution_count": 7,
   "metadata": {
    "collapsed": false
   },
   "outputs": [
    {
     "data": {
      "image/png": "[encoded data removed]",
      "text/latex": [
       "$$\\left[\\begin{matrix}a & b & c\\\\d & e & f\\\\g & h & i\\end{matrix}\\right]$$"
      ],
      "text/plain": [
       "⎡a  b  c⎤\n",
       "⎢       ⎥\n",
       "⎢d  e  f⎥\n",
       "⎢       ⎥\n",
       "⎣g  h  i⎦"
      ]
     },
     "execution_count": 7,
     "metadata": {},
     "output_type": "execute_result"
    }
   ],
   "source": [
    "alpha, beta, gamma = symbols('alpha beta gamma')\n",
    "\n",
    "A"
   ]
  },
  {
   "cell_type": "code",
   "execution_count": 8,
   "metadata": {
    "collapsed": false
   },
   "outputs": [
    {
     "data": {
      "image/png": "[encoded data removed]",
      "text/latex": [
       "$$\\left[\\begin{matrix}a & b & c\\\\d - \\frac{f g}{i} & e - \\frac{f h}{i} & 0\\\\g & h & i\\end{matrix}\\right]$$"
      ],
      "text/plain": [
       "⎡   a        b     c⎤\n",
       "⎢                   ⎥\n",
       "⎢    f⋅g      f⋅h   ⎥\n",
       "⎢d - ───  e - ───  0⎥\n",
       "⎢     i        i    ⎥\n",
       "⎢                   ⎥\n",
       "⎣   g        h     i⎦"
      ]
     },
     "execution_count": 8,
     "metadata": {},
     "output_type": "execute_result"
    }
   ],
   "source": [
    "# first get rid of f by subtracting third row from second row\n",
    "alpha = f/i\n",
    "A[1,:]= A[1,:] - alpha*A[2,:]\n",
    "A"
   ]
  },
  {
   "cell_type": "code",
   "execution_count": 9,
   "metadata": {
    "collapsed": false
   },
   "outputs": [
    {
     "data": {
      "image/png": "[encoded data removed]",
      "text/latex": [
       "$$\\left[\\begin{matrix}a - \\frac{c g}{i} & b - \\frac{c h}{i} & 0\\\\d - \\frac{f g}{i} & e - \\frac{f h}{i} & 0\\\\g & h & i\\end{matrix}\\right]$$"
      ],
      "text/plain": [
       "⎡    c⋅g      c⋅h   ⎤\n",
       "⎢a - ───  b - ───  0⎥\n",
       "⎢     i        i    ⎥\n",
       "⎢                   ⎥\n",
       "⎢    f⋅g      f⋅h   ⎥\n",
       "⎢d - ───  e - ───  0⎥\n",
       "⎢     i        i    ⎥\n",
       "⎢                   ⎥\n",
       "⎣   g        h     i⎦"
      ]
     },
     "execution_count": 9,
     "metadata": {},
     "output_type": "execute_result"
    }
   ],
   "source": [
    "# second get rid of c by subtracting third row from first row\n",
    "beta = c/i\n",
    "A[0,:]= A[0,:] - beta*A[2,:]\n",
    "A"
   ]
  },
  {
   "cell_type": "code",
   "execution_count": 10,
   "metadata": {
    "collapsed": false
   },
   "outputs": [
    {
     "data": {
      "image/png": "[encoded data removed]",
      "text/latex": [
       "$$\\left[\\begin{matrix}a - \\frac{c g}{i} - \\frac{\\left(b - \\frac{c h}{i}\\right) \\left(d - \\frac{f g}{i}\\right)}{e - \\frac{f h}{i}} & 0 & 0\\\\d - \\frac{f g}{i} & e - \\frac{f h}{i} & 0\\\\g & h & i\\end{matrix}\\right]$$"
      ],
      "text/plain": [
       "⎡          ⎛    c⋅h⎞ ⎛    f⋅g⎞            ⎤\n",
       "⎢          ⎜b - ───⎟⋅⎜d - ───⎟            ⎥\n",
       "⎢    c⋅g   ⎝     i ⎠ ⎝     i ⎠            ⎥\n",
       "⎢a - ─── - ───────────────────     0     0⎥\n",
       "⎢     i              f⋅h                  ⎥\n",
       "⎢                e - ───                  ⎥\n",
       "⎢                     i                   ⎥\n",
       "⎢                                         ⎥\n",
       "⎢               f⋅g                 f⋅h   ⎥\n",
       "⎢           d - ───             e - ───  0⎥\n",
       "⎢                i                   i    ⎥\n",
       "⎢                                         ⎥\n",
       "⎣              g                   h     i⎦"
      ]
     },
     "execution_count": 10,
     "metadata": {},
     "output_type": "execute_result"
    }
   ],
   "source": [
    "# third get rid of b-ch/i by subtracting second row from first row\n",
    "gamma = A[0,1]/A[1,1]\n",
    "A[0,:]= A[0,:] - gamma*A[1,:]\n",
    "A"
   ]
  },
  {
   "cell_type": "markdown",
   "metadata": {},
   "source": [
    "Stargting from the first row, the volume of the determinant is proporitonal to the coeffieicnt `A[0,0]`. The are of the parallelepiped formd by the first two rows is `A[0,0]*A[1,1]` (we can ignore `A[1,0]`) and the overall volume is\n"
   ]
  },
  {
   "cell_type": "code",
   "execution_count": 11,
   "metadata": {
    "collapsed": false
   },
   "outputs": [
    {
     "data": {
      "image/png": "[encoded data removed]",
      "text/latex": [
       "$$i \\left(e - \\frac{f h}{i}\\right) \\left(a - \\frac{c g}{i} - \\frac{\\left(b - \\frac{c h}{i}\\right) \\left(d - \\frac{f g}{i}\\right)}{e - \\frac{f h}{i}}\\right)$$"
      ],
      "text/plain": [
       "            ⎛          ⎛    c⋅h⎞ ⎛    f⋅g⎞⎞\n",
       "            ⎜          ⎜b - ───⎟⋅⎜d - ───⎟⎟\n",
       "  ⎛    f⋅h⎞ ⎜    c⋅g   ⎝     i ⎠ ⎝     i ⎠⎟\n",
       "i⋅⎜e - ───⎟⋅⎜a - ─── - ───────────────────⎟\n",
       "  ⎝     i ⎠ ⎜     i              f⋅h      ⎟\n",
       "            ⎜                e - ───      ⎟\n",
       "            ⎝                     i       ⎠"
      ]
     },
     "execution_count": 11,
     "metadata": {},
     "output_type": "execute_result"
    }
   ],
   "source": [
    "A[0,0]*A[1,1]*A[2,2]"
   ]
  },
  {
   "cell_type": "code",
   "execution_count": 12,
   "metadata": {
    "collapsed": false
   },
   "outputs": [
    {
     "data": {
      "image/png": "[encoded data removed]",
      "text/latex": [
       "$$a e i - a f h - b d i + b f g + c d h - c e g$$"
      ],
      "text/plain": [
       "a⋅e⋅i - a⋅f⋅h - b⋅d⋅i + b⋅f⋅g + c⋅d⋅h - c⋅e⋅g"
      ]
     },
     "execution_count": 12,
     "metadata": {},
     "output_type": "execute_result"
    }
   ],
   "source": [
    "simplify( A[0,0]*A[1,1]*A[2,2] )"
   ]
  },
  {
   "cell_type": "code",
   "execution_count": 13,
   "metadata": {
    "collapsed": true
   },
   "outputs": [],
   "source": [
    "# I still don't know how to motivate the recusive formula except to say it turns out that way...\n",
    "\n",
    "# I tried to think about decomposing the problem into subparts,\n",
    "#  but i cannot motivate det(Ai + Aj + Ak) != det(Ai) + det(Aj) + det(Ak)\n",
    "#  where Ai is the same as A but with A[0,1] and A[0,2] set to zero.\n"
   ]
  }
 ],
 "metadata": {
  "kernelspec": {
   "display_name": "Python 3",
   "language": "python",
   "name": "python3"
  },
  "language_info": {
   "codemirror_mode": {
    "name": "ipython",
    "version": 3
   },
   "file_extension": ".py",
   "mimetype": "text/x-python",
   "name": "python",
   "nbconvert_exporter": "python",
   "pygments_lexer": "ipython3",
   "version": "3.5.1"
  },
  "widgets": {
   "state": {},
   "version": "1.0.0"
  }
 },
 "nbformat": 4,
 "nbformat_minor": 0
}
