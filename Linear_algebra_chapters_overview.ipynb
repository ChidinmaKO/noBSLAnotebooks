{
 "cells": [
  {
   "cell_type": "markdown",
   "metadata": {},
   "source": [
    "# Linear algebra overview"
   ]
  },
  {
   "cell_type": "markdown",
   "metadata": {},
   "source": [
    "Linear algebra is the study of **vectors** and **linear transformations**. This notebook introduces concepts form linear algebra in a birds-eye overview. The goal is not to get into the details, but to give the reader a taste of the different types of thinking: computational, geometrical, and theoretical, that are used in linear algebra."
   ]
  },
  {
   "cell_type": "markdown",
   "metadata": {},
   "source": [
    "## Chapters overview\n",
    "\n",
    "  - 1/ Math fundamentals\n",
    "  - 2/ Intro to linear algebra\n",
    "      - Vectors\n",
    "      - Matrices\n",
    "      - Matrix-vector product representation of linear transformations\n",
    "      - Linear property: $f(a\\mathbf{x} + b\\mathbf{y}) = af(\\mathbf{x}) + bf(\\mathbf{y})$\n",
    "  - 3/ Computational linear algebra\n",
    "    - Gauss-Jordan elimination procedure \n",
    "      - Augemnted matrix representaiton of systems of linear equations\n",
    "      - Reduced row echelon form\n",
    "    - Matrix equations\n",
    "    - Matrix operations    \n",
    "      - Matrix product\n",
    "      - Determinant\n",
    "      - Matrix inverse      \n",
    "  - 4/ Geometrical linear algebra\n",
    "    - Points, lines, and planes\n",
    "    - Projection operation\n",
    "    - Coordinates\n",
    "    - Vector spaces\n",
    "    - Vector space techniques\n",
    "  - 5/ Linear transformations\n",
    "    - Vector functions\n",
    "    - Input and output spaces\n",
    "    - Matrix representation of linear transformations\n",
    "    - Column space and row spaces of matrix representations\n",
    "    - Invertible matrix theorem\n",
    "  - 6/ Theoretical linear algebra\n",
    "    - Eigenvalues and eigenvectors\n",
    "    - Special types of matrices\n",
    "    - Abstract vectors paces\n",
    "    - Abstract inner product spaces\n",
    "    - Gram–Schmidt orthogonalization\n",
    "    - Matrix decompositions\n",
    "    - Linear algebra with complex numbers\n",
    "  - 7/ Applications\n",
    "  - 8/ Probability theory\n",
    "  - 9/ Quantum mechanics\n",
    "  - Notation appendix"
   ]
  },
  {
   "cell_type": "code",
   "execution_count": 1,
   "metadata": {},
   "outputs": [],
   "source": [
    "# setup SymPy\n",
    "from sympy import *\n",
    "x, y, z, t = symbols('x y z t')\n",
    "init_printing()\n",
    "\n",
    "# a vector is a special type of matrix (an n-vector is either a nx1 or a 1xn matrix)\n",
    "Vector = Matrix  # define alias Vector so I don't have to explain this during video\n",
    "Point = Vector   # define alias Point for Vector since they're the same thing\n",
    "\n",
    "# setup plotting\n",
    "%matplotlib inline\n",
    "import matplotlib.pyplot as mpl\n",
    "from util.plot_helpers import plot_vec, plot_vecs, plot_line, plot_plane, autoscale_arrows"
   ]
  },
  {
   "cell_type": "markdown",
   "metadata": {},
   "source": [
    "# 1/ Math fundamentals"
   ]
  },
  {
   "cell_type": "markdown",
   "metadata": {},
   "source": [
    "Linear algebra builds upon high school math concepts like:\n",
    "  - Numbers (integers, rationals, reals, complex numbers)\n",
    "  - Functions ($f(x)$ takes an input $x$ and produces an output $y$)\n",
    "  - Basic rules of algebra\n",
    "  - Geometry (lines, curves, areas, triangles)\n",
    "  - The cartesian plane"
   ]
  },
  {
   "cell_type": "code",
   "execution_count": null,
   "metadata": {},
   "outputs": [],
   "source": []
  },
  {
   "cell_type": "markdown",
   "metadata": {},
   "source": [
    "# 2/ Intro to linear algebra\n",
    "\n",
    "Linear algebra is the study of vectors and matrices."
   ]
  },
  {
   "cell_type": "markdown",
   "metadata": {},
   "source": [
    "## Vectors"
   ]
  },
  {
   "cell_type": "code",
   "execution_count": 2,
   "metadata": {},
   "outputs": [
    {
     "data": {
      "image/png": "[encoded data removed]",
      "text/latex": [
       "$$\\left[\\begin{matrix}2\\\\3\\end{matrix}\\right]$$"
      ],
      "text/plain": [
       "⎡2⎤\n",
       "⎢ ⎥\n",
       "⎣3⎦"
      ]
     },
     "execution_count": 2,
     "metadata": {},
     "output_type": "execute_result"
    }
   ],
   "source": [
    "# define two vectors\n",
    "u = Vector([2,3])\n",
    "v = Vector([3,0])\n",
    "u"
   ]
  },
  {
   "cell_type": "code",
   "execution_count": 3,
   "metadata": {},
   "outputs": [
    {
     "data": {
      "image/png": "[encoded data removed]",
      "text/latex": [
       "$$\\left[\\begin{matrix}3\\\\0\\end{matrix}\\right]$$"
      ],
      "text/plain": [
       "⎡3⎤\n",
       "⎢ ⎥\n",
       "⎣0⎦"
      ]
     },
     "execution_count": 3,
     "metadata": {},
     "output_type": "execute_result"
    }
   ],
   "source": [
    "v"
   ]
  },
  {
   "cell_type": "code",
   "execution_count": 4,
   "metadata": {},
   "outputs": [
    {
     "data": {
      "image/png": "[encoded data removed]",
      "text/plain": [
       "<Figure size 432x288 with 1 Axes>"
      ]
     },
     "metadata": {},
     "output_type": "display_data"
    }
   ],
   "source": [
    "plot_vecs(u, v)\n",
    "autoscale_arrows()"
   ]
  },
  {
   "cell_type": "markdown",
   "metadata": {},
   "source": [
    "## Vector operations"
   ]
  },
  {
   "cell_type": "markdown",
   "metadata": {},
   "source": [
    "  - Addition (denoted $\\vec{u}+\\vec{v}$)\n",
    "  - Subtraction, the inverse of addition (denoted $\\vec{u}-\\vec{v}$)\n",
    "  - Scaling (denoted $\\alpha \\vec{u}$)\n",
    "  - Dot product (denoted $\\vec{u} \\cdot \\vec{v}$)\n",
    "  - Cross product (denoted $\\vec{u} \\times \\vec{v}$)"
   ]
  },
  {
   "cell_type": "markdown",
   "metadata": {},
   "source": [
    "### Vector addition"
   ]
  },
  {
   "cell_type": "code",
   "execution_count": 5,
   "metadata": {},
   "outputs": [
    {
     "data": {
      "image/png": "[encoded data removed]",
      "text/latex": [
       "$$\\left[\\begin{matrix}5\\\\3\\end{matrix}\\right]$$"
      ],
      "text/plain": [
       "⎡5⎤\n",
       "⎢ ⎥\n",
       "⎣3⎦"
      ]
     },
     "execution_count": 5,
     "metadata": {},
     "output_type": "execute_result"
    }
   ],
   "source": [
    "# algebraic\n",
    "u+v"
   ]
  },
  {
   "cell_type": "code",
   "execution_count": 6,
   "metadata": {},
   "outputs": [
    {
     "data": {
      "image/png": "[encoded data removed]",
      "text/plain": [
       "<Figure size 432x288 with 1 Axes>"
      ]
     },
     "metadata": {},
     "output_type": "display_data"
    }
   ],
   "source": [
    "# graphical\n",
    "plot_vecs(u, v)\n",
    "plot_vec(v, at=u, color='b')\n",
    "plot_vec(u+v, color='r')\n",
    "autoscale_arrows()"
   ]
  },
  {
   "cell_type": "markdown",
   "metadata": {},
   "source": [
    "### Basis\n",
    "\n",
    "When we describe the vector as the coordinate pair $(4,6)$, we're implicitly using the *standard basis* $B_s = \\{ \\hat{\\imath}, \\hat{\\jmath} \\}$. The vector $\\hat{\\imath} \\equiv (1,0)$ is a unit-length vector in the $x$-direciton,\n",
    "and $\\hat{\\jmath} \\equiv (0,1)$ is a unit-length vector in the $y$-direction.\n",
    "\n",
    "To be more precise when referring to vectors, we can indicate the basis as a subscript of every cooridnate vector $\\vec{v}=(4,6)_{B_s}$, which tells $\\vec{v}= 4\\hat{\\imath}+6\\hat{\\jmath}=4(1,0) +6(0,1)$."
   ]
  },
  {
   "cell_type": "code",
   "execution_count": 7,
   "metadata": {},
   "outputs": [
    {
     "data": {
      "image/png": "[encoded data removed]",
      "text/latex": [
       "$$\\left[\\begin{matrix}4\\\\6\\end{matrix}\\right]$$"
      ],
      "text/plain": [
       "⎡4⎤\n",
       "⎢ ⎥\n",
       "⎣6⎦"
      ]
     },
     "execution_count": 7,
     "metadata": {},
     "output_type": "execute_result"
    }
   ],
   "source": [
    "# the standard basis\n",
    "ihat = Vector([1,0])\n",
    "jhat = Vector([0,1])\n",
    "\n",
    "v = 4*ihat + 6*jhat\n",
    "v"
   ]
  },
  {
   "cell_type": "code",
   "execution_count": 8,
   "metadata": {},
   "outputs": [
    {
     "data": {
      "image/png": "[encoded data removed]",
      "text/plain": [
       "<Figure size 432x288 with 1 Axes>"
      ]
     },
     "metadata": {},
     "output_type": "display_data"
    }
   ],
   "source": [
    "# geomtrically...\n",
    "plot_vecs(ihat, jhat, 4*ihat, 6*jhat, v)\n",
    "autoscale_arrows()"
   ]
  },
  {
   "cell_type": "markdown",
   "metadata": {},
   "source": [
    "The same vector $\\vec{v}$ will correspond to the a different pair of coefficients if a differebt basis is used.\n",
    "For example, if we use the basis $B^\\prime = \\{ (1,1), (1,-1) \\}$, the same vector $\\vec{v}$ must be expressed as $\\vec{v} = 5\\vec{b}_1 +(-1)\\vec{b}_2=(5,-1)_{B^\\prime}$."
   ]
  },
  {
   "cell_type": "code",
   "execution_count": 9,
   "metadata": {},
   "outputs": [
    {
     "data": {
      "image/png": "[encoded data removed]",
      "text/latex": [
       "$$\\left[\\begin{matrix}4\\\\6\\end{matrix}\\right]$$"
      ],
      "text/plain": [
       "⎡4⎤\n",
       "⎢ ⎥\n",
       "⎣6⎦"
      ]
     },
     "execution_count": 9,
     "metadata": {},
     "output_type": "execute_result"
    }
   ],
   "source": [
    "# another basis B' = { (1,1), (1,-1) }\n",
    "b1 = Vector([ 1, 1])\n",
    "b2 = Vector([ 1, -1])\n",
    "\n",
    "v = 5*b1 + (-1)*b2\n",
    "v\n",
    "\n",
    "# How did I know 5 and -1 are the coefficients w.r.t basis {b1,b2}?\n",
    "# Matrix([[1,1],[1,-1]]).inv()*Vector([4,6])"
   ]
  },
  {
   "cell_type": "code",
   "execution_count": 10,
   "metadata": {},
   "outputs": [
    {
     "data": {
      "image/png": "[encoded data removed]",
      "text/plain": [
       "<Figure size 432x288 with 1 Axes>"
      ]
     },
     "metadata": {},
     "output_type": "display_data"
    }
   ],
   "source": [
    "# geomtrically...\n",
    "plot_vecs(b1, b2, 5*b1, -1*b2, v)\n",
    "autoscale_arrows()"
   ]
  },
  {
   "cell_type": "markdown",
   "metadata": {},
   "source": [
    "  \n",
    "  "
   ]
  },
  {
   "cell_type": "markdown",
   "metadata": {},
   "source": [
    "  "
   ]
  },
  {
   "cell_type": "markdown",
   "metadata": {},
   "source": [
    "## Matrix operations"
   ]
  },
  {
   "cell_type": "markdown",
   "metadata": {
    "collapsed": true
   },
   "source": [
    "  - Addition (denoted $A+B$)\n",
    "  - Subtraction, the inverse of addition (denoted $A-B$)\n",
    "  - Scaling by a constant $\\alpha$  (denoted $\\alpha A$)\n",
    "  - Matrix-vector product (denoted $A\\vec{x}$, related to linear transformations)\n",
    "  - Matrix product (denoted $AB$) \n",
    "  - Matrix inverse (denoted $A^{-1}$)\n",
    "  - Trace (denoted $\\textrm{Tr}(A)$)\n",
    "  - Determinant (denoted $\\textrm{det}(A)$ or $|A|$)"
   ]
  },
  {
   "cell_type": "markdown",
   "metadata": {
    "collapsed": true
   },
   "source": [
    "In linear algebra we'll extend the notion of funttion $f:\\mathbb{R}\\to \\mathbb{R}$, to functions that act on vectors called *linear transformations*.  We can understand the properties of linear transformations $T$ in analogy with ordinary functions:\n",
    "\n",
    "\\begin{align*}\n",
    "    \\textrm{function } \n",
    "     f:\\mathbb{R}\\to \\mathbb{R}\n",
    "         & \\ \\Leftrightarrow \\,\n",
    "         \\begin{array}{l}\n",
    "    \\textrm{linear transformation } \n",
    "    T:\\mathbb{R}^{n}\\! \\to \\mathbb{R}^{m}\n",
    "    \\end{array} \\\\\n",
    "    \\textrm{input }  x\\in \\mathbb{R} \t\n",
    "         & \\ \\Leftrightarrow \\  \n",
    "        \\textrm{input }  \\vec{x} \\in \\mathbb{R}^n           \\\\\n",
    "    \\textrm{output } f(x) \\in \\mathbb{R}\n",
    "         & \\ \\Leftrightarrow \\\n",
    "     \\textrm{output }      T(\\vec{x})\\in \\mathbb{R}^m \\\\\n",
    "    g\\circ\\! f \\: (x) =  g(f(x))\n",
    "         & \\ \\Leftrightarrow \\\n",
    "    %      \\textrm{matrix product } \n",
    "    S(T(\\vec{x})) \\\\\n",
    "    \\textrm{function inverse } f^{-1}\n",
    "         & \\ \\Leftrightarrow \\ \n",
    "          \\textrm{inverse transformation } T^{-1} \\\\\n",
    "    \\textrm{zeros of } f\n",
    "         & \\ \\Leftrightarrow \\\n",
    "          \\textrm{kernel of } T \\\\\n",
    "    \\textrm{image of } f\n",
    "         & \\ \\Leftrightarrow \\ \n",
    "             \\begin{array}{l}\n",
    "             \\textrm{image of } T\n",
    "              \\end{array}\n",
    "\\end{align*}"
   ]
  },
  {
   "cell_type": "markdown",
   "metadata": {},
   "source": [
    "## Linear property\n",
    "\n",
    "$$\n",
    "  T(a\\mathbf{x}_1 + b\\mathbf{x}_2) = aT(\\mathbf{x}_1) + bT(\\mathbf{x}_2)\n",
    "$$"
   ]
  },
  {
   "cell_type": "markdown",
   "metadata": {},
   "source": [
    "## Matrix-vector product representation of linear transformations"
   ]
  },
  {
   "cell_type": "markdown",
   "metadata": {
    "collapsed": true
   },
   "source": [
    "Equivalence between linear transformstions $T$ and matrices $M_T$:\n",
    "    \n",
    "$$\n",
    "  T : \\mathbb{R}^n \\to \\mathbb{R}^m\n",
    "  \\qquad\n",
    "  \\Leftrightarrow\n",
    "  \\qquad\n",
    "  M_T \\in \\mathbb{R}^{m \\times n}\n",
    "$$\n",
    "\n",
    "$$\n",
    "  \\vec{y} = T(\\vec{x})\n",
    "  \\qquad\n",
    "  \\Leftrightarrow\n",
    "  \\qquad\n",
    "  \\vec{y} = M_T\\vec{x}\n",
    "$$"
   ]
  },
  {
   "cell_type": "markdown",
   "metadata": {},
   "source": [
    " "
   ]
  },
  {
   "cell_type": "markdown",
   "metadata": {
    "collapsed": true
   },
   "source": [
    " "
   ]
  },
  {
   "cell_type": "markdown",
   "metadata": {},
   "source": [
    "# 3/ Computational linear algebra"
   ]
  },
  {
   "cell_type": "markdown",
   "metadata": {},
   "source": [
    "## Gauss-Jordan elimination procedure \n",
    "\n",
    "Suppose you're asked to solve for $x_1$ and $x_2$ in the following system of equations\n",
    "\n",
    "\\begin{align*}\n",
    "1x_1 + 2x_2 &= 5 \\\\\n",
    "3x_1 + 9x_2 &= 21.\n",
    "\\end{align*}\n"
   ]
  },
  {
   "cell_type": "code",
   "execution_count": 11,
   "metadata": {},
   "outputs": [
    {
     "data": {
      "image/png": "[encoded data removed]",
      "text/latex": [
       "$$\\left[\\begin{matrix}1 & 2 & 5\\\\3 & 9 & 21\\end{matrix}\\right]$$"
      ],
      "text/plain": [
       "⎡1  2  5 ⎤\n",
       "⎢        ⎥\n",
       "⎣3  9  21⎦"
      ]
     },
     "execution_count": 11,
     "metadata": {},
     "output_type": "execute_result"
    }
   ],
   "source": [
    "# represent as an augmented matrix\n",
    "AUG = Matrix([\n",
    "  [1, 2,   5],\n",
    "  [3, 9,  21]])\n",
    "AUG"
   ]
  },
  {
   "cell_type": "code",
   "execution_count": 12,
   "metadata": {},
   "outputs": [
    {
     "data": {
      "image/png": "[encoded data removed]",
      "text/latex": [
       "$$\\left[\\begin{matrix}1 & 2 & 5\\\\0 & 3 & 6\\end{matrix}\\right]$$"
      ],
      "text/plain": [
       "⎡1  2  5⎤\n",
       "⎢       ⎥\n",
       "⎣0  3  6⎦"
      ]
     },
     "execution_count": 12,
     "metadata": {},
     "output_type": "execute_result"
    }
   ],
   "source": [
    "# eliminate x_1 in second equation by subtracting 3x times the first equation\n",
    "AUG[1,:] = AUG[1,:] - 3*AUG[0,:]\n",
    "AUG"
   ]
  },
  {
   "cell_type": "code",
   "execution_count": 13,
   "metadata": {},
   "outputs": [
    {
     "data": {
      "image/png": "[encoded data removed]",
      "text/latex": [
       "$$\\left[\\begin{matrix}1 & 2 & 5\\\\0 & 1 & 2\\end{matrix}\\right]$$"
      ],
      "text/plain": [
       "⎡1  2  5⎤\n",
       "⎢       ⎥\n",
       "⎣0  1  2⎦"
      ]
     },
     "execution_count": 13,
     "metadata": {},
     "output_type": "execute_result"
    }
   ],
   "source": [
    "# simplify second equation by dividing by 3\n",
    "AUG[1,:] = AUG[1,:]/3\n",
    "AUG"
   ]
  },
  {
   "cell_type": "code",
   "execution_count": 14,
   "metadata": {},
   "outputs": [
    {
     "data": {
      "image/png": "[encoded data removed]",
      "text/latex": [
       "$$\\left[\\begin{matrix}1 & 0 & 1\\\\0 & 1 & 2\\end{matrix}\\right]$$"
      ],
      "text/plain": [
       "⎡1  0  1⎤\n",
       "⎢       ⎥\n",
       "⎣0  1  2⎦"
      ]
     },
     "execution_count": 14,
     "metadata": {},
     "output_type": "execute_result"
    }
   ],
   "source": [
    "# eliminate x_2 from first equation by subtracting 2x times the second equation\n",
    "AUG[0,:] = AUG[0,:] - 2*AUG[1,:]\n",
    "AUG"
   ]
  },
  {
   "cell_type": "markdown",
   "metadata": {},
   "source": [
    "This augmented matrix is in *reduced row echelon form* (RREF), and corresponds to the system of equations:\n",
    "\n",
    "\\begin{align*}\n",
    "1x_1  \\ \\  \\qquad &= 1 \\\\\n",
    "       1x_2 &= 2,\n",
    "\\end{align*}\n",
    "\n",
    "so the the solution is $x_1=1$ and $x_2=2$."
   ]
  },
  {
   "cell_type": "markdown",
   "metadata": {},
   "source": [
    "## Matrix equations"
   ]
  },
  {
   "cell_type": "markdown",
   "metadata": {
    "collapsed": true
   },
   "source": [
    "page 150"
   ]
  },
  {
   "cell_type": "markdown",
   "metadata": {},
   "source": [
    " "
   ]
  },
  {
   "cell_type": "markdown",
   "metadata": {},
   "source": [
    "## Matrix product"
   ]
  },
  {
   "cell_type": "code",
   "execution_count": 15,
   "metadata": {},
   "outputs": [
    {
     "data": {
      "image/png": "[encoded data removed]",
      "text/latex": [
       "$$\\left ( \\left[\\begin{matrix}a & b\\\\c & d\\\\e & f\\end{matrix}\\right], \\quad \\left[\\begin{matrix}g & h\\\\i & j\\end{matrix}\\right]\\right )$$"
      ],
      "text/plain": [
       "⎛⎡a  b⎤        ⎞\n",
       "⎜⎢    ⎥  ⎡g  h⎤⎟\n",
       "⎜⎢c  d⎥, ⎢    ⎥⎟\n",
       "⎜⎢    ⎥  ⎣i  j⎦⎟\n",
       "⎝⎣e  f⎦        ⎠"
      ]
     },
     "execution_count": 15,
     "metadata": {},
     "output_type": "execute_result"
    }
   ],
   "source": [
    "a,b,c,d,e,f, g,h,i,j = symbols('a b c d e f  g h i j')\n",
    "A = Matrix([[a,b],\n",
    "            [c,d],\n",
    "            [e,f]])\n",
    "B = Matrix([[g,h],\n",
    "            [i,j]])\n",
    "\n",
    "A, B"
   ]
  },
  {
   "cell_type": "code",
   "execution_count": 16,
   "metadata": {},
   "outputs": [
    {
     "data": {
      "image/png": "[encoded data removed]",
      "text/latex": [
       "$$\\left[\\begin{matrix}a g + b i & a h + b j\\\\c g + d i & c h + d j\\\\e g + f i & e h + f j\\end{matrix}\\right]$$"
      ],
      "text/plain": [
       "⎡a⋅g + b⋅i  a⋅h + b⋅j⎤\n",
       "⎢                    ⎥\n",
       "⎢c⋅g + d⋅i  c⋅h + d⋅j⎥\n",
       "⎢                    ⎥\n",
       "⎣e⋅g + f⋅i  e⋅h + f⋅j⎦"
      ]
     },
     "execution_count": 16,
     "metadata": {},
     "output_type": "execute_result"
    }
   ],
   "source": [
    "A*B"
   ]
  },
  {
   "cell_type": "code",
   "execution_count": 17,
   "metadata": {},
   "outputs": [
    {
     "data": {
      "image/png": "[encoded data removed]",
      "text/latex": [
       "$$\\left[\\begin{matrix}a g + b i & a h + b j\\\\c g + d i & c h + d j\\\\e g + f i & e h + f j\\end{matrix}\\right]$$"
      ],
      "text/plain": [
       "⎡a⋅g + b⋅i  a⋅h + b⋅j⎤\n",
       "⎢                    ⎥\n",
       "⎢c⋅g + d⋅i  c⋅h + d⋅j⎥\n",
       "⎢                    ⎥\n",
       "⎣e⋅g + f⋅i  e⋅h + f⋅j⎦"
      ]
     },
     "execution_count": 17,
     "metadata": {},
     "output_type": "execute_result"
    }
   ],
   "source": [
    "def mat_prod(A, B):\n",
    "    \"\"\"Compute the matrix product of matrices A and B.\"\"\"\n",
    "    assert A.cols == B.rows, \"Error: matrix dimensions not compatible.\"\n",
    "    m, ell = A.shape  # A is a  m x ell  matrix\n",
    "    ell, n = B.shape  # B is a  ell x n  matrix\n",
    "    C = zeros(m,n)\n",
    "    for i in range(0,m):\n",
    "        for j in range(0,n):\n",
    "            C[i,j] = A[i,:].dot(B[:,j])\n",
    "    return C\n",
    "\n",
    "mat_prod(A,B)"
   ]
  },
  {
   "cell_type": "code",
   "execution_count": 18,
   "metadata": {},
   "outputs": [],
   "source": [
    "# mat_prod(B,A)"
   ]
  },
  {
   "cell_type": "markdown",
   "metadata": {},
   "source": [
    "## Determinant"
   ]
  },
  {
   "cell_type": "code",
   "execution_count": 19,
   "metadata": {},
   "outputs": [
    {
     "data": {
      "image/png": "[encoded data removed]",
      "text/latex": [
       "$$a d - b c$$"
      ],
      "text/plain": [
       "a⋅d - b⋅c"
      ]
     },
     "execution_count": 19,
     "metadata": {},
     "output_type": "execute_result"
    }
   ],
   "source": [
    "a,b,c,d  = symbols('a b c d')\n",
    "A = Matrix([[a,b],\n",
    "            [c,d]])\n",
    "\n",
    "A.det()"
   ]
  },
  {
   "cell_type": "code",
   "execution_count": 20,
   "metadata": {},
   "outputs": [
    {
     "data": {
      "image/png": "[encoded data removed]",
      "text/plain": [
       "<Figure size 432x288 with 1 Axes>"
      ]
     },
     "metadata": {},
     "output_type": "display_data"
    }
   ],
   "source": [
    "# Consider the parallelogram with sides:\n",
    "u1 = Vector([3,0])\n",
    "u2 = Vector([2,2])\n",
    "\n",
    "plot_vecs(u1,u2)\n",
    "plot_vec(u1, at=u2, color='k')\n",
    "plot_vec(u2, at=u1, color='b')\n",
    "autoscale_arrows()\n",
    "\n",
    "# What is the area of this parallelogram?"
   ]
  },
  {
   "cell_type": "code",
   "execution_count": 21,
   "metadata": {},
   "outputs": [],
   "source": [
    "# base = 3, height = 2, so area is 6"
   ]
  },
  {
   "cell_type": "code",
   "execution_count": 22,
   "metadata": {},
   "outputs": [
    {
     "data": {
      "image/png": "[encoded data removed]",
      "text/latex": [
       "$$6$$"
      ],
      "text/plain": [
       "6"
      ]
     },
     "execution_count": 22,
     "metadata": {},
     "output_type": "execute_result"
    }
   ],
   "source": [
    "# Compute the area of the parallelogram with sides u1 and u2 using the deteminant\n",
    "A = Matrix([[3,0],\n",
    "            [2,2]])\n",
    "A.det()"
   ]
  },
  {
   "cell_type": "markdown",
   "metadata": {},
   "source": [
    " "
   ]
  },
  {
   "cell_type": "markdown",
   "metadata": {},
   "source": [
    "## Matrix inverse\n",
    "\n",
    "For an invertible matrix $A$, the matrix inverse $A^{-1}$ acts to undo the effects of $A$:\n",
    "\n",
    "$$\n",
    " A^{-1} A \\vec{v} = \\vec{v}.\n",
    "$$\n",
    "\n",
    "The effect applying $A$ followed by $A^{-1}$ (or the other way around) is the identity transformation:\n",
    "\n",
    "$$\n",
    " A^{-1}A \\ = \\ \\mathbb{1} \\ = \\ AA^{-1}.\n",
    "$$"
   ]
  },
  {
   "cell_type": "code",
   "execution_count": 23,
   "metadata": {},
   "outputs": [
    {
     "data": {
      "image/png": "[encoded data removed]",
      "text/latex": [
       "$$\\left[\\begin{matrix}1 & 2\\\\3 & 9\\end{matrix}\\right]$$"
      ],
      "text/plain": [
       "⎡1  2⎤\n",
       "⎢    ⎥\n",
       "⎣3  9⎦"
      ]
     },
     "execution_count": 23,
     "metadata": {},
     "output_type": "execute_result"
    }
   ],
   "source": [
    "A = Matrix([[1, 2],\n",
    "            [3, 9]])\n",
    "A"
   ]
  },
  {
   "cell_type": "code",
   "execution_count": 24,
   "metadata": {},
   "outputs": [
    {
     "data": {
      "image/png": "[encoded data removed]",
      "text/latex": [
       "$$3$$"
      ],
      "text/plain": [
       "3"
      ]
     },
     "execution_count": 24,
     "metadata": {},
     "output_type": "execute_result"
    }
   ],
   "source": [
    "# Compute deteminant to check if inverse matrix exists\n",
    "A.det()\n",
    "# if non-zero, then inverse exists"
   ]
  },
  {
   "cell_type": "code",
   "execution_count": 25,
   "metadata": {},
   "outputs": [
    {
     "data": {
      "image/png": "[encoded data removed]",
      "text/latex": [
       "$$\\left[\\begin{matrix}3 & - \\frac{2}{3}\\\\-1 & \\frac{1}{3}\\end{matrix}\\right]$$"
      ],
      "text/plain": [
       "⎡3   -2/3⎤\n",
       "⎢        ⎥\n",
       "⎣-1  1/3 ⎦"
      ]
     },
     "execution_count": 25,
     "metadata": {},
     "output_type": "execute_result"
    }
   ],
   "source": [
    "A.inv()"
   ]
  },
  {
   "cell_type": "code",
   "execution_count": 26,
   "metadata": {},
   "outputs": [
    {
     "data": {
      "image/png": "[encoded data removed]",
      "text/latex": [
       "$$\\left[\\begin{matrix}1 & 0\\\\0 & 1\\end{matrix}\\right]$$"
      ],
      "text/plain": [
       "⎡1  0⎤\n",
       "⎢    ⎥\n",
       "⎣0  1⎦"
      ]
     },
     "execution_count": 26,
     "metadata": {},
     "output_type": "execute_result"
    }
   ],
   "source": [
    "A.inv()*A"
   ]
  },
  {
   "cell_type": "markdown",
   "metadata": {},
   "source": [
    "### Adjugate-matrix formula\n",
    "\n",
    "The *adjugate matrix* of the matrix $A$ is obtained by replacing each entry of the matrix with a partial determinant calculation (called *minors*). The minor $M_{ij}$ is the determinant of $A$ with its $i$th row and $j$th columns removed."
   ]
  },
  {
   "cell_type": "code",
   "execution_count": 27,
   "metadata": {},
   "outputs": [
    {
     "data": {
      "image/png": "[encoded data removed]",
      "text/latex": [
       "$$\\left[\\begin{matrix}3 & - \\frac{2}{3}\\\\-1 & \\frac{1}{3}\\end{matrix}\\right]$$"
      ],
      "text/plain": [
       "⎡3   -2/3⎤\n",
       "⎢        ⎥\n",
       "⎣-1  1/3 ⎦"
      ]
     },
     "execution_count": 27,
     "metadata": {},
     "output_type": "execute_result"
    }
   ],
   "source": [
    "A.adjugate() / A.det()"
   ]
  },
  {
   "cell_type": "markdown",
   "metadata": {},
   "source": [
    "### Augmented matrix approach\n",
    "\n",
    "$$\n",
    " \\left[ \\, A \\, | \\,  \\mathbb{1} \\, \\right]\n",
    " \\qquad\n",
    " -\\textrm{Gauss-Jordan elimination}\\rightarrow\n",
    " \\qquad\n",
    " \\left[ \\, \\mathbb{1} \\, | \\,  A^{-1} \\, \\right]\n",
    "$$"
   ]
  },
  {
   "cell_type": "code",
   "execution_count": 28,
   "metadata": {},
   "outputs": [
    {
     "data": {
      "image/png": "[encoded data removed]",
      "text/latex": [
       "$$\\left[\\begin{matrix}1 & 2 & 1 & 0\\\\3 & 9 & 0 & 1\\end{matrix}\\right]$$"
      ],
      "text/plain": [
       "⎡1  2  1  0⎤\n",
       "⎢          ⎥\n",
       "⎣3  9  0  1⎦"
      ]
     },
     "execution_count": 28,
     "metadata": {},
     "output_type": "execute_result"
    }
   ],
   "source": [
    "AUG = A.row_join(eye(2))\n",
    "AUG"
   ]
  },
  {
   "cell_type": "code",
   "execution_count": 29,
   "metadata": {},
   "outputs": [
    {
     "data": {
      "image/png": "[encoded data removed]",
      "text/latex": [
       "$$\\left[\\begin{matrix}1 & 0 & 3 & - \\frac{2}{3}\\\\0 & 1 & -1 & \\frac{1}{3}\\end{matrix}\\right]$$"
      ],
      "text/plain": [
       "⎡1  0  3   -2/3⎤\n",
       "⎢              ⎥\n",
       "⎣0  1  -1  1/3 ⎦"
      ]
     },
     "execution_count": 29,
     "metadata": {},
     "output_type": "execute_result"
    }
   ],
   "source": [
    "# performd row operations\n",
    "AUG[1,:] = AUG[1,:] - 3*AUG[0,:]\n",
    "AUG[1,:] = AUG[1,:]/3\n",
    "AUG[0,:] = AUG[0,:] - 2*AUG[1,:]\n",
    "AUG"
   ]
  },
  {
   "cell_type": "code",
   "execution_count": 30,
   "metadata": {},
   "outputs": [
    {
     "data": {
      "image/png": "[encoded data removed]",
      "text/latex": [
       "$$\\left[\\begin{matrix}3 & - \\frac{2}{3}\\\\-1 & \\frac{1}{3}\\end{matrix}\\right]$$"
      ],
      "text/plain": [
       "⎡3   -2/3⎤\n",
       "⎢        ⎥\n",
       "⎣-1  1/3 ⎦"
      ]
     },
     "execution_count": 30,
     "metadata": {},
     "output_type": "execute_result"
    }
   ],
   "source": [
    "AUG[:,2:5]"
   ]
  },
  {
   "cell_type": "markdown",
   "metadata": {},
   "source": [
    "### Using elementary matrices\n",
    "\n",
    "Each row operation $\\mathcal{R}_i$ can be represented as an elementary matrix $E_i$. The elementary matrix of a given row operation is obtained by performing the row operation on the identity matrix."
   ]
  },
  {
   "cell_type": "code",
   "execution_count": 31,
   "metadata": {},
   "outputs": [
    {
     "data": {
      "image/png": "[encoded data removed]",
      "text/latex": [
       "$$\\left ( \\left[\\begin{matrix}1 & 0\\\\-3 & 1\\end{matrix}\\right], \\quad \\left[\\begin{matrix}1 & 0\\\\0 & \\frac{1}{3}\\end{matrix}\\right], \\quad \\left[\\begin{matrix}1 & -2\\\\0 & 1\\end{matrix}\\right]\\right )$$"
      ],
      "text/plain": [
       "⎛⎡1   0⎤  ⎡1   0 ⎤  ⎡1  -2⎤⎞\n",
       "⎜⎢     ⎥, ⎢      ⎥, ⎢     ⎥⎟\n",
       "⎝⎣-3  1⎦  ⎣0  1/3⎦  ⎣0  1 ⎦⎠"
      ]
     },
     "execution_count": 31,
     "metadata": {},
     "output_type": "execute_result"
    }
   ],
   "source": [
    "E1 = eye(2)\n",
    "E1[1,:] = E1[1,:] - 3*E1[0,:]\n",
    "\n",
    "E2 = eye(2)\n",
    "E2[1,:] = E2[1,:]/3\n",
    "\n",
    "E3 = eye(2)\n",
    "E3[0,:] = E3[0,:] - 2*E3[1,:]\n",
    "\n",
    "E1,E2,E3"
   ]
  },
  {
   "cell_type": "code",
   "execution_count": 32,
   "metadata": {},
   "outputs": [
    {
     "data": {
      "image/png": "[encoded data removed]",
      "text/latex": [
       "$$\\left[\\begin{matrix}1 & 0\\\\0 & 1\\end{matrix}\\right]$$"
      ],
      "text/plain": [
       "⎡1  0⎤\n",
       "⎢    ⎥\n",
       "⎣0  1⎦"
      ]
     },
     "execution_count": 32,
     "metadata": {},
     "output_type": "execute_result"
    }
   ],
   "source": [
    "# the sequence of three row operations transforms the matrix A into RREF\n",
    "E3*E2*E1*A"
   ]
  },
  {
   "cell_type": "markdown",
   "metadata": {},
   "source": [
    "Recall definition $A^{-1}A=\\mathbb{1}$, and we just observed that $E_3E_2E_1 A =\\mathbb{1}$, so it must be that $A^{-1}=E_3E_2E_1$."
   ]
  },
  {
   "cell_type": "code",
   "execution_count": 33,
   "metadata": {},
   "outputs": [
    {
     "data": {
      "image/png": "[encoded data removed]",
      "text/latex": [
       "$$\\left[\\begin{matrix}3 & - \\frac{2}{3}\\\\-1 & \\frac{1}{3}\\end{matrix}\\right]$$"
      ],
      "text/plain": [
       "⎡3   -2/3⎤\n",
       "⎢        ⎥\n",
       "⎣-1  1/3 ⎦"
      ]
     },
     "execution_count": 33,
     "metadata": {},
     "output_type": "execute_result"
    }
   ],
   "source": [
    "E3*E2*E1"
   ]
  },
  {
   "cell_type": "markdown",
   "metadata": {},
   "source": [
    " "
   ]
  },
  {
   "cell_type": "markdown",
   "metadata": {},
   "source": [
    "# 4/ Geometrical linear algebra\n",
    "\n",
    "Points, lines, and planes are geometrical objects that are conveniently expressed using the language of vectors."
   ]
  },
  {
   "cell_type": "markdown",
   "metadata": {},
   "source": [
    "## Points\n",
    "\n",
    "A point $p=(p_x,p_y,p_z)$ refers to a single location in $\\mathbb{R}^3$."
   ]
  },
  {
   "cell_type": "code",
   "execution_count": 34,
   "metadata": {},
   "outputs": [
    {
     "data": {
      "image/png": "[encoded data removed]",
      "text/latex": [
       "$$\\left[\\begin{matrix}2\\\\4\\\\5\\end{matrix}\\right]$$"
      ],
      "text/plain": [
       "⎡2⎤\n",
       "⎢ ⎥\n",
       "⎢4⎥\n",
       "⎢ ⎥\n",
       "⎣5⎦"
      ]
     },
     "execution_count": 34,
     "metadata": {},
     "output_type": "execute_result"
    }
   ],
   "source": [
    "p = Point([2,4,5])\n",
    "p"
   ]
  },
  {
   "cell_type": "markdown",
   "metadata": {},
   "source": [
    "## Lines\n",
    "\n",
    "A line is a one dimensional infinite subset of $\\mathbb{R}^3$ that can be described as\n",
    "\n",
    "$$\n",
    "   \\ell:  \\{ p_o + \\alpha \\vec{v} \\ | \\ \\forall \\alpha \\in \\mathbb{R} \\}.\n",
    "$$"
   ]
  },
  {
   "cell_type": "code",
   "execution_count": 35,
   "metadata": {
    "scrolled": true
   },
   "outputs": [
    {
     "data": {
      "image/png": "[encoded data removed]",
      "text/plain": [
       "<Figure size 432x288 with 1 Axes>"
      ]
     },
     "metadata": {},
     "output_type": "display_data"
    }
   ],
   "source": [
    "po = Point([1,1,1])\n",
    "v = Vector([1,1,0])\n",
    "\n",
    "plot_line(v, po)"
   ]
  },
  {
   "cell_type": "markdown",
   "metadata": {},
   "source": [
    "## Planes\n",
    "\n",
    "A plane is a two-dimensional infinite subset of $\\mathbb{R}^3$ that can be described in one of three ways:\n",
    "\n",
    "The *general equation*:\n",
    "\n",
    "$$\n",
    "  P: \\left\\{ \\,  Ax+By+Cz=D \\, \\right\\} \n",
    "$$\n",
    "\n",
    "The *parametric equation*:\n",
    "\n",
    "$$\n",
    "  P: \\{  p_{\\textrm{o}}+s\\,\\vec{v} + t\\,\\vec{w}, \\ \\forall s,t \\in \\mathbb{R} \\},\n",
    "$$\n",
    "\n",
    "which defines a plane that that contains the point $p_{\\textrm{o}}$ and the vectors $\\vec{v}$ and $\\vec{w}$.\n",
    "\n",
    "Or the *geometric equation*:\n",
    "\n",
    "$$\n",
    "  P: \\left\\{ \\vec{n} \\cdot [ (x,y,z) - p_{\\textrm{o}} ] = 0 \\,\\right\\},\n",
    "$$\n",
    "\n",
    "which defines a plane that contains point $p_{\\textrm{o}}$ and has normal vector $\\hat{n}$.\n",
    " "
   ]
  },
  {
   "cell_type": "code",
   "execution_count": 36,
   "metadata": {},
   "outputs": [
    {
     "data": {
      "image/png": "[encoded data removed]",
      "text/plain": [
       "<Figure size 432x288 with 1 Axes>"
      ]
     },
     "metadata": {},
     "output_type": "display_data"
    }
   ],
   "source": [
    "# plot plane     2x + y + z = 5\n",
    "normal = Vector([2,   1,  1])\n",
    "D = 5\n",
    "\n",
    "plot_plane(normal, D)"
   ]
  },
  {
   "cell_type": "markdown",
   "metadata": {
    "collapsed": true
   },
   "source": [
    " "
   ]
  },
  {
   "cell_type": "markdown",
   "metadata": {},
   "source": [
    "## Projection operation"
   ]
  },
  {
   "cell_type": "markdown",
   "metadata": {
    "collapsed": true
   },
   "source": [
    "A projection of the vector $\\vec{v}$ in the direction $\\vec{d}$ is denoted $\\Pi_{\\vec{d}}(\\vec{v})$. The formula for computing the projections uses the dot product operation:\n",
    "\n",
    "$$\n",
    "   \\Pi_{\\vec{d}}(\\vec{v})  \n",
    "      \\ \\equiv \\ \n",
    "      (\\vec{v} \\cdot \\hat{d}) \\hat{d}\n",
    "      \\ =  \\ \n",
    "      \\left(\\vec{v} \\cdot \\frac{\\vec{d}}{\\|\\vec{d}\\|} \\right) \\frac{\\vec{d}}{\\|\\vec{d}\\|}.\n",
    "$$"
   ]
  },
  {
   "cell_type": "code",
   "execution_count": 37,
   "metadata": {},
   "outputs": [],
   "source": [
    "def proj(v, d):\n",
    "    \"\"\"Computes the projection of vector `v` onto direction `d`.\"\"\"\n",
    "    return v.dot( d/d.norm() )*( d/d.norm() )"
   ]
  },
  {
   "cell_type": "code",
   "execution_count": 38,
   "metadata": {},
   "outputs": [
    {
     "data": {
      "image/png": "[encoded data removed]",
      "text/plain": [
       "<Figure size 432x288 with 1 Axes>"
      ]
     },
     "metadata": {},
     "output_type": "display_data"
    }
   ],
   "source": [
    "v = Vector([2,2])\n",
    "d = Vector([3,0])\n",
    "proj_v_on_d = proj(v,d)\n",
    "\n",
    "plot_vecs(d, v, proj_v_on_d)\n",
    "autoscale_arrows()"
   ]
  },
  {
   "cell_type": "markdown",
   "metadata": {},
   "source": [
    "The basic projection operation can be used to compute projection onto planes, and compute distances between geomteirc objects (page 192)."
   ]
  },
  {
   "cell_type": "markdown",
   "metadata": {},
   "source": [
    "## Bases and coordinate projections"
   ]
  },
  {
   "cell_type": "markdown",
   "metadata": {
    "collapsed": true
   },
   "source": [
    "page 194\n",
    "\n",
    "  - Different types of bases\n",
    "    - Orthonormal\n",
    "    - Orthogonal\n",
    "    - Generic\n",
    "  - Change of basis operation"
   ]
  },
  {
   "cell_type": "markdown",
   "metadata": {},
   "source": [
    "## Vector spaces"
   ]
  },
  {
   "cell_type": "markdown",
   "metadata": {
    "collapsed": true
   },
   "source": [
    "page 199"
   ]
  },
  {
   "cell_type": "markdown",
   "metadata": {},
   "source": [
    "## Vector space techniques"
   ]
  },
  {
   "cell_type": "markdown",
   "metadata": {
    "collapsed": true
   },
   "source": [
    "page 211"
   ]
  },
  {
   "cell_type": "markdown",
   "metadata": {
    "collapsed": true
   },
   "source": [
    " "
   ]
  },
  {
   "cell_type": "markdown",
   "metadata": {},
   "source": [
    "# 5/ Linear transformations"
   ]
  },
  {
   "cell_type": "markdown",
   "metadata": {
    "collapsed": true
   },
   "source": [
    "page 223"
   ]
  },
  {
   "cell_type": "markdown",
   "metadata": {},
   "source": [
    "## Vector functions"
   ]
  },
  {
   "cell_type": "markdown",
   "metadata": {},
   "source": [
    "Functions that take vectors as inputs and produce vectors as outputs:\n",
    "\n",
    "$$\n",
    "  T:\\mathbb{R}^{n}\\! \\to \\mathbb{R}^{m}\n",
    "$$"
   ]
  },
  {
   "cell_type": "markdown",
   "metadata": {},
   "source": [
    "## Matrix representation of linear transformations"
   ]
  },
  {
   "cell_type": "markdown",
   "metadata": {},
   "source": [
    " \n",
    "$$\n",
    "  T : \\mathbb{R}^n \\to \\mathbb{R}^m\n",
    "  \\qquad\n",
    "  \\Leftrightarrow\n",
    "  \\qquad\n",
    "  M_T \\in \\mathbb{R}^{m \\times n}\n",
    "$$"
   ]
  },
  {
   "cell_type": "markdown",
   "metadata": {},
   "source": [
    " "
   ]
  },
  {
   "cell_type": "markdown",
   "metadata": {
    "collapsed": true
   },
   "source": [
    "## Input and output spaces"
   ]
  },
  {
   "cell_type": "markdown",
   "metadata": {
    "collapsed": true
   },
   "source": [
    "We can understand the properties of linear transformations $T$, and their matrix representations $M_T$ in analogy with ordinary functions:\n",
    "\n",
    "\\begin{align*}\n",
    "    \\textrm{function } \n",
    "     f:\\mathbb{R}\\to \\mathbb{R}\n",
    "         & \\ \\Leftrightarrow \\,\n",
    "         \\begin{array}{l}\n",
    "    \\textrm{linear transformation } \n",
    "    T:\\mathbb{R}^{n}\\! \\to \\mathbb{R}^{m}\t\t \\\\\n",
    "    \\textrm{represented by the matrix } M_T \\in \\mathbb{R}^{m \\times n}\n",
    "    \\end{array} \\\\\n",
    "    %\n",
    "    \\textrm{input }  x\\in \\mathbb{R} \t\n",
    "         & \\ \\Leftrightarrow \\  \n",
    "        \\textrm{input }  \\vec{x} \\in \\mathbb{R}^n           \\\\\n",
    "    %\\textrm{compute } \n",
    "    \\textrm{output } f(x) \\in \\mathbb{R}\n",
    "         & \\ \\Leftrightarrow \\\n",
    "    %      \\textrm{compute matrix-vector product } \n",
    "     \\textrm{output }      T(\\vec{x}) \\equiv M_T\\vec{x} \\in \\mathbb{R}^m \\\\\n",
    "    %\\textrm{function composition  } \n",
    "    g\\circ\\! f \\: (x) =  g(f(x))\n",
    "         & \\ \\Leftrightarrow \\\n",
    "    %      \\textrm{matrix product } \n",
    "    S(T(\\vec{x})) \\equiv M_SM_T \\vec{x} \\\\\n",
    "    \\textrm{function inverse } f^{-1}\n",
    "         & \\ \\Leftrightarrow \\ \n",
    "          \\textrm{matrix inverse } M_T^{-1} \\\\\n",
    "    \\textrm{zeros of } f\n",
    "         & \\ \\Leftrightarrow \\\n",
    "          \\textrm{kernel of } T  \\equiv  \\textrm{null space of } M_T \\equiv \\mathcal{N}(A)  \\\\\n",
    "    \\textrm{image of } f\n",
    "         & \\ \\Leftrightarrow \\ \n",
    "             \\begin{array}{l}\n",
    "             \\textrm{image of } T \\equiv  \\textrm{column space of } M_T  \\equiv \\mathcal{C}(A) \n",
    "              \\end{array}\n",
    "\\end{align*}\n",
    "\n",
    "Observe we refer to the linear transformation $T$ and its matrix representation $M_T$ interchangeably."
   ]
  },
  {
   "cell_type": "markdown",
   "metadata": {},
   "source": [
    "## Finding matrix representations"
   ]
  },
  {
   "cell_type": "markdown",
   "metadata": {
    "collapsed": true
   },
   "source": [
    "page 234"
   ]
  },
  {
   "cell_type": "markdown",
   "metadata": {
    "collapsed": true
   },
   "source": [
    " "
   ]
  },
  {
   "cell_type": "markdown",
   "metadata": {
    "collapsed": true
   },
   "source": [
    "## Invertible matrix theorem \n",
    "\n",
    "page 250"
   ]
  },
  {
   "cell_type": "markdown",
   "metadata": {
    "collapsed": true
   },
   "source": [
    "  "
   ]
  },
  {
   "cell_type": "markdown",
   "metadata": {},
   "source": [
    "# 6/ Theoretical linear algebra"
   ]
  },
  {
   "cell_type": "markdown",
   "metadata": {},
   "source": [
    "## Eigenvalues and eigenvectors\n",
    "\n",
    "An eigenvector of the matirx $A$ is a special input vector, for which the matrix $A$ acts as a scaling:\n",
    "\n",
    "$$\n",
    "  A\\vec{e}_\\lambda = \\lambda\\vec{e}_\\lambda,\n",
    "$$\n",
    "\n",
    "where $\\lambda$ is called the *eigenvalue* and $\\vec{e}_\\lambda$ is the corresponding eigenvector."
   ]
  },
  {
   "cell_type": "code",
   "execution_count": 39,
   "metadata": {},
   "outputs": [
    {
     "data": {
      "image/png": "[encoded data removed]",
      "text/latex": [
       "$$\\left[\\begin{matrix}1 & 5\\\\5 & 1\\end{matrix}\\right]$$"
      ],
      "text/plain": [
       "⎡1  5⎤\n",
       "⎢    ⎥\n",
       "⎣5  1⎦"
      ]
     },
     "execution_count": 39,
     "metadata": {},
     "output_type": "execute_result"
    }
   ],
   "source": [
    "A = Matrix([[1, 5],\n",
    "            [5, 1]])\n",
    "A"
   ]
  },
  {
   "cell_type": "code",
   "execution_count": 40,
   "metadata": {},
   "outputs": [
    {
     "data": {
      "image/png": "[encoded data removed]",
      "text/latex": [
       "$$\\left[\\begin{matrix}1\\\\5\\end{matrix}\\right]$$"
      ],
      "text/plain": [
       "⎡1⎤\n",
       "⎢ ⎥\n",
       "⎣5⎦"
      ]
     },
     "execution_count": 40,
     "metadata": {},
     "output_type": "execute_result"
    }
   ],
   "source": [
    "A*Vector([1,0])"
   ]
  },
  {
   "cell_type": "code",
   "execution_count": 41,
   "metadata": {},
   "outputs": [
    {
     "data": {
      "image/png": "[encoded data removed]",
      "text/latex": [
       "$$\\left[\\begin{matrix}6\\\\6\\end{matrix}\\right]$$"
      ],
      "text/plain": [
       "⎡6⎤\n",
       "⎢ ⎥\n",
       "⎣6⎦"
      ]
     },
     "execution_count": 41,
     "metadata": {},
     "output_type": "execute_result"
    }
   ],
   "source": [
    "A*Vector([1,1])"
   ]
  },
  {
   "cell_type": "markdown",
   "metadata": {},
   "source": [
    "The *characterisitic polynomial* of the matrix $A$ is defined as \n",
    "\n",
    "$$\n",
    "  p(\\lambda) \\equiv \\det(A-\\lambda \\mathbb{1}).\n",
    "$$"
   ]
  },
  {
   "cell_type": "code",
   "execution_count": 42,
   "metadata": {},
   "outputs": [
    {
     "data": {
      "image/png": "[encoded data removed]",
      "text/latex": [
       "$$\\left(- \\lambda + 1\\right)^{2} - 25$$"
      ],
      "text/plain": [
       "        2     \n",
       "(-λ + 1)  - 25"
      ]
     },
     "execution_count": 42,
     "metadata": {},
     "output_type": "execute_result"
    }
   ],
   "source": [
    "l = symbols('lambda')\n",
    "(A-l*eye(2)).det()"
   ]
  },
  {
   "cell_type": "code",
   "execution_count": 43,
   "metadata": {},
   "outputs": [
    {
     "data": {
      "image/png": "[encoded data removed]",
      "text/latex": [
       "$$\\left [ -4, \\quad 6\\right ]$$"
      ],
      "text/plain": [
       "[-4, 6]"
      ]
     },
     "execution_count": 43,
     "metadata": {},
     "output_type": "execute_result"
    }
   ],
   "source": [
    "# the roots of the characteristic polynomial are the eigenvalues of A\n",
    "solve( (A-l*eye(2)).det(), l)"
   ]
  },
  {
   "cell_type": "code",
   "execution_count": 44,
   "metadata": {},
   "outputs": [
    {
     "data": {
      "image/png": "[encoded data removed]",
      "text/latex": [
       "$$\\left \\{ -4 : 1, \\quad 6 : 1\\right \\}$$"
      ],
      "text/plain": [
       "{-4: 1, 6: 1}"
      ]
     },
     "execution_count": 44,
     "metadata": {},
     "output_type": "execute_result"
    }
   ],
   "source": [
    "# or call `eigenvals` method\n",
    "A.eigenvals()"
   ]
  },
  {
   "cell_type": "code",
   "execution_count": 45,
   "metadata": {},
   "outputs": [
    {
     "data": {
      "image/png": "[encoded data removed]",
      "text/latex": [
       "$$\\left [ \\left ( -4, \\quad 1, \\quad \\left [ \\left[\\begin{matrix}-1\\\\1\\end{matrix}\\right]\\right ]\\right ), \\quad \\left ( 6, \\quad 1, \\quad \\left [ \\left[\\begin{matrix}1\\\\1\\end{matrix}\\right]\\right ]\\right )\\right ]$$"
      ],
      "text/plain": [
       "⎡⎛       ⎡⎡-1⎤⎤⎞  ⎛      ⎡⎡1⎤⎤⎞⎤\n",
       "⎢⎜-4, 1, ⎢⎢  ⎥⎥⎟, ⎜6, 1, ⎢⎢ ⎥⎥⎟⎥\n",
       "⎣⎝       ⎣⎣1 ⎦⎦⎠  ⎝      ⎣⎣1⎦⎦⎠⎦"
      ]
     },
     "execution_count": 45,
     "metadata": {},
     "output_type": "execute_result"
    }
   ],
   "source": [
    "A.eigenvects()\n",
    "# can also find eigenvects using (A-6*eye(2)).nullspace() and (A+4*eye(2)).nullspace()"
   ]
  },
  {
   "cell_type": "code",
   "execution_count": 46,
   "metadata": {},
   "outputs": [
    {
     "data": {
      "image/png": "[encoded data removed]",
      "text/latex": [
       "$$\\left ( \\left[\\begin{matrix}-1 & 1\\\\1 & 1\\end{matrix}\\right], \\quad \\left[\\begin{matrix}-4 & 0\\\\0 & 6\\end{matrix}\\right]\\right )$$"
      ],
      "text/plain": [
       "⎛⎡-1  1⎤  ⎡-4  0⎤⎞\n",
       "⎜⎢     ⎥, ⎢     ⎥⎟\n",
       "⎝⎣1   1⎦  ⎣0   6⎦⎠"
      ]
     },
     "execution_count": 46,
     "metadata": {},
     "output_type": "execute_result"
    }
   ],
   "source": [
    "Q, Lambda = A.diagonalize()\n",
    "Q, Lambda"
   ]
  },
  {
   "cell_type": "code",
   "execution_count": 47,
   "metadata": {},
   "outputs": [
    {
     "data": {
      "image/png": "[encoded data removed]",
      "text/latex": [
       "$$\\left[\\begin{matrix}1 & 5\\\\5 & 1\\end{matrix}\\right]$$"
      ],
      "text/plain": [
       "⎡1  5⎤\n",
       "⎢    ⎥\n",
       "⎣5  1⎦"
      ]
     },
     "execution_count": 47,
     "metadata": {},
     "output_type": "execute_result"
    }
   ],
   "source": [
    "Q*Lambda*Q.inv()  # == eigendecomposition of A "
   ]
  },
  {
   "cell_type": "markdown",
   "metadata": {},
   "source": [
    " "
   ]
  },
  {
   "cell_type": "markdown",
   "metadata": {},
   "source": [
    "## Special types of matrices"
   ]
  },
  {
   "cell_type": "markdown",
   "metadata": {
    "collapsed": true
   },
   "source": [
    "page 271"
   ]
  },
  {
   "cell_type": "markdown",
   "metadata": {
    "collapsed": true
   },
   "source": [
    " "
   ]
  },
  {
   "cell_type": "markdown",
   "metadata": {},
   "source": [
    "## Abstract vectors paces"
   ]
  },
  {
   "cell_type": "markdown",
   "metadata": {
    "collapsed": true
   },
   "source": [
    "Generalize vector techniques to other vector like quantities. Allow us to talk about basis, dimention, etc.\n",
    "\n",
    "page 277"
   ]
  },
  {
   "cell_type": "markdown",
   "metadata": {
    "collapsed": true
   },
   "source": [
    " "
   ]
  },
  {
   "cell_type": "markdown",
   "metadata": {},
   "source": [
    "## Abstract inner product spaces"
   ]
  },
  {
   "cell_type": "markdown",
   "metadata": {
    "collapsed": true
   },
   "source": [
    "Use geometrical notions like length and orthogonaloty for abstract vectors.\n",
    "\n",
    "page 281"
   ]
  },
  {
   "cell_type": "markdown",
   "metadata": {
    "collapsed": true
   },
   "source": [
    " "
   ]
  },
  {
   "cell_type": "markdown",
   "metadata": {},
   "source": [
    "## Gram–Schmidt orthogonalization"
   ]
  },
  {
   "cell_type": "markdown",
   "metadata": {
    "collapsed": true
   },
   "source": [
    "page 288"
   ]
  },
  {
   "cell_type": "markdown",
   "metadata": {},
   "source": [
    " "
   ]
  },
  {
   "cell_type": "markdown",
   "metadata": {},
   "source": [
    "## Matrix decompositions"
   ]
  },
  {
   "cell_type": "markdown",
   "metadata": {
    "collapsed": true
   },
   "source": [
    "page 292"
   ]
  },
  {
   "cell_type": "markdown",
   "metadata": {
    "collapsed": true
   },
   "source": [
    " "
   ]
  },
  {
   "cell_type": "markdown",
   "metadata": {},
   "source": [
    "## Linear algebra with complex numbers"
   ]
  },
  {
   "cell_type": "markdown",
   "metadata": {
    "collapsed": true
   },
   "source": [
    "page 298"
   ]
  },
  {
   "cell_type": "markdown",
   "metadata": {
    "collapsed": true
   },
   "source": [
    " "
   ]
  },
  {
   "cell_type": "markdown",
   "metadata": {},
   "source": [
    "# Applications"
   ]
  },
  {
   "cell_type": "markdown",
   "metadata": {
    "collapsed": true
   },
   "source": [
    "  - Chapter 7: General applications\n",
    "  - Chapter 8: Probability theory\n",
    "  - Chapter 9: Quantum mechanics"
   ]
  },
  {
   "cell_type": "markdown",
   "metadata": {
    "collapsed": true
   },
   "source": [
    " "
   ]
  },
  {
   "cell_type": "markdown",
   "metadata": {},
   "source": [
    "# Notation appendix"
   ]
  },
  {
   "cell_type": "markdown",
   "metadata": {
    "collapsed": true
   },
   "source": [
    "Check out page 499 for notation."
   ]
  },
  {
   "cell_type": "markdown",
   "metadata": {
    "collapsed": true
   },
   "source": [
    " "
   ]
  }
 ],
 "metadata": {
  "kernelspec": {
   "display_name": "Python 3",
   "language": "python",
   "name": "python3"
  },
  "language_info": {
   "codemirror_mode": {
    "name": "ipython",
    "version": 3
   },
   "file_extension": ".py",
   "mimetype": "text/x-python",
   "name": "python",
   "nbconvert_exporter": "python",
   "pygments_lexer": "ipython3",
   "version": "3.6.5"
  },
  "widgets": {
   "state": {},
   "version": "1.1.1"
  }
 },
 "nbformat": 4,
 "nbformat_minor": 1
}
